{
 "cells": [
  {
   "cell_type": "markdown",
   "metadata": {
    "deletable": false,
    "editable": false,
    "nbgrader": {
     "cell_type": "markdown",
     "checksum": "0cd7ad929261440d153515afd2490828",
     "grade": false,
     "grade_id": "cell-527644fb96adfa99",
     "locked": true,
     "schema_version": 3,
     "solution": false,
     "task": false
    }
   },
   "source": [
    "<img src=\"Archivos/miad4.png\" width=800x>\n",
    "\n",
    "## Interactividad usando `panel`\n",
    "\n",
    "En este taller podrás poner en práctica los conceptos aprendidos acerca del uso del paquete `panel`. Usarás `panel` con el fin de crear dashboards como herramienta de apoyo al momento de resolver problemas específicos en un contexto de Analytics.\n",
    "\n",
    "Instrucciones y condiciones generales: Esta es una actividad calificada y, por lo tanto, debe ser resuelta individualmente.\n",
    "\n",
    "### Al desarrollar este taller podrás verificar tu progreso en:\n",
    "\n",
    "1. Programar la funcionalidad de un dashboard en `panel`.\n",
    "2. Agregar gráficos y widgets para hacer visualizaciones agradables en `panel`.\n",
    "3. Personalizar dashobards para generar distintas visualizaciones interactivas en `panel`."
   ]
  },
  {
   "cell_type": "code",
   "execution_count": 115,
   "metadata": {
    "deletable": false,
    "editable": false,
    "nbgrader": {
     "cell_type": "code",
     "checksum": "826d4451748dd39666ebecec182c8cc9",
     "grade": false,
     "grade_id": "cell-6bdba9554ed8d133",
     "locked": true,
     "schema_version": 3,
     "solution": false,
     "task": false
    }
   },
   "outputs": [
    {
     "data": {
      "application/javascript": [
       "\n",
       "(function(root) {\n",
       "  function now() {\n",
       "    return new Date();\n",
       "  }\n",
       "\n",
       "  var force = true;\n",
       "\n",
       "  if (typeof root._bokeh_onload_callbacks === \"undefined\" || force === true) {\n",
       "    root._bokeh_onload_callbacks = [];\n",
       "    root._bokeh_is_loading = undefined;\n",
       "  }\n",
       "\n",
       "  if (typeof (root._bokeh_timeout) === \"undefined\" || force === true) {\n",
       "    root._bokeh_timeout = Date.now() + 5000;\n",
       "    root._bokeh_failed_load = false;\n",
       "  }\n",
       "\n",
       "  function run_callbacks() {\n",
       "    try {\n",
       "      root._bokeh_onload_callbacks.forEach(function(callback) {\n",
       "        if (callback != null)\n",
       "          callback();\n",
       "      });\n",
       "    } finally {\n",
       "      delete root._bokeh_onload_callbacks\n",
       "    }\n",
       "    console.debug(\"Bokeh: all callbacks have finished\");\n",
       "  }\n",
       "\n",
       "  function load_libs(css_urls, js_urls, js_modules, callback) {\n",
       "    if (css_urls == null) css_urls = [];\n",
       "    if (js_urls == null) js_urls = [];\n",
       "    if (js_modules == null) js_modules = [];\n",
       "\n",
       "    root._bokeh_onload_callbacks.push(callback);\n",
       "    if (root._bokeh_is_loading > 0) {\n",
       "      console.debug(\"Bokeh: BokehJS is being loaded, scheduling callback at\", now());\n",
       "      return null;\n",
       "    }\n",
       "    if (js_urls.length === 0 && js_modules.length === 0) {\n",
       "      run_callbacks();\n",
       "      return null;\n",
       "    }\n",
       "    console.debug(\"Bokeh: BokehJS not loaded, scheduling load and callback at\", now());\n",
       "    root._bokeh_is_loading = css_urls.length + js_urls.length + js_modules.length;\n",
       "\n",
       "    function on_load() {\n",
       "      root._bokeh_is_loading--;\n",
       "      if (root._bokeh_is_loading === 0) {\n",
       "        console.debug(\"Bokeh: all BokehJS libraries/stylesheets loaded\");\n",
       "        run_callbacks()\n",
       "      }\n",
       "    }\n",
       "\n",
       "    function on_error() {\n",
       "      console.error(\"failed to load \" + url);\n",
       "    }\n",
       "\n",
       "    for (var i = 0; i < css_urls.length; i++) {\n",
       "      var url = css_urls[i];\n",
       "      const element = document.createElement(\"link\");\n",
       "      element.onload = on_load;\n",
       "      element.onerror = on_error;\n",
       "      element.rel = \"stylesheet\";\n",
       "      element.type = \"text/css\";\n",
       "      element.href = url;\n",
       "      console.debug(\"Bokeh: injecting link tag for BokehJS stylesheet: \", url);\n",
       "      document.body.appendChild(element);\n",
       "    }\n",
       "\n",
       "    var skip = [];\n",
       "    if (window.requirejs) {\n",
       "      window.requirejs.config({'packages': {}, 'paths': {'plotly': 'https://cdn.plot.ly/plotly-latest.min'}, 'shim': {}});\n",
       "      \n",
       "      require([\"plotly\"], function(Plotly) {\n",
       "\twindow.Plotly = Plotly\n",
       "      })\n",
       "      \n",
       "    }\n",
       "    if (((window['Plotly'] !== undefined) && (!(window['Plotly'] instanceof HTMLElement))) || window.requirejs) {\n",
       "      var urls = ['https://cdn.plot.ly/plotly-latest.min.js'];\n",
       "      for (var i = 0; i < urls.length; i++) {\n",
       "        skip.push(urls[i])\n",
       "      }\n",
       "    }\n",
       "    for (var i = 0; i < js_urls.length; i++) {\n",
       "      var url = js_urls[i];\n",
       "      if (skip.indexOf(url) >= 0) { on_load(); continue; }\n",
       "      var element = document.createElement('script');\n",
       "      element.onload = on_load;\n",
       "      element.onerror = on_error;\n",
       "      element.async = false;\n",
       "      element.src = url;\n",
       "      console.debug(\"Bokeh: injecting script tag for BokehJS library: \", url);\n",
       "      document.head.appendChild(element);\n",
       "    }\n",
       "    for (var i = 0; i < js_modules.length; i++) {\n",
       "      var url = js_modules[i];\n",
       "      if (skip.indexOf(url) >= 0) { on_load(); continue; }\n",
       "      var element = document.createElement('script');\n",
       "      element.onload = on_load;\n",
       "      element.onerror = on_error;\n",
       "      element.async = false;\n",
       "      element.src = url;\n",
       "      element.type = \"module\";\n",
       "      console.debug(\"Bokeh: injecting script tag for BokehJS library: \", url);\n",
       "      document.head.appendChild(element);\n",
       "    }\n",
       "    if (!js_urls.length && !js_modules.length) {\n",
       "      on_load()\n",
       "    }\n",
       "  };\n",
       "\n",
       "  function inject_raw_css(css) {\n",
       "    const element = document.createElement(\"style\");\n",
       "    element.appendChild(document.createTextNode(css));\n",
       "    document.body.appendChild(element);\n",
       "  }\n",
       "\n",
       "  var js_urls = [\"https://code.jquery.com/jquery-3.4.1.min.js\", \"https://cdn.plot.ly/plotly-latest.min.js\", \"https://cdn.bokeh.org/bokeh/release/bokeh-2.4.1.min.js\", \"https://cdn.bokeh.org/bokeh/release/bokeh-gl-2.4.1.min.js\", \"https://cdn.bokeh.org/bokeh/release/bokeh-widgets-2.4.1.min.js\", \"https://cdn.bokeh.org/bokeh/release/bokeh-tables-2.4.1.min.js\", \"https://cdn.bokeh.org/bokeh/release/bokeh-mathjax-2.4.1.min.js\", \"https://unpkg.com/@holoviz/panel@0.12.4/dist/panel.min.js\"];\n",
       "  var js_modules = [];\n",
       "  var css_urls = [\"https://unpkg.com/@holoviz/panel@0.12.4/dist/css/alerts.css\", \"https://unpkg.com/@holoviz/panel@0.12.4/dist/css/card.css\", \"https://unpkg.com/@holoviz/panel@0.12.4/dist/css/dataframe.css\", \"https://unpkg.com/@holoviz/panel@0.12.4/dist/css/json.css\", \"https://unpkg.com/@holoviz/panel@0.12.4/dist/css/loading.css\", \"https://unpkg.com/@holoviz/panel@0.12.4/dist/css/markdown.css\", \"https://unpkg.com/@holoviz/panel@0.12.4/dist/css/widgets.css\"];\n",
       "  var inline_js = [\n",
       "    function(Bokeh) {\n",
       "      inject_raw_css(\"\\n    .bk.pn-loading.arcs:before {\\n      background-image: url(\\\"data:image/svg+xml;base64,PHN2ZyB4bWxucz0iaHR0cDovL3d3dy53My5vcmcvMjAwMC9zdmciIHhtbG5zOnhsaW5rPSJodHRwOi8vd3d3LnczLm9yZy8xOTk5L3hsaW5rIiBzdHlsZT0ibWFyZ2luOiBhdXRvOyBiYWNrZ3JvdW5kOiBub25lOyBkaXNwbGF5OiBibG9jazsgc2hhcGUtcmVuZGVyaW5nOiBhdXRvOyIgdmlld0JveD0iMCAwIDEwMCAxMDAiIHByZXNlcnZlQXNwZWN0UmF0aW89InhNaWRZTWlkIj4gIDxjaXJjbGUgY3g9IjUwIiBjeT0iNTAiIHI9IjMyIiBzdHJva2Utd2lkdGg9IjgiIHN0cm9rZT0iI2MzYzNjMyIgc3Ryb2tlLWRhc2hhcnJheT0iNTAuMjY1NDgyNDU3NDM2NjkgNTAuMjY1NDgyNDU3NDM2NjkiIGZpbGw9Im5vbmUiIHN0cm9rZS1saW5lY2FwPSJyb3VuZCI+ICAgIDxhbmltYXRlVHJhbnNmb3JtIGF0dHJpYnV0ZU5hbWU9InRyYW5zZm9ybSIgdHlwZT0icm90YXRlIiByZXBlYXRDb3VudD0iaW5kZWZpbml0ZSIgZHVyPSIxcyIga2V5VGltZXM9IjA7MSIgdmFsdWVzPSIwIDUwIDUwOzM2MCA1MCA1MCI+PC9hbmltYXRlVHJhbnNmb3JtPiAgPC9jaXJjbGU+PC9zdmc+\\\")\\n    }\\n    \");\n",
       "    },\n",
       "    function(Bokeh) {\n",
       "      Bokeh.set_log_level(\"info\");\n",
       "    },\n",
       "    function(Bokeh) {} // ensure no trailing comma for IE\n",
       "  ];\n",
       "\n",
       "  function run_inline_js() {\n",
       "    if ((root.Bokeh !== undefined) || (force === true)) {\n",
       "      for (var i = 0; i < inline_js.length; i++) {\n",
       "        inline_js[i].call(root, root.Bokeh);\n",
       "      }} else if (Date.now() < root._bokeh_timeout) {\n",
       "      setTimeout(run_inline_js, 100);\n",
       "    } else if (!root._bokeh_failed_load) {\n",
       "      console.log(\"Bokeh: BokehJS failed to load within specified timeout.\");\n",
       "      root._bokeh_failed_load = true;\n",
       "    }\n",
       "  }\n",
       "\n",
       "  if (root._bokeh_is_loading === 0) {\n",
       "    console.debug(\"Bokeh: BokehJS loaded, going straight to plotting\");\n",
       "    run_inline_js();\n",
       "  } else {\n",
       "    load_libs(css_urls, js_urls, js_modules, function() {\n",
       "      console.debug(\"Bokeh: BokehJS plotting callback run at\", now());\n",
       "      run_inline_js();\n",
       "    });\n",
       "  }\n",
       "}(window));"
      ],
      "application/vnd.holoviews_load.v0+json": "\n(function(root) {\n  function now() {\n    return new Date();\n  }\n\n  var force = true;\n\n  if (typeof root._bokeh_onload_callbacks === \"undefined\" || force === true) {\n    root._bokeh_onload_callbacks = [];\n    root._bokeh_is_loading = undefined;\n  }\n\n  if (typeof (root._bokeh_timeout) === \"undefined\" || force === true) {\n    root._bokeh_timeout = Date.now() + 5000;\n    root._bokeh_failed_load = false;\n  }\n\n  function run_callbacks() {\n    try {\n      root._bokeh_onload_callbacks.forEach(function(callback) {\n        if (callback != null)\n          callback();\n      });\n    } finally {\n      delete root._bokeh_onload_callbacks\n    }\n    console.debug(\"Bokeh: all callbacks have finished\");\n  }\n\n  function load_libs(css_urls, js_urls, js_modules, callback) {\n    if (css_urls == null) css_urls = [];\n    if (js_urls == null) js_urls = [];\n    if (js_modules == null) js_modules = [];\n\n    root._bokeh_onload_callbacks.push(callback);\n    if (root._bokeh_is_loading > 0) {\n      console.debug(\"Bokeh: BokehJS is being loaded, scheduling callback at\", now());\n      return null;\n    }\n    if (js_urls.length === 0 && js_modules.length === 0) {\n      run_callbacks();\n      return null;\n    }\n    console.debug(\"Bokeh: BokehJS not loaded, scheduling load and callback at\", now());\n    root._bokeh_is_loading = css_urls.length + js_urls.length + js_modules.length;\n\n    function on_load() {\n      root._bokeh_is_loading--;\n      if (root._bokeh_is_loading === 0) {\n        console.debug(\"Bokeh: all BokehJS libraries/stylesheets loaded\");\n        run_callbacks()\n      }\n    }\n\n    function on_error() {\n      console.error(\"failed to load \" + url);\n    }\n\n    for (var i = 0; i < css_urls.length; i++) {\n      var url = css_urls[i];\n      const element = document.createElement(\"link\");\n      element.onload = on_load;\n      element.onerror = on_error;\n      element.rel = \"stylesheet\";\n      element.type = \"text/css\";\n      element.href = url;\n      console.debug(\"Bokeh: injecting link tag for BokehJS stylesheet: \", url);\n      document.body.appendChild(element);\n    }\n\n    var skip = [];\n    if (window.requirejs) {\n      window.requirejs.config({'packages': {}, 'paths': {'plotly': 'https://cdn.plot.ly/plotly-latest.min'}, 'shim': {}});\n      \n      require([\"plotly\"], function(Plotly) {\n\twindow.Plotly = Plotly\n      })\n      \n    }\n    if (((window['Plotly'] !== undefined) && (!(window['Plotly'] instanceof HTMLElement))) || window.requirejs) {\n      var urls = ['https://cdn.plot.ly/plotly-latest.min.js'];\n      for (var i = 0; i < urls.length; i++) {\n        skip.push(urls[i])\n      }\n    }\n    for (var i = 0; i < js_urls.length; i++) {\n      var url = js_urls[i];\n      if (skip.indexOf(url) >= 0) { on_load(); continue; }\n      var element = document.createElement('script');\n      element.onload = on_load;\n      element.onerror = on_error;\n      element.async = false;\n      element.src = url;\n      console.debug(\"Bokeh: injecting script tag for BokehJS library: \", url);\n      document.head.appendChild(element);\n    }\n    for (var i = 0; i < js_modules.length; i++) {\n      var url = js_modules[i];\n      if (skip.indexOf(url) >= 0) { on_load(); continue; }\n      var element = document.createElement('script');\n      element.onload = on_load;\n      element.onerror = on_error;\n      element.async = false;\n      element.src = url;\n      element.type = \"module\";\n      console.debug(\"Bokeh: injecting script tag for BokehJS library: \", url);\n      document.head.appendChild(element);\n    }\n    if (!js_urls.length && !js_modules.length) {\n      on_load()\n    }\n  };\n\n  function inject_raw_css(css) {\n    const element = document.createElement(\"style\");\n    element.appendChild(document.createTextNode(css));\n    document.body.appendChild(element);\n  }\n\n  var js_urls = [\"https://code.jquery.com/jquery-3.4.1.min.js\", \"https://cdn.plot.ly/plotly-latest.min.js\", \"https://cdn.bokeh.org/bokeh/release/bokeh-2.4.1.min.js\", \"https://cdn.bokeh.org/bokeh/release/bokeh-gl-2.4.1.min.js\", \"https://cdn.bokeh.org/bokeh/release/bokeh-widgets-2.4.1.min.js\", \"https://cdn.bokeh.org/bokeh/release/bokeh-tables-2.4.1.min.js\", \"https://cdn.bokeh.org/bokeh/release/bokeh-mathjax-2.4.1.min.js\", \"https://unpkg.com/@holoviz/panel@0.12.4/dist/panel.min.js\"];\n  var js_modules = [];\n  var css_urls = [\"https://unpkg.com/@holoviz/panel@0.12.4/dist/css/alerts.css\", \"https://unpkg.com/@holoviz/panel@0.12.4/dist/css/card.css\", \"https://unpkg.com/@holoviz/panel@0.12.4/dist/css/dataframe.css\", \"https://unpkg.com/@holoviz/panel@0.12.4/dist/css/json.css\", \"https://unpkg.com/@holoviz/panel@0.12.4/dist/css/loading.css\", \"https://unpkg.com/@holoviz/panel@0.12.4/dist/css/markdown.css\", \"https://unpkg.com/@holoviz/panel@0.12.4/dist/css/widgets.css\"];\n  var inline_js = [\n    function(Bokeh) {\n      inject_raw_css(\"\\n    .bk.pn-loading.arcs:before {\\n      background-image: url(\\\"data:image/svg+xml;base64,PHN2ZyB4bWxucz0iaHR0cDovL3d3dy53My5vcmcvMjAwMC9zdmciIHhtbG5zOnhsaW5rPSJodHRwOi8vd3d3LnczLm9yZy8xOTk5L3hsaW5rIiBzdHlsZT0ibWFyZ2luOiBhdXRvOyBiYWNrZ3JvdW5kOiBub25lOyBkaXNwbGF5OiBibG9jazsgc2hhcGUtcmVuZGVyaW5nOiBhdXRvOyIgdmlld0JveD0iMCAwIDEwMCAxMDAiIHByZXNlcnZlQXNwZWN0UmF0aW89InhNaWRZTWlkIj4gIDxjaXJjbGUgY3g9IjUwIiBjeT0iNTAiIHI9IjMyIiBzdHJva2Utd2lkdGg9IjgiIHN0cm9rZT0iI2MzYzNjMyIgc3Ryb2tlLWRhc2hhcnJheT0iNTAuMjY1NDgyNDU3NDM2NjkgNTAuMjY1NDgyNDU3NDM2NjkiIGZpbGw9Im5vbmUiIHN0cm9rZS1saW5lY2FwPSJyb3VuZCI+ICAgIDxhbmltYXRlVHJhbnNmb3JtIGF0dHJpYnV0ZU5hbWU9InRyYW5zZm9ybSIgdHlwZT0icm90YXRlIiByZXBlYXRDb3VudD0iaW5kZWZpbml0ZSIgZHVyPSIxcyIga2V5VGltZXM9IjA7MSIgdmFsdWVzPSIwIDUwIDUwOzM2MCA1MCA1MCI+PC9hbmltYXRlVHJhbnNmb3JtPiAgPC9jaXJjbGU+PC9zdmc+\\\")\\n    }\\n    \");\n    },\n    function(Bokeh) {\n      Bokeh.set_log_level(\"info\");\n    },\n    function(Bokeh) {} // ensure no trailing comma for IE\n  ];\n\n  function run_inline_js() {\n    if ((root.Bokeh !== undefined) || (force === true)) {\n      for (var i = 0; i < inline_js.length; i++) {\n        inline_js[i].call(root, root.Bokeh);\n      }} else if (Date.now() < root._bokeh_timeout) {\n      setTimeout(run_inline_js, 100);\n    } else if (!root._bokeh_failed_load) {\n      console.log(\"Bokeh: BokehJS failed to load within specified timeout.\");\n      root._bokeh_failed_load = true;\n    }\n  }\n\n  if (root._bokeh_is_loading === 0) {\n    console.debug(\"Bokeh: BokehJS loaded, going straight to plotting\");\n    run_inline_js();\n  } else {\n    load_libs(css_urls, js_urls, js_modules, function() {\n      console.debug(\"Bokeh: BokehJS plotting callback run at\", now());\n      run_inline_js();\n    });\n  }\n}(window));"
     },
     "metadata": {},
     "output_type": "display_data"
    },
    {
     "data": {
      "application/javascript": [
       "\n",
       "if ((window.PyViz === undefined) || (window.PyViz instanceof HTMLElement)) {\n",
       "  window.PyViz = {comms: {}, comm_status:{}, kernels:{}, receivers: {}, plot_index: []}\n",
       "}\n",
       "\n",
       "\n",
       "    function JupyterCommManager() {\n",
       "    }\n",
       "\n",
       "    JupyterCommManager.prototype.register_target = function(plot_id, comm_id, msg_handler) {\n",
       "      if (window.comm_manager || ((window.Jupyter !== undefined) && (Jupyter.notebook.kernel != null))) {\n",
       "        var comm_manager = window.comm_manager || Jupyter.notebook.kernel.comm_manager;\n",
       "        comm_manager.register_target(comm_id, function(comm) {\n",
       "          comm.on_msg(msg_handler);\n",
       "        });\n",
       "      } else if ((plot_id in window.PyViz.kernels) && (window.PyViz.kernels[plot_id])) {\n",
       "        window.PyViz.kernels[plot_id].registerCommTarget(comm_id, function(comm) {\n",
       "          comm.onMsg = msg_handler;\n",
       "        });\n",
       "      } else if (typeof google != 'undefined' && google.colab.kernel != null) {\n",
       "        google.colab.kernel.comms.registerTarget(comm_id, (comm) => {\n",
       "          var messages = comm.messages[Symbol.asyncIterator]();\n",
       "          function processIteratorResult(result) {\n",
       "            var message = result.value;\n",
       "            console.log(message)\n",
       "            var content = {data: message.data, comm_id};\n",
       "            var buffers = []\n",
       "            for (var buffer of message.buffers || []) {\n",
       "              buffers.push(new DataView(buffer))\n",
       "            }\n",
       "            var metadata = message.metadata || {};\n",
       "            var msg = {content, buffers, metadata}\n",
       "            msg_handler(msg);\n",
       "            return messages.next().then(processIteratorResult);\n",
       "          }\n",
       "          return messages.next().then(processIteratorResult);\n",
       "        })\n",
       "      }\n",
       "    }\n",
       "\n",
       "    JupyterCommManager.prototype.get_client_comm = function(plot_id, comm_id, msg_handler) {\n",
       "      if (comm_id in window.PyViz.comms) {\n",
       "        return window.PyViz.comms[comm_id];\n",
       "      } else if (window.comm_manager || ((window.Jupyter !== undefined) && (Jupyter.notebook.kernel != null))) {\n",
       "        var comm_manager = window.comm_manager || Jupyter.notebook.kernel.comm_manager;\n",
       "        var comm = comm_manager.new_comm(comm_id, {}, {}, {}, comm_id);\n",
       "        if (msg_handler) {\n",
       "          comm.on_msg(msg_handler);\n",
       "        }\n",
       "      } else if ((plot_id in window.PyViz.kernels) && (window.PyViz.kernels[plot_id])) {\n",
       "        var comm = window.PyViz.kernels[plot_id].connectToComm(comm_id);\n",
       "        comm.open();\n",
       "        if (msg_handler) {\n",
       "          comm.onMsg = msg_handler;\n",
       "        }\n",
       "      } else if (typeof google != 'undefined' && google.colab.kernel != null) {\n",
       "        var comm_promise = google.colab.kernel.comms.open(comm_id)\n",
       "        comm_promise.then((comm) => {\n",
       "          window.PyViz.comms[comm_id] = comm;\n",
       "          if (msg_handler) {\n",
       "            var messages = comm.messages[Symbol.asyncIterator]();\n",
       "            function processIteratorResult(result) {\n",
       "              var message = result.value;\n",
       "              var content = {data: message.data};\n",
       "              var metadata = message.metadata || {comm_id};\n",
       "              var msg = {content, metadata}\n",
       "              msg_handler(msg);\n",
       "              return messages.next().then(processIteratorResult);\n",
       "            }\n",
       "            return messages.next().then(processIteratorResult);\n",
       "          }\n",
       "        }) \n",
       "        var sendClosure = (data, metadata, buffers, disposeOnDone) => {\n",
       "          return comm_promise.then((comm) => {\n",
       "            comm.send(data, metadata, buffers, disposeOnDone);\n",
       "          });\n",
       "        };\n",
       "        var comm = {\n",
       "          send: sendClosure\n",
       "        };\n",
       "      }\n",
       "      window.PyViz.comms[comm_id] = comm;\n",
       "      return comm;\n",
       "    }\n",
       "    window.PyViz.comm_manager = new JupyterCommManager();\n",
       "    \n",
       "\n",
       "\n",
       "var JS_MIME_TYPE = 'application/javascript';\n",
       "var HTML_MIME_TYPE = 'text/html';\n",
       "var EXEC_MIME_TYPE = 'application/vnd.holoviews_exec.v0+json';\n",
       "var CLASS_NAME = 'output';\n",
       "\n",
       "/**\n",
       " * Render data to the DOM node\n",
       " */\n",
       "function render(props, node) {\n",
       "  var div = document.createElement(\"div\");\n",
       "  var script = document.createElement(\"script\");\n",
       "  node.appendChild(div);\n",
       "  node.appendChild(script);\n",
       "}\n",
       "\n",
       "/**\n",
       " * Handle when a new output is added\n",
       " */\n",
       "function handle_add_output(event, handle) {\n",
       "  var output_area = handle.output_area;\n",
       "  var output = handle.output;\n",
       "  if ((output.data == undefined) || (!output.data.hasOwnProperty(EXEC_MIME_TYPE))) {\n",
       "    return\n",
       "  }\n",
       "  var id = output.metadata[EXEC_MIME_TYPE][\"id\"];\n",
       "  var toinsert = output_area.element.find(\".\" + CLASS_NAME.split(' ')[0]);\n",
       "  if (id !== undefined) {\n",
       "    var nchildren = toinsert.length;\n",
       "    var html_node = toinsert[nchildren-1].children[0];\n",
       "    html_node.innerHTML = output.data[HTML_MIME_TYPE];\n",
       "    var scripts = [];\n",
       "    var nodelist = html_node.querySelectorAll(\"script\");\n",
       "    for (var i in nodelist) {\n",
       "      if (nodelist.hasOwnProperty(i)) {\n",
       "        scripts.push(nodelist[i])\n",
       "      }\n",
       "    }\n",
       "\n",
       "    scripts.forEach( function (oldScript) {\n",
       "      var newScript = document.createElement(\"script\");\n",
       "      var attrs = [];\n",
       "      var nodemap = oldScript.attributes;\n",
       "      for (var j in nodemap) {\n",
       "        if (nodemap.hasOwnProperty(j)) {\n",
       "          attrs.push(nodemap[j])\n",
       "        }\n",
       "      }\n",
       "      attrs.forEach(function(attr) { newScript.setAttribute(attr.name, attr.value) });\n",
       "      newScript.appendChild(document.createTextNode(oldScript.innerHTML));\n",
       "      oldScript.parentNode.replaceChild(newScript, oldScript);\n",
       "    });\n",
       "    if (JS_MIME_TYPE in output.data) {\n",
       "      toinsert[nchildren-1].children[1].textContent = output.data[JS_MIME_TYPE];\n",
       "    }\n",
       "    output_area._hv_plot_id = id;\n",
       "    if ((window.Bokeh !== undefined) && (id in Bokeh.index)) {\n",
       "      window.PyViz.plot_index[id] = Bokeh.index[id];\n",
       "    } else {\n",
       "      window.PyViz.plot_index[id] = null;\n",
       "    }\n",
       "  } else if (output.metadata[EXEC_MIME_TYPE][\"server_id\"] !== undefined) {\n",
       "    var bk_div = document.createElement(\"div\");\n",
       "    bk_div.innerHTML = output.data[HTML_MIME_TYPE];\n",
       "    var script_attrs = bk_div.children[0].attributes;\n",
       "    for (var i = 0; i < script_attrs.length; i++) {\n",
       "      toinsert[toinsert.length - 1].childNodes[1].setAttribute(script_attrs[i].name, script_attrs[i].value);\n",
       "    }\n",
       "    // store reference to server id on output_area\n",
       "    output_area._bokeh_server_id = output.metadata[EXEC_MIME_TYPE][\"server_id\"];\n",
       "  }\n",
       "}\n",
       "\n",
       "/**\n",
       " * Handle when an output is cleared or removed\n",
       " */\n",
       "function handle_clear_output(event, handle) {\n",
       "  var id = handle.cell.output_area._hv_plot_id;\n",
       "  var server_id = handle.cell.output_area._bokeh_server_id;\n",
       "  if (((id === undefined) || !(id in PyViz.plot_index)) && (server_id !== undefined)) { return; }\n",
       "  var comm = window.PyViz.comm_manager.get_client_comm(\"hv-extension-comm\", \"hv-extension-comm\", function () {});\n",
       "  if (server_id !== null) {\n",
       "    comm.send({event_type: 'server_delete', 'id': server_id});\n",
       "    return;\n",
       "  } else if (comm !== null) {\n",
       "    comm.send({event_type: 'delete', 'id': id});\n",
       "  }\n",
       "  delete PyViz.plot_index[id];\n",
       "  if ((window.Bokeh !== undefined) & (id in window.Bokeh.index)) {\n",
       "    var doc = window.Bokeh.index[id].model.document\n",
       "    doc.clear();\n",
       "    const i = window.Bokeh.documents.indexOf(doc);\n",
       "    if (i > -1) {\n",
       "      window.Bokeh.documents.splice(i, 1);\n",
       "    }\n",
       "  }\n",
       "}\n",
       "\n",
       "/**\n",
       " * Handle kernel restart event\n",
       " */\n",
       "function handle_kernel_cleanup(event, handle) {\n",
       "  delete PyViz.comms[\"hv-extension-comm\"];\n",
       "  window.PyViz.plot_index = {}\n",
       "}\n",
       "\n",
       "/**\n",
       " * Handle update_display_data messages\n",
       " */\n",
       "function handle_update_output(event, handle) {\n",
       "  handle_clear_output(event, {cell: {output_area: handle.output_area}})\n",
       "  handle_add_output(event, handle)\n",
       "}\n",
       "\n",
       "function register_renderer(events, OutputArea) {\n",
       "  function append_mime(data, metadata, element) {\n",
       "    // create a DOM node to render to\n",
       "    var toinsert = this.create_output_subarea(\n",
       "    metadata,\n",
       "    CLASS_NAME,\n",
       "    EXEC_MIME_TYPE\n",
       "    );\n",
       "    this.keyboard_manager.register_events(toinsert);\n",
       "    // Render to node\n",
       "    var props = {data: data, metadata: metadata[EXEC_MIME_TYPE]};\n",
       "    render(props, toinsert[0]);\n",
       "    element.append(toinsert);\n",
       "    return toinsert\n",
       "  }\n",
       "\n",
       "  events.on('output_added.OutputArea', handle_add_output);\n",
       "  events.on('output_updated.OutputArea', handle_update_output);\n",
       "  events.on('clear_output.CodeCell', handle_clear_output);\n",
       "  events.on('delete.Cell', handle_clear_output);\n",
       "  events.on('kernel_ready.Kernel', handle_kernel_cleanup);\n",
       "\n",
       "  OutputArea.prototype.register_mime_type(EXEC_MIME_TYPE, append_mime, {\n",
       "    safe: true,\n",
       "    index: 0\n",
       "  });\n",
       "}\n",
       "\n",
       "if (window.Jupyter !== undefined) {\n",
       "  try {\n",
       "    var events = require('base/js/events');\n",
       "    var OutputArea = require('notebook/js/outputarea').OutputArea;\n",
       "    if (OutputArea.prototype.mime_types().indexOf(EXEC_MIME_TYPE) == -1) {\n",
       "      register_renderer(events, OutputArea);\n",
       "    }\n",
       "  } catch(err) {\n",
       "  }\n",
       "}\n"
      ],
      "application/vnd.holoviews_load.v0+json": "\nif ((window.PyViz === undefined) || (window.PyViz instanceof HTMLElement)) {\n  window.PyViz = {comms: {}, comm_status:{}, kernels:{}, receivers: {}, plot_index: []}\n}\n\n\n    function JupyterCommManager() {\n    }\n\n    JupyterCommManager.prototype.register_target = function(plot_id, comm_id, msg_handler) {\n      if (window.comm_manager || ((window.Jupyter !== undefined) && (Jupyter.notebook.kernel != null))) {\n        var comm_manager = window.comm_manager || Jupyter.notebook.kernel.comm_manager;\n        comm_manager.register_target(comm_id, function(comm) {\n          comm.on_msg(msg_handler);\n        });\n      } else if ((plot_id in window.PyViz.kernels) && (window.PyViz.kernels[plot_id])) {\n        window.PyViz.kernels[plot_id].registerCommTarget(comm_id, function(comm) {\n          comm.onMsg = msg_handler;\n        });\n      } else if (typeof google != 'undefined' && google.colab.kernel != null) {\n        google.colab.kernel.comms.registerTarget(comm_id, (comm) => {\n          var messages = comm.messages[Symbol.asyncIterator]();\n          function processIteratorResult(result) {\n            var message = result.value;\n            console.log(message)\n            var content = {data: message.data, comm_id};\n            var buffers = []\n            for (var buffer of message.buffers || []) {\n              buffers.push(new DataView(buffer))\n            }\n            var metadata = message.metadata || {};\n            var msg = {content, buffers, metadata}\n            msg_handler(msg);\n            return messages.next().then(processIteratorResult);\n          }\n          return messages.next().then(processIteratorResult);\n        })\n      }\n    }\n\n    JupyterCommManager.prototype.get_client_comm = function(plot_id, comm_id, msg_handler) {\n      if (comm_id in window.PyViz.comms) {\n        return window.PyViz.comms[comm_id];\n      } else if (window.comm_manager || ((window.Jupyter !== undefined) && (Jupyter.notebook.kernel != null))) {\n        var comm_manager = window.comm_manager || Jupyter.notebook.kernel.comm_manager;\n        var comm = comm_manager.new_comm(comm_id, {}, {}, {}, comm_id);\n        if (msg_handler) {\n          comm.on_msg(msg_handler);\n        }\n      } else if ((plot_id in window.PyViz.kernels) && (window.PyViz.kernels[plot_id])) {\n        var comm = window.PyViz.kernels[plot_id].connectToComm(comm_id);\n        comm.open();\n        if (msg_handler) {\n          comm.onMsg = msg_handler;\n        }\n      } else if (typeof google != 'undefined' && google.colab.kernel != null) {\n        var comm_promise = google.colab.kernel.comms.open(comm_id)\n        comm_promise.then((comm) => {\n          window.PyViz.comms[comm_id] = comm;\n          if (msg_handler) {\n            var messages = comm.messages[Symbol.asyncIterator]();\n            function processIteratorResult(result) {\n              var message = result.value;\n              var content = {data: message.data};\n              var metadata = message.metadata || {comm_id};\n              var msg = {content, metadata}\n              msg_handler(msg);\n              return messages.next().then(processIteratorResult);\n            }\n            return messages.next().then(processIteratorResult);\n          }\n        }) \n        var sendClosure = (data, metadata, buffers, disposeOnDone) => {\n          return comm_promise.then((comm) => {\n            comm.send(data, metadata, buffers, disposeOnDone);\n          });\n        };\n        var comm = {\n          send: sendClosure\n        };\n      }\n      window.PyViz.comms[comm_id] = comm;\n      return comm;\n    }\n    window.PyViz.comm_manager = new JupyterCommManager();\n    \n\n\nvar JS_MIME_TYPE = 'application/javascript';\nvar HTML_MIME_TYPE = 'text/html';\nvar EXEC_MIME_TYPE = 'application/vnd.holoviews_exec.v0+json';\nvar CLASS_NAME = 'output';\n\n/**\n * Render data to the DOM node\n */\nfunction render(props, node) {\n  var div = document.createElement(\"div\");\n  var script = document.createElement(\"script\");\n  node.appendChild(div);\n  node.appendChild(script);\n}\n\n/**\n * Handle when a new output is added\n */\nfunction handle_add_output(event, handle) {\n  var output_area = handle.output_area;\n  var output = handle.output;\n  if ((output.data == undefined) || (!output.data.hasOwnProperty(EXEC_MIME_TYPE))) {\n    return\n  }\n  var id = output.metadata[EXEC_MIME_TYPE][\"id\"];\n  var toinsert = output_area.element.find(\".\" + CLASS_NAME.split(' ')[0]);\n  if (id !== undefined) {\n    var nchildren = toinsert.length;\n    var html_node = toinsert[nchildren-1].children[0];\n    html_node.innerHTML = output.data[HTML_MIME_TYPE];\n    var scripts = [];\n    var nodelist = html_node.querySelectorAll(\"script\");\n    for (var i in nodelist) {\n      if (nodelist.hasOwnProperty(i)) {\n        scripts.push(nodelist[i])\n      }\n    }\n\n    scripts.forEach( function (oldScript) {\n      var newScript = document.createElement(\"script\");\n      var attrs = [];\n      var nodemap = oldScript.attributes;\n      for (var j in nodemap) {\n        if (nodemap.hasOwnProperty(j)) {\n          attrs.push(nodemap[j])\n        }\n      }\n      attrs.forEach(function(attr) { newScript.setAttribute(attr.name, attr.value) });\n      newScript.appendChild(document.createTextNode(oldScript.innerHTML));\n      oldScript.parentNode.replaceChild(newScript, oldScript);\n    });\n    if (JS_MIME_TYPE in output.data) {\n      toinsert[nchildren-1].children[1].textContent = output.data[JS_MIME_TYPE];\n    }\n    output_area._hv_plot_id = id;\n    if ((window.Bokeh !== undefined) && (id in Bokeh.index)) {\n      window.PyViz.plot_index[id] = Bokeh.index[id];\n    } else {\n      window.PyViz.plot_index[id] = null;\n    }\n  } else if (output.metadata[EXEC_MIME_TYPE][\"server_id\"] !== undefined) {\n    var bk_div = document.createElement(\"div\");\n    bk_div.innerHTML = output.data[HTML_MIME_TYPE];\n    var script_attrs = bk_div.children[0].attributes;\n    for (var i = 0; i < script_attrs.length; i++) {\n      toinsert[toinsert.length - 1].childNodes[1].setAttribute(script_attrs[i].name, script_attrs[i].value);\n    }\n    // store reference to server id on output_area\n    output_area._bokeh_server_id = output.metadata[EXEC_MIME_TYPE][\"server_id\"];\n  }\n}\n\n/**\n * Handle when an output is cleared or removed\n */\nfunction handle_clear_output(event, handle) {\n  var id = handle.cell.output_area._hv_plot_id;\n  var server_id = handle.cell.output_area._bokeh_server_id;\n  if (((id === undefined) || !(id in PyViz.plot_index)) && (server_id !== undefined)) { return; }\n  var comm = window.PyViz.comm_manager.get_client_comm(\"hv-extension-comm\", \"hv-extension-comm\", function () {});\n  if (server_id !== null) {\n    comm.send({event_type: 'server_delete', 'id': server_id});\n    return;\n  } else if (comm !== null) {\n    comm.send({event_type: 'delete', 'id': id});\n  }\n  delete PyViz.plot_index[id];\n  if ((window.Bokeh !== undefined) & (id in window.Bokeh.index)) {\n    var doc = window.Bokeh.index[id].model.document\n    doc.clear();\n    const i = window.Bokeh.documents.indexOf(doc);\n    if (i > -1) {\n      window.Bokeh.documents.splice(i, 1);\n    }\n  }\n}\n\n/**\n * Handle kernel restart event\n */\nfunction handle_kernel_cleanup(event, handle) {\n  delete PyViz.comms[\"hv-extension-comm\"];\n  window.PyViz.plot_index = {}\n}\n\n/**\n * Handle update_display_data messages\n */\nfunction handle_update_output(event, handle) {\n  handle_clear_output(event, {cell: {output_area: handle.output_area}})\n  handle_add_output(event, handle)\n}\n\nfunction register_renderer(events, OutputArea) {\n  function append_mime(data, metadata, element) {\n    // create a DOM node to render to\n    var toinsert = this.create_output_subarea(\n    metadata,\n    CLASS_NAME,\n    EXEC_MIME_TYPE\n    );\n    this.keyboard_manager.register_events(toinsert);\n    // Render to node\n    var props = {data: data, metadata: metadata[EXEC_MIME_TYPE]};\n    render(props, toinsert[0]);\n    element.append(toinsert);\n    return toinsert\n  }\n\n  events.on('output_added.OutputArea', handle_add_output);\n  events.on('output_updated.OutputArea', handle_update_output);\n  events.on('clear_output.CodeCell', handle_clear_output);\n  events.on('delete.Cell', handle_clear_output);\n  events.on('kernel_ready.Kernel', handle_kernel_cleanup);\n\n  OutputArea.prototype.register_mime_type(EXEC_MIME_TYPE, append_mime, {\n    safe: true,\n    index: 0\n  });\n}\n\nif (window.Jupyter !== undefined) {\n  try {\n    var events = require('base/js/events');\n    var OutputArea = require('notebook/js/outputarea').OutputArea;\n    if (OutputArea.prototype.mime_types().indexOf(EXEC_MIME_TYPE) == -1) {\n      register_renderer(events, OutputArea);\n    }\n  } catch(err) {\n  }\n}\n"
     },
     "metadata": {},
     "output_type": "display_data"
    }
   ],
   "source": [
    "import panel as pn\n",
    "import plotly.graph_objects as go\n",
    "import pandas as pd\n",
    "pn.extension('plotly')"
   ]
  },
  {
   "cell_type": "markdown",
   "metadata": {
    "deletable": false,
    "editable": false,
    "nbgrader": {
     "cell_type": "markdown",
     "checksum": "17f3e2784bc66da22ca8dacca1f59ab1",
     "grade": false,
     "grade_id": "cell-7b045e66f5b19142",
     "locked": true,
     "schema_version": 3,
     "solution": false,
     "task": false
    }
   },
   "source": [
    "## Pregunta 1"
   ]
  },
  {
   "cell_type": "markdown",
   "metadata": {
    "deletable": false,
    "editable": false,
    "nbgrader": {
     "cell_type": "markdown",
     "checksum": "74607e73d8f0e43f6153989ce066c333",
     "grade": false,
     "grade_id": "cell-b93ccd2e580b5baa",
     "locked": true,
     "schema_version": 3,
     "solution": false,
     "task": false
    }
   },
   "source": [
    "Con la base de datos *COVID-19.csv* crea un dashboard en `panel` que:\n",
    "\n",
    "1. Permita crear un diagrama de barras horizontal que muestre los casos de COVID-19 de acuerdo a la selección de los siguentes criterios:<br />\n",
    "    a. Casos o muertes.<br />\n",
    "    b. Periodo: Histórico, Últimos 7 días y Últimas 24 horas.<br />\n",
    "    Pista: utilice un control de tipo `RadioButtonGroup` para cada uno de los dos criterios.<br />\n",
    "2. Contenga un diagrama de barras horizontal de las muertes por millón de personas.\n",
    "3. Permita visualizar a tráves de un diagrama de barras horizontal los casos en cada una de las regiones de la Organización Munidal de la Salud.\n",
    "\n",
    "Nota: a excpeción de las regiones, muestre los 10 mayores valores en cada gráfico."
   ]
  },
  {
   "cell_type": "markdown",
   "metadata": {
    "deletable": false,
    "editable": false,
    "nbgrader": {
     "cell_type": "markdown",
     "checksum": "7e1a671fd233c6a47a439f49fc3c8fbe",
     "grade": false,
     "grade_id": "cell-6a2cc95ab1fd7be4",
     "locked": true,
     "schema_version": 3,
     "solution": false,
     "task": false
    }
   },
   "source": [
    "| <center>Variable</center> |<center>Descripción</center> | \n",
    "| :-- | :-- | \n",
    "| Name | País |\n",
    "| WHO Region | Región de la OMS |\n",
    "| Cases - cumulative total | Total de casos hasta el momento |\n",
    "| Cases - cumulative total per 1 million population | Número de casos acumulado por millón de personas |\n",
    "| Cases - newly reported in last 7 days | Número de casos nuevos en los últimos 7 días |\n",
    "| Cases - newly reported in last 24 hours | Número de casos nuevos en las últimas 24 horas |\n",
    "| Deaths - cumulative total | Total de muertes hasta el momento |\n",
    "| Deaths - cumulative total per 1 million population | Número de muertes acumulado por millón de personas |\n",
    "| Deaths - newly reported in last 7 days | Número de muertes nuevas en los últimos 7 días |\n",
    "| Deaths - newly reported in last 24 hours | Número de muertes nuevas en las últimas 24 horas |"
   ]
  },
  {
   "cell_type": "code",
   "execution_count": 254,
   "metadata": {
    "scrolled": true
   },
   "outputs": [
    {
     "data": {
      "text/html": [
       "<div>\n",
       "<style scoped>\n",
       "    .dataframe tbody tr th:only-of-type {\n",
       "        vertical-align: middle;\n",
       "    }\n",
       "\n",
       "    .dataframe tbody tr th {\n",
       "        vertical-align: top;\n",
       "    }\n",
       "\n",
       "    .dataframe thead th {\n",
       "        text-align: right;\n",
       "    }\n",
       "</style>\n",
       "<table border=\"1\" class=\"dataframe\">\n",
       "  <thead>\n",
       "    <tr style=\"text-align: right;\">\n",
       "      <th></th>\n",
       "      <th>Name</th>\n",
       "      <th>WHO Region</th>\n",
       "      <th>Cases - cumulative total</th>\n",
       "      <th>Cases - cumulative total per 1 million population</th>\n",
       "      <th>Cases - newly reported in last 7 days</th>\n",
       "      <th>Cases - newly reported in last 24 hours</th>\n",
       "      <th>Deaths - cumulative total</th>\n",
       "      <th>Deaths - cumulative total per 1 million population</th>\n",
       "      <th>Deaths - newly reported in last 7 days</th>\n",
       "      <th>Deaths - newly reported in last 24 hours</th>\n",
       "      <th>Transmission Classification</th>\n",
       "    </tr>\n",
       "  </thead>\n",
       "  <tbody>\n",
       "    <tr>\n",
       "      <th>0</th>\n",
       "      <td>United States of America</td>\n",
       "      <td>Americas</td>\n",
       "      <td>26547977</td>\n",
       "      <td>80204.73</td>\n",
       "      <td>871365</td>\n",
       "      <td>129961</td>\n",
       "      <td>455735</td>\n",
       "      <td>1376.83</td>\n",
       "      <td>22562</td>\n",
       "      <td>3549</td>\n",
       "      <td>Community transmission</td>\n",
       "    </tr>\n",
       "    <tr>\n",
       "      <th>1</th>\n",
       "      <td>India</td>\n",
       "      <td>South-East Asia</td>\n",
       "      <td>10826363</td>\n",
       "      <td>7845.17</td>\n",
       "      <td>80180</td>\n",
       "      <td>12059</td>\n",
       "      <td>154996</td>\n",
       "      <td>112.32</td>\n",
       "      <td>722</td>\n",
       "      <td>78</td>\n",
       "      <td>Clusters of cases</td>\n",
       "    </tr>\n",
       "    <tr>\n",
       "      <th>2</th>\n",
       "      <td>Brazil</td>\n",
       "      <td>Americas</td>\n",
       "      <td>9447165</td>\n",
       "      <td>44444.82</td>\n",
       "      <td>328652</td>\n",
       "      <td>50872</td>\n",
       "      <td>230034</td>\n",
       "      <td>1082.21</td>\n",
       "      <td>7368</td>\n",
       "      <td>1239</td>\n",
       "      <td>Community transmission</td>\n",
       "    </tr>\n",
       "    <tr>\n",
       "      <th>3</th>\n",
       "      <td>Russian Federation</td>\n",
       "      <td>Europe</td>\n",
       "      <td>3967281</td>\n",
       "      <td>27185.36</td>\n",
       "      <td>116842</td>\n",
       "      <td>16048</td>\n",
       "      <td>76661</td>\n",
       "      <td>525.31</td>\n",
       "      <td>3479</td>\n",
       "      <td>432</td>\n",
       "      <td>Clusters of cases</td>\n",
       "    </tr>\n",
       "    <tr>\n",
       "      <th>4</th>\n",
       "      <td>The United Kingdom</td>\n",
       "      <td>Europe</td>\n",
       "      <td>3929839</td>\n",
       "      <td>57888.79</td>\n",
       "      <td>133747</td>\n",
       "      <td>18262</td>\n",
       "      <td>112092</td>\n",
       "      <td>1651.18</td>\n",
       "      <td>6521</td>\n",
       "      <td>828</td>\n",
       "      <td>Community transmission</td>\n",
       "    </tr>\n",
       "  </tbody>\n",
       "</table>\n",
       "</div>"
      ],
      "text/plain": [
       "                       Name       WHO Region  Cases - cumulative total  \\\n",
       "0  United States of America         Americas                  26547977   \n",
       "1                     India  South-East Asia                  10826363   \n",
       "2                    Brazil         Americas                   9447165   \n",
       "3        Russian Federation           Europe                   3967281   \n",
       "4        The United Kingdom           Europe                   3929839   \n",
       "\n",
       "   Cases - cumulative total per 1 million population  \\\n",
       "0                                           80204.73   \n",
       "1                                            7845.17   \n",
       "2                                           44444.82   \n",
       "3                                           27185.36   \n",
       "4                                           57888.79   \n",
       "\n",
       "   Cases - newly reported in last 7 days  \\\n",
       "0                                 871365   \n",
       "1                                  80180   \n",
       "2                                 328652   \n",
       "3                                 116842   \n",
       "4                                 133747   \n",
       "\n",
       "   Cases - newly reported in last 24 hours  Deaths - cumulative total  \\\n",
       "0                                   129961                     455735   \n",
       "1                                    12059                     154996   \n",
       "2                                    50872                     230034   \n",
       "3                                    16048                      76661   \n",
       "4                                    18262                     112092   \n",
       "\n",
       "   Deaths - cumulative total per 1 million population  \\\n",
       "0                                            1376.83    \n",
       "1                                             112.32    \n",
       "2                                            1082.21    \n",
       "3                                             525.31    \n",
       "4                                            1651.18    \n",
       "\n",
       "   Deaths - newly reported in last 7 days  \\\n",
       "0                                   22562   \n",
       "1                                     722   \n",
       "2                                    7368   \n",
       "3                                    3479   \n",
       "4                                    6521   \n",
       "\n",
       "   Deaths - newly reported in last 24 hours Transmission Classification  \n",
       "0                                      3549      Community transmission  \n",
       "1                                        78           Clusters of cases  \n",
       "2                                      1239      Community transmission  \n",
       "3                                       432           Clusters of cases  \n",
       "4                                       828      Community transmission  "
      ]
     },
     "execution_count": 254,
     "metadata": {},
     "output_type": "execute_result"
    }
   ],
   "source": [
    "# YOUR CODE HERE\n",
    "datos = pd.read_csv('Archivos/COVID-19.csv')\n",
    "datos = pd.DataFrame(datos)\n",
    "datos.head()"
   ]
  },
  {
   "cell_type": "code",
   "execution_count": 255,
   "metadata": {
    "deletable": false,
    "nbgrader": {
     "cell_type": "code",
     "checksum": "633c0b03e6fbcb3cc5a444d5937579b5",
     "grade": true,
     "grade_id": "cell-fe20614352ef7071",
     "locked": false,
     "points": 1,
     "schema_version": 3,
     "solution": true,
     "task": false
    }
   },
   "outputs": [],
   "source": [
    "# YOUR CODE HERE\n",
    "titulo = '# Tablero de control COVID-19'\n",
    "\n",
    "#creamos una lista desplegable con casos_ muertes y otro del tiempo de los historicos\n",
    "seleccion_1 = pn.widgets.RadioButtonGroup(name='Casos_muertes', options= ['Cases', 'Deaths'],button_type = 'primary')\n",
    "seleccion_2 = pn.widgets.RadioButtonGroup(name='Periodo', options= [\"Histórico\", \"Últimos 7 días\", \"Últimas 24 horas\"] ,button_type = 'primary')"
   ]
  },
  {
   "cell_type": "code",
   "execution_count": 264,
   "metadata": {
    "deletable": false,
    "nbgrader": {
     "cell_type": "code",
     "checksum": "9f2ab25446a5dba36a646f5f6d0ed5c7",
     "grade": true,
     "grade_id": "cell-f644f9014e17ebe1",
     "locked": false,
     "points": 1,
     "schema_version": 3,
     "solution": true,
     "task": false
    },
    "scrolled": true
   },
   "outputs": [],
   "source": [
    "# YOUR CODE HERE\n",
    "#A continuación, agregamos funcionalidad al tablero de control.\n",
    "\n",
    "@pn.depends(seleccion_1.param.value, seleccion_2.param.value)\n",
    "\n",
    "def funcion_interactiva(seleccion_1,seleccion_2): \n",
    "    df = datos\n",
    "    # Creamos un filtro de datos que utiliza valores de la lista desplegable(posibles combinanciones que puede elegir el usuario)\n",
    "    if seleccion_1 == \"Cases\":\n",
    "        if seleccion_2 == \"Histórico\":\n",
    "            df.sort_values(by=[\"Cases - cumulative total\"], inplace = True,ascending=False)\n",
    "    # Definimos y retornamos la figura.\n",
    "            fig = go.Figure(go.Bar(\n",
    "                                        x=df[\"Cases - cumulative total\"],\n",
    "                                        y=df[\"Name\"],\n",
    "                                        text=df[\"Cases - cumulative total\"],\n",
    "                                        textposition='outside',                                # Posición de la etiqueta de datos. En este caso a la derecha.\n",
    "                                        texttemplate='%{text:,i}',                                # Formato de texto.\n",
    "                                        marker_color='rgb(30, 118, 255)',                      # Color de las barras.\n",
    "                                        orientation='h'                                        # Orientación de las barras. En este caso horizontal.\n",
    "                                      )\n",
    "                               )\n",
    "        elif seleccion_2 == \"Últimos 7 días\":\n",
    "             df.sort_values(by=[\"Cases - newly reported in last 7 days\"], inplace = True,ascending=False)\n",
    " # Definimos y retornamos la figura.\n",
    "             fig = go.Figure(go.Bar(\n",
    "                                        x=df[\"Cases - newly reported in last 7 days\"],\n",
    "                                        y=df[\"Name\"],\n",
    "                                        text=df[\"Cases - newly reported in last 7 days\"],\n",
    "                                        textposition='outside',                                # Posición de la etiqueta de datos. En este caso a la derecha.\n",
    "                                        texttemplate='%{text:,i}',                                # Formato de texto.\n",
    "                                        marker_color='rgb(30, 118, 255)',                      # Color de las barras.\n",
    "                                        orientation='h'                                        # Orientación de las barras. En este caso horizontal.\n",
    "                                      )\n",
    "                               )\n",
    "       \n",
    "        elif seleccion_2 == \"Últimas 24 horas\":\n",
    "             df.sort_values(by=[\"Cases - newly reported in last 24 hours\"], inplace = True,ascending=False)\n",
    "# Definimos y retornamos la figura.\n",
    "             fig = go.Figure(go.Bar(\n",
    "                                        x=df[\"Cases - newly reported in last 24 hours\"],\n",
    "                                        y=df[\"Name\"],\n",
    "                                        text=df[\"Cases - newly reported in last 24 hours\"],\n",
    "                                        textposition='outside',                                # Posición de la etiqueta de datos. En este caso a la derecha.\n",
    "                                        texttemplate='%{text:,i}',                                # Formato de texto.\n",
    "                                        marker_color='rgb(30, 118, 255)',                      # Color de las barras.\n",
    "                                        orientation='h'                                        # Orientación de las barras. En este caso horizontal.\n",
    "                                      )\n",
    "                               )\n",
    "# Creamos un filtro de datos que utiliza valores de la lista desplegable(posibles combinanciones que puede elegir el usuario en caso de muertes)\n",
    "    elif seleccion_1 == \"Deaths\":\n",
    "        if seleccion_2 == \"Histórico\":\n",
    "            df.sort_values(by=[\"Deaths - cumulative total\"], inplace = True,ascending=False)\n",
    "    # Definimos y retornamos la figura.\n",
    "            fig = go.Figure(go.Bar(\n",
    "                                        x=df[\"Deaths - cumulative total\"],\n",
    "                                        y=df[\"Name\"],\n",
    "                                        text=df[\"Deaths - cumulative total\"],\n",
    "                                        textposition='outside',                                # Posición de la etiqueta de datos. En este caso a la derecha.\n",
    "                                        texttemplate='%{text:,i}',                                # Formato de texto.\n",
    "                                        marker_color='rgb(30, 118, 255)',                      # Color de las barras.\n",
    "                                        orientation='h'                                        # Orientación de las barras. En este caso horizontal.\n",
    "                                      )\n",
    "                               )\n",
    "        elif seleccion_2 == \"Últimos 7 días\":\n",
    "                df.sort_values(by=[\"Deaths - newly reported in last 7 days\"], inplace = True,ascending=False)\n",
    "    # Definimos y retornamos la figura.\n",
    "                fig = go.Figure(go.Bar(\n",
    "                                        x=df[\"Deaths - newly reported in last 7 days\"],\n",
    "                                        y=df[\"Name\"],\n",
    "                                        text=df[\"Deaths - newly reported in last 7 days\"],\n",
    "                                        textposition='outside',                                # Posición de la etiqueta de datos. En este caso a la derecha.\n",
    "                                        texttemplate='%{text:,i}',                                # Formato de texto.\n",
    "                                        marker_color='rgb(30, 118, 255)',                      # Color de las barras.\n",
    "                                        orientation='h'                                        # Orientación de las barras. En este caso horizontal.\n",
    "                                      )\n",
    "                               )\n",
    "        elif seleccion_2 == \"Últimas 24 horas\":\n",
    "                df.sort_values(by=[\"Deaths - newly reported in last 24 hours\"], inplace = True,ascending=False)\n",
    "    # Definimos y retornamos la figura.\n",
    "                fig = go.Figure(go.Bar(\n",
    "                                        x=df[\"Deaths - newly reported in last 24 hours\"],\n",
    "                                        y=df[\"Name\"],\n",
    "                                        text=df[\"Deaths - newly reported in last 24 hours\"],\n",
    "                                        textposition='outside',                                # Posición de la etiqueta de datos. En este caso a la derecha.\n",
    "                                        texttemplate='%{text:,i}',                                # Formato de texto.\n",
    "                                        marker_color='rgb(30, 118, 255)',                      # Color de las barras.\n",
    "                                        orientation='h'                                        # Orientación de las barras. En este caso horizontal.\n",
    "                                      )\n",
    "                               )\n",
    "        \n",
    "    fig.update_layout(\n",
    "                        barmode='stack',                                           \n",
    "                        yaxis_title=\"País\",\n",
    "                        xaxis_title= 'Número de '+ str(seleccion_1)+ \"-\"+str(seleccion_2),\n",
    "                        title= 'Informe de '+ str(seleccion_1)+ \" por Covid 19\",                               \n",
    "                        xaxis=dict(showgrid=False),                                # Ocultamos la cuadrícula de eje x.\n",
    "                        yaxis=dict(showgrid=False),                                # Ocultamos la cuadrícula de eje y.\n",
    "                        plot_bgcolor='white',                                      # Modificamos el color del fondo del gráfico.\n",
    "                        showlegend=False,                                          # Ocultamos la leyenda.\n",
    "                        yaxis_range=[9.5, -.5]                                     # Mostramos los 10 primeros datos.\n",
    "                     )\n",
    "    return fig"
   ]
  },
  {
   "cell_type": "code",
   "execution_count": 265,
   "metadata": {},
   "outputs": [
    {
     "data": {
      "application/vnd.plotly.v1+json": {
       "config": {
        "plotlyServerURL": "https://plot.ly"
       },
       "data": [
        {
         "marker": {
          "color": "rgb(26, 118, 255)"
         },
         "orientation": "h",
         "text": [
          2374.52,
          2033.12,
          1872.11,
          1842.34,
          1651.18,
          1609.4,
          1505.13,
          1460.31,
          1399.65,
          1376.83,
          1368.48,
          1358.96,
          1355.02,
          1340.01,
          1323.11,
          1300.44,
          1274.23,
          1271.78,
          1259.11,
          1257.54,
          1206.18,
          1200.93,
          1199.59,
          1088.83,
          1083.84,
          1082.21,
          1078.87,
          1051.89,
          1032.77,
          1019.34,
          988.43,
          977.72,
          952.26,
          945.72,
          915.53,
          875.38,
          875.07,
          850.42,
          837.77,
          822.98,
          811.66,
          778.64,
          769.56,
          764.33,
          744.06,
          734.23,
          703.53,
          695.44,
          654.35,
          638.67,
          629.63,
          615.81,
          605.99,
          590.49,
          571.34,
          570.95,
          555.25,
          546.05,
          539.56,
          525.31,
          524.53,
          521.87,
          520.62,
          509.63,
          502.47,
          473.46,
          447.56,
          428.2,
          403.42,
          394.88,
          391.31,
          382.41,
          372.96,
          347.52,
          326.75,
          325.96,
          316.4,
          311.27,
          310.41,
          300,
          294.01,
          281.75,
          269.33,
          264.5,
          258.21,
          257.93,
          242.81,
          234.59,
          232.45,
          229.83,
          227.58,
          227.06,
          225.73,
          222.73,
          218.57,
          205.71,
          200.04,
          192.7,
          187.63,
          183.75,
          174.76,
          166.48,
          146.01,
          143.44,
          137.6,
          127.98,
          124.89,
          124.19,
          120.56,
          119.92,
          114.77,
          112.32,
          107.36,
          101.39,
          99.9,
          98.02,
          96.46,
          93.85,
          92.41,
          91.4,
          88.54,
          86.77,
          85.42,
          84.98,
          82.13,
          71.48,
          69.84,
          69.31,
          66.38,
          63.77,
          62.64,
          61.91,
          61.3,
          61.01,
          58.22,
          55.45,
          54.11,
          53.94,
          52.5,
          50.11,
          49.73,
          45.64,
          43.75,
          43.01,
          41.76,
          40.31,
          35.65,
          34.75,
          33.07,
          33.03,
          31.9,
          30.43,
          28.69,
          27.04,
          26.48,
          25.66,
          23.37,
          22.11,
          21.57,
          20.65,
          20.57,
          20.46,
          18.66,
          18.55,
          17.86,
          16.75,
          16.69,
          16.61,
          16.39,
          14.45,
          14.45,
          14.43,
          13.04,
          10.15,
          9.9,
          9.54,
          9.54,
          8.89,
          8.43,
          7.99,
          7.86,
          7.61,
          7.58,
          7.15,
          6.86,
          6.82,
          6.41,
          6.4,
          6.14,
          5.81,
          5.18,
          4.96,
          4.54,
          3.28,
          2.23,
          1.97,
          1.3,
          1.13,
          1.01,
          0.61,
          0.36,
          0.35,
          0.25,
          0,
          0,
          0,
          0,
          0,
          0,
          0,
          0,
          0,
          0,
          0,
          0,
          0,
          0,
          0,
          0,
          0,
          0,
          0,
          0,
          0,
          0,
          0,
          0,
          0,
          0,
          0,
          0,
          0,
          0,
          0,
          0,
          0,
          null
         ],
         "textposition": "outside",
         "texttemplate": "%{text}",
         "type": "bar",
         "x": [
          2374.52,
          2033.12,
          1872.11,
          1842.34,
          1651.18,
          1609.4,
          1505.13,
          1460.31,
          1399.65,
          1376.83,
          1368.48,
          1358.96,
          1355.02,
          1340.01,
          1323.11,
          1300.44,
          1274.23,
          1271.78,
          1259.11,
          1257.54,
          1206.18,
          1200.93,
          1199.59,
          1088.83,
          1083.84,
          1082.21,
          1078.87,
          1051.89,
          1032.77,
          1019.34,
          988.43,
          977.72,
          952.26,
          945.72,
          915.53,
          875.38,
          875.07,
          850.42,
          837.77,
          822.98,
          811.66,
          778.64,
          769.56,
          764.33,
          744.06,
          734.23,
          703.53,
          695.44,
          654.35,
          638.67,
          629.63,
          615.81,
          605.99,
          590.49,
          571.34,
          570.95,
          555.25,
          546.05,
          539.56,
          525.31,
          524.53,
          521.87,
          520.62,
          509.63,
          502.47,
          473.46,
          447.56,
          428.2,
          403.42,
          394.88,
          391.31,
          382.41,
          372.96,
          347.52,
          326.75,
          325.96,
          316.4,
          311.27,
          310.41,
          300,
          294.01,
          281.75,
          269.33,
          264.5,
          258.21,
          257.93,
          242.81,
          234.59,
          232.45,
          229.83,
          227.58,
          227.06,
          225.73,
          222.73,
          218.57,
          205.71,
          200.04,
          192.7,
          187.63,
          183.75,
          174.76,
          166.48,
          146.01,
          143.44,
          137.6,
          127.98,
          124.89,
          124.19,
          120.56,
          119.92,
          114.77,
          112.32,
          107.36,
          101.39,
          99.9,
          98.02,
          96.46,
          93.85,
          92.41,
          91.4,
          88.54,
          86.77,
          85.42,
          84.98,
          82.13,
          71.48,
          69.84,
          69.31,
          66.38,
          63.77,
          62.64,
          61.91,
          61.3,
          61.01,
          58.22,
          55.45,
          54.11,
          53.94,
          52.5,
          50.11,
          49.73,
          45.64,
          43.75,
          43.01,
          41.76,
          40.31,
          35.65,
          34.75,
          33.07,
          33.03,
          31.9,
          30.43,
          28.69,
          27.04,
          26.48,
          25.66,
          23.37,
          22.11,
          21.57,
          20.65,
          20.57,
          20.46,
          18.66,
          18.55,
          17.86,
          16.75,
          16.69,
          16.61,
          16.39,
          14.45,
          14.45,
          14.43,
          13.04,
          10.15,
          9.9,
          9.54,
          9.54,
          8.89,
          8.43,
          7.99,
          7.86,
          7.61,
          7.58,
          7.15,
          6.86,
          6.82,
          6.41,
          6.4,
          6.14,
          5.81,
          5.18,
          4.96,
          4.54,
          3.28,
          2.23,
          1.97,
          1.3,
          1.13,
          1.01,
          0.61,
          0.36,
          0.35,
          0.25,
          0,
          0,
          0,
          0,
          0,
          0,
          0,
          0,
          0,
          0,
          0,
          0,
          0,
          0,
          0,
          0,
          0,
          0,
          0,
          0,
          0,
          0,
          0,
          0,
          0,
          0,
          0,
          0,
          0,
          0,
          0,
          0,
          0,
          null
         ],
         "y": [
          "Gibraltar",
          "San Marino",
          "Slovenia",
          "Belgium",
          "The United Kingdom",
          "Czechia",
          "Italy",
          "Bosnia and Herzegovina",
          "North Macedonia",
          "United States of America",
          "Portugal",
          "Andorra",
          "Hungary",
          "Bulgaria",
          "Montenegro",
          "Spain",
          "Mexico",
          "Peru",
          "Croatia",
          "Panama",
          "Liechtenstein",
          "France",
          "Sweden",
          "Colombia",
          "Argentina",
          "Brazil",
          "Lithuania",
          "Armenia",
          "Poland",
          "Switzerland",
          "Chile",
          "Romania",
          "Slovakia",
          "Luxembourg",
          "Bolivia (Plurinational State of)",
          "Austria",
          "Republic of Moldova",
          "Ecuador",
          "Netherlands",
          "Georgia",
          "Kosovo[1]",
          "South Africa",
          "Belize",
          "Guam",
          "Ireland",
          "Germany",
          "Latvia",
          "Iran (Islamic Republic of)",
          "Puerto Rico",
          "Malta",
          "Sint Maarten",
          "Jersey",
          "Tunisia",
          "Serbia",
          "Aruba",
          "Greece",
          "Israel",
          "Canada",
          "Ukraine",
          "Russian Federation",
          "Costa Rica",
          "Lebanon",
          "Eswatini",
          "Monaco",
          "Albania",
          "French Polynesia",
          "Bahamas",
          "Jordan",
          "occupied Palestinian territory, including east Jerusalem",
          "Guadeloupe",
          "Paraguay",
          "Denmark",
          "Honduras",
          "Estonia",
          "Guatemala",
          "Iraq",
          "Turkey",
          "Azerbaijan",
          "Saint Martin",
          "Oman",
          "Isle of Man",
          "Libya",
          "Suriname",
          "French Guiana",
          "Dominican Republic",
          "El Salvador",
          "Cabo Verde",
          "Mayotte",
          "Turks and Caicos Islands",
          "United States Virgin Islands",
          "Guyana",
          "Morocco",
          "Kuwait",
          "Bahrain",
          "Kyrgyzstan",
          "Guernsey",
          "Montserrat",
          "Bermuda",
          "Belarus",
          "Saudi Arabia",
          "Cyprus",
          "Kazakhstan",
          "Namibia",
          "Bonaire",
          "Uruguay",
          "Curaçao",
          "Finland",
          "Comoros",
          "Jamaica",
          "Martinique",
          "Indonesia",
          "India",
          "Norway",
          "Philippines",
          "Maldives",
          "Saint Lucia",
          "Trinidad and Tobago",
          "Egypt",
          "United Arab Emirates",
          "Mauritania",
          "Zimbabwe",
          "Qatar",
          "Lesotho",
          "Iceland",
          "Sao Tome and Principe",
          "Antigua and Barbuda",
          "Nepal",
          "Botswana",
          "Algeria",
          "Djibouti",
          "Barbados",
          "Afghanistan",
          "Equatorial Guinea",
          "Seychelles",
          "Myanmar",
          "Gambia",
          "Syrian Arab Republic",
          "Pakistan",
          "Réunion",
          "Japan",
          "Bangladesh",
          "Zambia",
          "Malawi",
          "Venezuela (Bolivarian Republic of)",
          "Sudan",
          "Senegal",
          "Australia",
          "Northern Mariana Islands (Commonwealth of the)",
          "British Virgin Islands",
          "Kenya",
          "Gabon",
          "Cayman Islands",
          "Republic of Korea",
          "Saint Vincent and the Grenadines",
          "Malaysia",
          "Nicaragua",
          "Guinea-Bissau",
          "Congo",
          "Haiti",
          "Yemen",
          "Cuba",
          "Faroe Islands",
          "Ethiopia",
          "Uzbekistan",
          "Cameroon",
          "Rwanda",
          "Mali",
          "Liberia",
          "Sri Lanka",
          "Ghana",
          "Angola",
          "Mozambique",
          "Central African Republic",
          "Madagascar",
          "Sierra Leone",
          "Togo",
          "Tajikistan",
          "Grenada",
          "Somalia",
          "Nigeria",
          "Mauritius",
          "Chad",
          "Democratic Republic of the Congo",
          "Uganda",
          "Brunei Darussalam",
          "Niger",
          "Burkina Faso",
          "Guinea",
          "Côte d’Ivoire",
          "South Sudan",
          "New Zealand",
          "Singapore",
          "Benin",
          "China",
          "Fiji",
          "Eritrea",
          "Bhutan",
          "Thailand",
          "Papua New Guinea",
          "Mongolia",
          "Viet Nam",
          "United Republic of Tanzania",
          "Burundi",
          "Samoa",
          "Niue",
          "Micronesia (Federated States of)",
          "Nauru",
          "American Samoa",
          "Tonga",
          "Tokelau",
          "Holy See",
          "Wallis and Futuna",
          "Saint Kitts and Nevis",
          "Marshall Islands",
          "Democratic People's Republic of Korea",
          "Anguilla",
          "Cook Islands",
          "Saba",
          "Timor-Leste",
          "Lao People's Democratic Republic",
          "Saint Pierre and Miquelon",
          "Falkland Islands (Malvinas)",
          "Solomon Islands",
          "Cambodia",
          "Vanuatu",
          "Dominica",
          "Greenland",
          "Turkmenistan",
          "Kiribati",
          "Pitcairn Islands",
          "Palau",
          "Sint Eustatius",
          "New Caledonia",
          "Saint Helena",
          "Saint Barthélemy",
          "Tuvalu",
          "Other"
         ]
        }
       ],
       "layout": {
        "barmode": "stack",
        "plot_bgcolor": "white",
        "showlegend": false,
        "template": {
         "data": {
          "bar": [
           {
            "error_x": {
             "color": "#2a3f5f"
            },
            "error_y": {
             "color": "#2a3f5f"
            },
            "marker": {
             "line": {
              "color": "#E5ECF6",
              "width": 0.5
             },
             "pattern": {
              "fillmode": "overlay",
              "size": 10,
              "solidity": 0.2
             }
            },
            "type": "bar"
           }
          ],
          "barpolar": [
           {
            "marker": {
             "line": {
              "color": "#E5ECF6",
              "width": 0.5
             },
             "pattern": {
              "fillmode": "overlay",
              "size": 10,
              "solidity": 0.2
             }
            },
            "type": "barpolar"
           }
          ],
          "carpet": [
           {
            "aaxis": {
             "endlinecolor": "#2a3f5f",
             "gridcolor": "white",
             "linecolor": "white",
             "minorgridcolor": "white",
             "startlinecolor": "#2a3f5f"
            },
            "baxis": {
             "endlinecolor": "#2a3f5f",
             "gridcolor": "white",
             "linecolor": "white",
             "minorgridcolor": "white",
             "startlinecolor": "#2a3f5f"
            },
            "type": "carpet"
           }
          ],
          "choropleth": [
           {
            "colorbar": {
             "outlinewidth": 0,
             "ticks": ""
            },
            "type": "choropleth"
           }
          ],
          "contour": [
           {
            "colorbar": {
             "outlinewidth": 0,
             "ticks": ""
            },
            "colorscale": [
             [
              0,
              "#0d0887"
             ],
             [
              0.1111111111111111,
              "#46039f"
             ],
             [
              0.2222222222222222,
              "#7201a8"
             ],
             [
              0.3333333333333333,
              "#9c179e"
             ],
             [
              0.4444444444444444,
              "#bd3786"
             ],
             [
              0.5555555555555556,
              "#d8576b"
             ],
             [
              0.6666666666666666,
              "#ed7953"
             ],
             [
              0.7777777777777778,
              "#fb9f3a"
             ],
             [
              0.8888888888888888,
              "#fdca26"
             ],
             [
              1,
              "#f0f921"
             ]
            ],
            "type": "contour"
           }
          ],
          "contourcarpet": [
           {
            "colorbar": {
             "outlinewidth": 0,
             "ticks": ""
            },
            "type": "contourcarpet"
           }
          ],
          "heatmap": [
           {
            "colorbar": {
             "outlinewidth": 0,
             "ticks": ""
            },
            "colorscale": [
             [
              0,
              "#0d0887"
             ],
             [
              0.1111111111111111,
              "#46039f"
             ],
             [
              0.2222222222222222,
              "#7201a8"
             ],
             [
              0.3333333333333333,
              "#9c179e"
             ],
             [
              0.4444444444444444,
              "#bd3786"
             ],
             [
              0.5555555555555556,
              "#d8576b"
             ],
             [
              0.6666666666666666,
              "#ed7953"
             ],
             [
              0.7777777777777778,
              "#fb9f3a"
             ],
             [
              0.8888888888888888,
              "#fdca26"
             ],
             [
              1,
              "#f0f921"
             ]
            ],
            "type": "heatmap"
           }
          ],
          "heatmapgl": [
           {
            "colorbar": {
             "outlinewidth": 0,
             "ticks": ""
            },
            "colorscale": [
             [
              0,
              "#0d0887"
             ],
             [
              0.1111111111111111,
              "#46039f"
             ],
             [
              0.2222222222222222,
              "#7201a8"
             ],
             [
              0.3333333333333333,
              "#9c179e"
             ],
             [
              0.4444444444444444,
              "#bd3786"
             ],
             [
              0.5555555555555556,
              "#d8576b"
             ],
             [
              0.6666666666666666,
              "#ed7953"
             ],
             [
              0.7777777777777778,
              "#fb9f3a"
             ],
             [
              0.8888888888888888,
              "#fdca26"
             ],
             [
              1,
              "#f0f921"
             ]
            ],
            "type": "heatmapgl"
           }
          ],
          "histogram": [
           {
            "marker": {
             "pattern": {
              "fillmode": "overlay",
              "size": 10,
              "solidity": 0.2
             }
            },
            "type": "histogram"
           }
          ],
          "histogram2d": [
           {
            "colorbar": {
             "outlinewidth": 0,
             "ticks": ""
            },
            "colorscale": [
             [
              0,
              "#0d0887"
             ],
             [
              0.1111111111111111,
              "#46039f"
             ],
             [
              0.2222222222222222,
              "#7201a8"
             ],
             [
              0.3333333333333333,
              "#9c179e"
             ],
             [
              0.4444444444444444,
              "#bd3786"
             ],
             [
              0.5555555555555556,
              "#d8576b"
             ],
             [
              0.6666666666666666,
              "#ed7953"
             ],
             [
              0.7777777777777778,
              "#fb9f3a"
             ],
             [
              0.8888888888888888,
              "#fdca26"
             ],
             [
              1,
              "#f0f921"
             ]
            ],
            "type": "histogram2d"
           }
          ],
          "histogram2dcontour": [
           {
            "colorbar": {
             "outlinewidth": 0,
             "ticks": ""
            },
            "colorscale": [
             [
              0,
              "#0d0887"
             ],
             [
              0.1111111111111111,
              "#46039f"
             ],
             [
              0.2222222222222222,
              "#7201a8"
             ],
             [
              0.3333333333333333,
              "#9c179e"
             ],
             [
              0.4444444444444444,
              "#bd3786"
             ],
             [
              0.5555555555555556,
              "#d8576b"
             ],
             [
              0.6666666666666666,
              "#ed7953"
             ],
             [
              0.7777777777777778,
              "#fb9f3a"
             ],
             [
              0.8888888888888888,
              "#fdca26"
             ],
             [
              1,
              "#f0f921"
             ]
            ],
            "type": "histogram2dcontour"
           }
          ],
          "mesh3d": [
           {
            "colorbar": {
             "outlinewidth": 0,
             "ticks": ""
            },
            "type": "mesh3d"
           }
          ],
          "parcoords": [
           {
            "line": {
             "colorbar": {
              "outlinewidth": 0,
              "ticks": ""
             }
            },
            "type": "parcoords"
           }
          ],
          "pie": [
           {
            "automargin": true,
            "type": "pie"
           }
          ],
          "scatter": [
           {
            "marker": {
             "colorbar": {
              "outlinewidth": 0,
              "ticks": ""
             }
            },
            "type": "scatter"
           }
          ],
          "scatter3d": [
           {
            "line": {
             "colorbar": {
              "outlinewidth": 0,
              "ticks": ""
             }
            },
            "marker": {
             "colorbar": {
              "outlinewidth": 0,
              "ticks": ""
             }
            },
            "type": "scatter3d"
           }
          ],
          "scattercarpet": [
           {
            "marker": {
             "colorbar": {
              "outlinewidth": 0,
              "ticks": ""
             }
            },
            "type": "scattercarpet"
           }
          ],
          "scattergeo": [
           {
            "marker": {
             "colorbar": {
              "outlinewidth": 0,
              "ticks": ""
             }
            },
            "type": "scattergeo"
           }
          ],
          "scattergl": [
           {
            "marker": {
             "colorbar": {
              "outlinewidth": 0,
              "ticks": ""
             }
            },
            "type": "scattergl"
           }
          ],
          "scattermapbox": [
           {
            "marker": {
             "colorbar": {
              "outlinewidth": 0,
              "ticks": ""
             }
            },
            "type": "scattermapbox"
           }
          ],
          "scatterpolar": [
           {
            "marker": {
             "colorbar": {
              "outlinewidth": 0,
              "ticks": ""
             }
            },
            "type": "scatterpolar"
           }
          ],
          "scatterpolargl": [
           {
            "marker": {
             "colorbar": {
              "outlinewidth": 0,
              "ticks": ""
             }
            },
            "type": "scatterpolargl"
           }
          ],
          "scatterternary": [
           {
            "marker": {
             "colorbar": {
              "outlinewidth": 0,
              "ticks": ""
             }
            },
            "type": "scatterternary"
           }
          ],
          "surface": [
           {
            "colorbar": {
             "outlinewidth": 0,
             "ticks": ""
            },
            "colorscale": [
             [
              0,
              "#0d0887"
             ],
             [
              0.1111111111111111,
              "#46039f"
             ],
             [
              0.2222222222222222,
              "#7201a8"
             ],
             [
              0.3333333333333333,
              "#9c179e"
             ],
             [
              0.4444444444444444,
              "#bd3786"
             ],
             [
              0.5555555555555556,
              "#d8576b"
             ],
             [
              0.6666666666666666,
              "#ed7953"
             ],
             [
              0.7777777777777778,
              "#fb9f3a"
             ],
             [
              0.8888888888888888,
              "#fdca26"
             ],
             [
              1,
              "#f0f921"
             ]
            ],
            "type": "surface"
           }
          ],
          "table": [
           {
            "cells": {
             "fill": {
              "color": "#EBF0F8"
             },
             "line": {
              "color": "white"
             }
            },
            "header": {
             "fill": {
              "color": "#C8D4E3"
             },
             "line": {
              "color": "white"
             }
            },
            "type": "table"
           }
          ]
         },
         "layout": {
          "annotationdefaults": {
           "arrowcolor": "#2a3f5f",
           "arrowhead": 0,
           "arrowwidth": 1
          },
          "autotypenumbers": "strict",
          "coloraxis": {
           "colorbar": {
            "outlinewidth": 0,
            "ticks": ""
           }
          },
          "colorscale": {
           "diverging": [
            [
             0,
             "#8e0152"
            ],
            [
             0.1,
             "#c51b7d"
            ],
            [
             0.2,
             "#de77ae"
            ],
            [
             0.3,
             "#f1b6da"
            ],
            [
             0.4,
             "#fde0ef"
            ],
            [
             0.5,
             "#f7f7f7"
            ],
            [
             0.6,
             "#e6f5d0"
            ],
            [
             0.7,
             "#b8e186"
            ],
            [
             0.8,
             "#7fbc41"
            ],
            [
             0.9,
             "#4d9221"
            ],
            [
             1,
             "#276419"
            ]
           ],
           "sequential": [
            [
             0,
             "#0d0887"
            ],
            [
             0.1111111111111111,
             "#46039f"
            ],
            [
             0.2222222222222222,
             "#7201a8"
            ],
            [
             0.3333333333333333,
             "#9c179e"
            ],
            [
             0.4444444444444444,
             "#bd3786"
            ],
            [
             0.5555555555555556,
             "#d8576b"
            ],
            [
             0.6666666666666666,
             "#ed7953"
            ],
            [
             0.7777777777777778,
             "#fb9f3a"
            ],
            [
             0.8888888888888888,
             "#fdca26"
            ],
            [
             1,
             "#f0f921"
            ]
           ],
           "sequentialminus": [
            [
             0,
             "#0d0887"
            ],
            [
             0.1111111111111111,
             "#46039f"
            ],
            [
             0.2222222222222222,
             "#7201a8"
            ],
            [
             0.3333333333333333,
             "#9c179e"
            ],
            [
             0.4444444444444444,
             "#bd3786"
            ],
            [
             0.5555555555555556,
             "#d8576b"
            ],
            [
             0.6666666666666666,
             "#ed7953"
            ],
            [
             0.7777777777777778,
             "#fb9f3a"
            ],
            [
             0.8888888888888888,
             "#fdca26"
            ],
            [
             1,
             "#f0f921"
            ]
           ]
          },
          "colorway": [
           "#636efa",
           "#EF553B",
           "#00cc96",
           "#ab63fa",
           "#FFA15A",
           "#19d3f3",
           "#FF6692",
           "#B6E880",
           "#FF97FF",
           "#FECB52"
          ],
          "font": {
           "color": "#2a3f5f"
          },
          "geo": {
           "bgcolor": "white",
           "lakecolor": "white",
           "landcolor": "#E5ECF6",
           "showlakes": true,
           "showland": true,
           "subunitcolor": "white"
          },
          "hoverlabel": {
           "align": "left"
          },
          "hovermode": "closest",
          "mapbox": {
           "style": "light"
          },
          "paper_bgcolor": "white",
          "plot_bgcolor": "#E5ECF6",
          "polar": {
           "angularaxis": {
            "gridcolor": "white",
            "linecolor": "white",
            "ticks": ""
           },
           "bgcolor": "#E5ECF6",
           "radialaxis": {
            "gridcolor": "white",
            "linecolor": "white",
            "ticks": ""
           }
          },
          "scene": {
           "xaxis": {
            "backgroundcolor": "#E5ECF6",
            "gridcolor": "white",
            "gridwidth": 2,
            "linecolor": "white",
            "showbackground": true,
            "ticks": "",
            "zerolinecolor": "white"
           },
           "yaxis": {
            "backgroundcolor": "#E5ECF6",
            "gridcolor": "white",
            "gridwidth": 2,
            "linecolor": "white",
            "showbackground": true,
            "ticks": "",
            "zerolinecolor": "white"
           },
           "zaxis": {
            "backgroundcolor": "#E5ECF6",
            "gridcolor": "white",
            "gridwidth": 2,
            "linecolor": "white",
            "showbackground": true,
            "ticks": "",
            "zerolinecolor": "white"
           }
          },
          "shapedefaults": {
           "line": {
            "color": "#2a3f5f"
           }
          },
          "ternary": {
           "aaxis": {
            "gridcolor": "white",
            "linecolor": "white",
            "ticks": ""
           },
           "baxis": {
            "gridcolor": "white",
            "linecolor": "white",
            "ticks": ""
           },
           "bgcolor": "#E5ECF6",
           "caxis": {
            "gridcolor": "white",
            "linecolor": "white",
            "ticks": ""
           }
          },
          "title": {
           "x": 0.05
          },
          "xaxis": {
           "automargin": true,
           "gridcolor": "white",
           "linecolor": "white",
           "ticks": "",
           "title": {
            "standoff": 15
           },
           "zerolinecolor": "white",
           "zerolinewidth": 2
          },
          "yaxis": {
           "automargin": true,
           "gridcolor": "white",
           "linecolor": "white",
           "ticks": "",
           "title": {
            "standoff": 15
           },
           "zerolinecolor": "white",
           "zerolinewidth": 2
          }
         }
        },
        "title": {
         "text": "Muertes acumuladas por millón de habitantes"
        },
        "xaxis": {
         "showgrid": false,
         "title": {
          "text": "Muertes por millón"
         }
        },
        "yaxis": {
         "range": [
          9.5,
          -0.5
         ],
         "showgrid": false,
         "title": {
          "text": "Países"
         }
        }
       }
      },
      "text/html": [
       "<div>                            <div id=\"502ddc53-fe12-48ca-994a-3bda342debcc\" class=\"plotly-graph-div\" style=\"height:525px; width:100%;\"></div>            <script type=\"text/javascript\">                require([\"plotly\"], function(Plotly) {                    window.PLOTLYENV=window.PLOTLYENV || {};                                    if (document.getElementById(\"502ddc53-fe12-48ca-994a-3bda342debcc\")) {                    Plotly.newPlot(                        \"502ddc53-fe12-48ca-994a-3bda342debcc\",                        [{\"marker\":{\"color\":\"rgb(26, 118, 255)\"},\"orientation\":\"h\",\"text\":[2374.52,2033.12,1872.11,1842.34,1651.18,1609.4,1505.13,1460.31,1399.65,1376.83,1368.48,1358.96,1355.02,1340.01,1323.11,1300.44,1274.23,1271.78,1259.11,1257.54,1206.18,1200.93,1199.59,1088.83,1083.84,1082.21,1078.87,1051.89,1032.77,1019.34,988.43,977.72,952.26,945.72,915.53,875.38,875.07,850.42,837.77,822.98,811.66,778.64,769.56,764.33,744.06,734.23,703.53,695.44,654.35,638.67,629.63,615.81,605.99,590.49,571.34,570.95,555.25,546.05,539.56,525.31,524.53,521.87,520.62,509.63,502.47,473.46,447.56,428.2,403.42,394.88,391.31,382.41,372.96,347.52,326.75,325.96,316.4,311.27,310.41,300.0,294.01,281.75,269.33,264.5,258.21,257.93,242.81,234.59,232.45,229.83,227.58,227.06,225.73,222.73,218.57,205.71,200.04,192.7,187.63,183.75,174.76,166.48,146.01,143.44,137.6,127.98,124.89,124.19,120.56,119.92,114.77,112.32,107.36,101.39,99.9,98.02,96.46,93.85,92.41,91.4,88.54,86.77,85.42,84.98,82.13,71.48,69.84,69.31,66.38,63.77,62.64,61.91,61.3,61.01,58.22,55.45,54.11,53.94,52.5,50.11,49.73,45.64,43.75,43.01,41.76,40.31,35.65,34.75,33.07,33.03,31.9,30.43,28.69,27.04,26.48,25.66,23.37,22.11,21.57,20.65,20.57,20.46,18.66,18.55,17.86,16.75,16.69,16.61,16.39,14.45,14.45,14.43,13.04,10.15,9.9,9.54,9.54,8.89,8.43,7.99,7.86,7.61,7.58,7.15,6.86,6.82,6.41,6.4,6.14,5.81,5.18,4.96,4.54,3.28,2.23,1.97,1.3,1.13,1.01,0.61,0.36,0.35,0.25,0.0,0.0,0.0,0.0,0.0,0.0,0.0,0.0,0.0,0.0,0.0,0.0,0.0,0.0,0.0,0.0,0.0,0.0,0.0,0.0,0.0,0.0,0.0,0.0,0.0,0.0,0.0,0.0,0.0,0.0,0.0,0.0,0.0,null],\"textposition\":\"outside\",\"texttemplate\":\"%{text}\",\"type\":\"bar\",\"x\":[2374.52,2033.12,1872.11,1842.34,1651.18,1609.4,1505.13,1460.31,1399.65,1376.83,1368.48,1358.96,1355.02,1340.01,1323.11,1300.44,1274.23,1271.78,1259.11,1257.54,1206.18,1200.93,1199.59,1088.83,1083.84,1082.21,1078.87,1051.89,1032.77,1019.34,988.43,977.72,952.26,945.72,915.53,875.38,875.07,850.42,837.77,822.98,811.66,778.64,769.56,764.33,744.06,734.23,703.53,695.44,654.35,638.67,629.63,615.81,605.99,590.49,571.34,570.95,555.25,546.05,539.56,525.31,524.53,521.87,520.62,509.63,502.47,473.46,447.56,428.2,403.42,394.88,391.31,382.41,372.96,347.52,326.75,325.96,316.4,311.27,310.41,300.0,294.01,281.75,269.33,264.5,258.21,257.93,242.81,234.59,232.45,229.83,227.58,227.06,225.73,222.73,218.57,205.71,200.04,192.7,187.63,183.75,174.76,166.48,146.01,143.44,137.6,127.98,124.89,124.19,120.56,119.92,114.77,112.32,107.36,101.39,99.9,98.02,96.46,93.85,92.41,91.4,88.54,86.77,85.42,84.98,82.13,71.48,69.84,69.31,66.38,63.77,62.64,61.91,61.3,61.01,58.22,55.45,54.11,53.94,52.5,50.11,49.73,45.64,43.75,43.01,41.76,40.31,35.65,34.75,33.07,33.03,31.9,30.43,28.69,27.04,26.48,25.66,23.37,22.11,21.57,20.65,20.57,20.46,18.66,18.55,17.86,16.75,16.69,16.61,16.39,14.45,14.45,14.43,13.04,10.15,9.9,9.54,9.54,8.89,8.43,7.99,7.86,7.61,7.58,7.15,6.86,6.82,6.41,6.4,6.14,5.81,5.18,4.96,4.54,3.28,2.23,1.97,1.3,1.13,1.01,0.61,0.36,0.35,0.25,0.0,0.0,0.0,0.0,0.0,0.0,0.0,0.0,0.0,0.0,0.0,0.0,0.0,0.0,0.0,0.0,0.0,0.0,0.0,0.0,0.0,0.0,0.0,0.0,0.0,0.0,0.0,0.0,0.0,0.0,0.0,0.0,0.0,null],\"y\":[\"Gibraltar\",\"San Marino\",\"Slovenia\",\"Belgium\",\"The United Kingdom\",\"Czechia\",\"Italy\",\"Bosnia and Herzegovina\",\"North Macedonia\",\"United States of America\",\"Portugal\",\"Andorra\",\"Hungary\",\"Bulgaria\",\"Montenegro\",\"Spain\",\"Mexico\",\"Peru\",\"Croatia\",\"Panama\",\"Liechtenstein\",\"France\",\"Sweden\",\"Colombia\",\"Argentina\",\"Brazil\",\"Lithuania\",\"Armenia\",\"Poland\",\"Switzerland\",\"Chile\",\"Romania\",\"Slovakia\",\"Luxembourg\",\"Bolivia (Plurinational State of)\",\"Austria\",\"Republic of Moldova\",\"Ecuador\",\"Netherlands\",\"Georgia\",\"Kosovo[1]\",\"South Africa\",\"Belize\",\"Guam\",\"Ireland\",\"Germany\",\"Latvia\",\"Iran (Islamic Republic of)\",\"Puerto Rico\",\"Malta\",\"Sint Maarten\",\"Jersey\",\"Tunisia\",\"Serbia\",\"Aruba\",\"Greece\",\"Israel\",\"Canada\",\"Ukraine\",\"Russian Federation\",\"Costa Rica\",\"Lebanon\",\"Eswatini\",\"Monaco\",\"Albania\",\"French Polynesia\",\"Bahamas\",\"Jordan\",\"occupied Palestinian territory, including east Jerusalem\",\"Guadeloupe\",\"Paraguay\",\"Denmark\",\"Honduras\",\"Estonia\",\"Guatemala\",\"Iraq\",\"Turkey\",\"Azerbaijan\",\"Saint Martin\",\"Oman\",\"Isle of Man\",\"Libya\",\"Suriname\",\"French Guiana\",\"Dominican Republic\",\"El Salvador\",\"Cabo Verde\",\"Mayotte\",\"Turks and Caicos Islands\",\"United States Virgin Islands\",\"Guyana\",\"Morocco\",\"Kuwait\",\"Bahrain\",\"Kyrgyzstan\",\"Guernsey\",\"Montserrat\",\"Bermuda\",\"Belarus\",\"Saudi Arabia\",\"Cyprus\",\"Kazakhstan\",\"Namibia\",\"Bonaire\",\"Uruguay\",\"Cura\\u00e7ao\",\"Finland\",\"Comoros\",\"Jamaica\",\"Martinique\",\"Indonesia\",\"India\",\"Norway\",\"Philippines\",\"Maldives\",\"Saint Lucia\",\"Trinidad and Tobago\",\"Egypt\",\"United Arab Emirates\",\"Mauritania\",\"Zimbabwe\",\"Qatar\",\"Lesotho\",\"Iceland\",\"Sao Tome and Principe\",\"Antigua and Barbuda\",\"Nepal\",\"Botswana\",\"Algeria\",\"Djibouti\",\"Barbados\",\"Afghanistan\",\"Equatorial Guinea\",\"Seychelles\",\"Myanmar\",\"Gambia\",\"Syrian Arab Republic\",\"Pakistan\",\"R\\u00e9union\",\"Japan\",\"Bangladesh\",\"Zambia\",\"Malawi\",\"Venezuela (Bolivarian Republic of)\",\"Sudan\",\"Senegal\",\"Australia\",\"Northern Mariana Islands (Commonwealth of the)\",\"British Virgin Islands\",\"Kenya\",\"Gabon\",\"Cayman Islands\",\"Republic of Korea\",\"Saint Vincent and the Grenadines\",\"Malaysia\",\"Nicaragua\",\"Guinea-Bissau\",\"Congo\",\"Haiti\",\"Yemen\",\"Cuba\",\"Faroe Islands\",\"Ethiopia\",\"Uzbekistan\",\"Cameroon\",\"Rwanda\",\"Mali\",\"Liberia\",\"Sri Lanka\",\"Ghana\",\"Angola\",\"Mozambique\",\"Central African Republic\",\"Madagascar\",\"Sierra Leone\",\"Togo\",\"Tajikistan\",\"Grenada\",\"Somalia\",\"Nigeria\",\"Mauritius\",\"Chad\",\"Democratic Republic of the Congo\",\"Uganda\",\"Brunei Darussalam\",\"Niger\",\"Burkina Faso\",\"Guinea\",\"C\\u00f4te d\\u2019Ivoire\",\"South Sudan\",\"New Zealand\",\"Singapore\",\"Benin\",\"China\",\"Fiji\",\"Eritrea\",\"Bhutan\",\"Thailand\",\"Papua New Guinea\",\"Mongolia\",\"Viet Nam\",\"United Republic of Tanzania\",\"Burundi\",\"Samoa\",\"Niue\",\"Micronesia (Federated States of)\",\"Nauru\",\"American Samoa\",\"Tonga\",\"Tokelau\",\"Holy See\",\"Wallis and Futuna\",\"Saint Kitts and Nevis\",\"Marshall Islands\",\"Democratic People's Republic of Korea\",\"Anguilla\",\"Cook Islands\",\"Saba\",\"Timor-Leste\",\"Lao People's Democratic Republic\",\"Saint Pierre and Miquelon\",\"Falkland Islands (Malvinas)\",\"Solomon Islands\",\"Cambodia\",\"Vanuatu\",\"Dominica\",\"Greenland\",\"Turkmenistan\",\"Kiribati\",\"Pitcairn Islands\",\"Palau\",\"Sint Eustatius\",\"New Caledonia\",\"Saint Helena\",\"Saint Barth\\u00e9lemy\",\"Tuvalu\",\"Other\"]}],                        {\"barmode\":\"stack\",\"plot_bgcolor\":\"white\",\"showlegend\":false,\"template\":{\"data\":{\"bar\":[{\"error_x\":{\"color\":\"#2a3f5f\"},\"error_y\":{\"color\":\"#2a3f5f\"},\"marker\":{\"line\":{\"color\":\"#E5ECF6\",\"width\":0.5},\"pattern\":{\"fillmode\":\"overlay\",\"size\":10,\"solidity\":0.2}},\"type\":\"bar\"}],\"barpolar\":[{\"marker\":{\"line\":{\"color\":\"#E5ECF6\",\"width\":0.5},\"pattern\":{\"fillmode\":\"overlay\",\"size\":10,\"solidity\":0.2}},\"type\":\"barpolar\"}],\"carpet\":[{\"aaxis\":{\"endlinecolor\":\"#2a3f5f\",\"gridcolor\":\"white\",\"linecolor\":\"white\",\"minorgridcolor\":\"white\",\"startlinecolor\":\"#2a3f5f\"},\"baxis\":{\"endlinecolor\":\"#2a3f5f\",\"gridcolor\":\"white\",\"linecolor\":\"white\",\"minorgridcolor\":\"white\",\"startlinecolor\":\"#2a3f5f\"},\"type\":\"carpet\"}],\"choropleth\":[{\"colorbar\":{\"outlinewidth\":0,\"ticks\":\"\"},\"type\":\"choropleth\"}],\"contour\":[{\"colorbar\":{\"outlinewidth\":0,\"ticks\":\"\"},\"colorscale\":[[0.0,\"#0d0887\"],[0.1111111111111111,\"#46039f\"],[0.2222222222222222,\"#7201a8\"],[0.3333333333333333,\"#9c179e\"],[0.4444444444444444,\"#bd3786\"],[0.5555555555555556,\"#d8576b\"],[0.6666666666666666,\"#ed7953\"],[0.7777777777777778,\"#fb9f3a\"],[0.8888888888888888,\"#fdca26\"],[1.0,\"#f0f921\"]],\"type\":\"contour\"}],\"contourcarpet\":[{\"colorbar\":{\"outlinewidth\":0,\"ticks\":\"\"},\"type\":\"contourcarpet\"}],\"heatmap\":[{\"colorbar\":{\"outlinewidth\":0,\"ticks\":\"\"},\"colorscale\":[[0.0,\"#0d0887\"],[0.1111111111111111,\"#46039f\"],[0.2222222222222222,\"#7201a8\"],[0.3333333333333333,\"#9c179e\"],[0.4444444444444444,\"#bd3786\"],[0.5555555555555556,\"#d8576b\"],[0.6666666666666666,\"#ed7953\"],[0.7777777777777778,\"#fb9f3a\"],[0.8888888888888888,\"#fdca26\"],[1.0,\"#f0f921\"]],\"type\":\"heatmap\"}],\"heatmapgl\":[{\"colorbar\":{\"outlinewidth\":0,\"ticks\":\"\"},\"colorscale\":[[0.0,\"#0d0887\"],[0.1111111111111111,\"#46039f\"],[0.2222222222222222,\"#7201a8\"],[0.3333333333333333,\"#9c179e\"],[0.4444444444444444,\"#bd3786\"],[0.5555555555555556,\"#d8576b\"],[0.6666666666666666,\"#ed7953\"],[0.7777777777777778,\"#fb9f3a\"],[0.8888888888888888,\"#fdca26\"],[1.0,\"#f0f921\"]],\"type\":\"heatmapgl\"}],\"histogram\":[{\"marker\":{\"pattern\":{\"fillmode\":\"overlay\",\"size\":10,\"solidity\":0.2}},\"type\":\"histogram\"}],\"histogram2d\":[{\"colorbar\":{\"outlinewidth\":0,\"ticks\":\"\"},\"colorscale\":[[0.0,\"#0d0887\"],[0.1111111111111111,\"#46039f\"],[0.2222222222222222,\"#7201a8\"],[0.3333333333333333,\"#9c179e\"],[0.4444444444444444,\"#bd3786\"],[0.5555555555555556,\"#d8576b\"],[0.6666666666666666,\"#ed7953\"],[0.7777777777777778,\"#fb9f3a\"],[0.8888888888888888,\"#fdca26\"],[1.0,\"#f0f921\"]],\"type\":\"histogram2d\"}],\"histogram2dcontour\":[{\"colorbar\":{\"outlinewidth\":0,\"ticks\":\"\"},\"colorscale\":[[0.0,\"#0d0887\"],[0.1111111111111111,\"#46039f\"],[0.2222222222222222,\"#7201a8\"],[0.3333333333333333,\"#9c179e\"],[0.4444444444444444,\"#bd3786\"],[0.5555555555555556,\"#d8576b\"],[0.6666666666666666,\"#ed7953\"],[0.7777777777777778,\"#fb9f3a\"],[0.8888888888888888,\"#fdca26\"],[1.0,\"#f0f921\"]],\"type\":\"histogram2dcontour\"}],\"mesh3d\":[{\"colorbar\":{\"outlinewidth\":0,\"ticks\":\"\"},\"type\":\"mesh3d\"}],\"parcoords\":[{\"line\":{\"colorbar\":{\"outlinewidth\":0,\"ticks\":\"\"}},\"type\":\"parcoords\"}],\"pie\":[{\"automargin\":true,\"type\":\"pie\"}],\"scatter\":[{\"marker\":{\"colorbar\":{\"outlinewidth\":0,\"ticks\":\"\"}},\"type\":\"scatter\"}],\"scatter3d\":[{\"line\":{\"colorbar\":{\"outlinewidth\":0,\"ticks\":\"\"}},\"marker\":{\"colorbar\":{\"outlinewidth\":0,\"ticks\":\"\"}},\"type\":\"scatter3d\"}],\"scattercarpet\":[{\"marker\":{\"colorbar\":{\"outlinewidth\":0,\"ticks\":\"\"}},\"type\":\"scattercarpet\"}],\"scattergeo\":[{\"marker\":{\"colorbar\":{\"outlinewidth\":0,\"ticks\":\"\"}},\"type\":\"scattergeo\"}],\"scattergl\":[{\"marker\":{\"colorbar\":{\"outlinewidth\":0,\"ticks\":\"\"}},\"type\":\"scattergl\"}],\"scattermapbox\":[{\"marker\":{\"colorbar\":{\"outlinewidth\":0,\"ticks\":\"\"}},\"type\":\"scattermapbox\"}],\"scatterpolar\":[{\"marker\":{\"colorbar\":{\"outlinewidth\":0,\"ticks\":\"\"}},\"type\":\"scatterpolar\"}],\"scatterpolargl\":[{\"marker\":{\"colorbar\":{\"outlinewidth\":0,\"ticks\":\"\"}},\"type\":\"scatterpolargl\"}],\"scatterternary\":[{\"marker\":{\"colorbar\":{\"outlinewidth\":0,\"ticks\":\"\"}},\"type\":\"scatterternary\"}],\"surface\":[{\"colorbar\":{\"outlinewidth\":0,\"ticks\":\"\"},\"colorscale\":[[0.0,\"#0d0887\"],[0.1111111111111111,\"#46039f\"],[0.2222222222222222,\"#7201a8\"],[0.3333333333333333,\"#9c179e\"],[0.4444444444444444,\"#bd3786\"],[0.5555555555555556,\"#d8576b\"],[0.6666666666666666,\"#ed7953\"],[0.7777777777777778,\"#fb9f3a\"],[0.8888888888888888,\"#fdca26\"],[1.0,\"#f0f921\"]],\"type\":\"surface\"}],\"table\":[{\"cells\":{\"fill\":{\"color\":\"#EBF0F8\"},\"line\":{\"color\":\"white\"}},\"header\":{\"fill\":{\"color\":\"#C8D4E3\"},\"line\":{\"color\":\"white\"}},\"type\":\"table\"}]},\"layout\":{\"annotationdefaults\":{\"arrowcolor\":\"#2a3f5f\",\"arrowhead\":0,\"arrowwidth\":1},\"autotypenumbers\":\"strict\",\"coloraxis\":{\"colorbar\":{\"outlinewidth\":0,\"ticks\":\"\"}},\"colorscale\":{\"diverging\":[[0,\"#8e0152\"],[0.1,\"#c51b7d\"],[0.2,\"#de77ae\"],[0.3,\"#f1b6da\"],[0.4,\"#fde0ef\"],[0.5,\"#f7f7f7\"],[0.6,\"#e6f5d0\"],[0.7,\"#b8e186\"],[0.8,\"#7fbc41\"],[0.9,\"#4d9221\"],[1,\"#276419\"]],\"sequential\":[[0.0,\"#0d0887\"],[0.1111111111111111,\"#46039f\"],[0.2222222222222222,\"#7201a8\"],[0.3333333333333333,\"#9c179e\"],[0.4444444444444444,\"#bd3786\"],[0.5555555555555556,\"#d8576b\"],[0.6666666666666666,\"#ed7953\"],[0.7777777777777778,\"#fb9f3a\"],[0.8888888888888888,\"#fdca26\"],[1.0,\"#f0f921\"]],\"sequentialminus\":[[0.0,\"#0d0887\"],[0.1111111111111111,\"#46039f\"],[0.2222222222222222,\"#7201a8\"],[0.3333333333333333,\"#9c179e\"],[0.4444444444444444,\"#bd3786\"],[0.5555555555555556,\"#d8576b\"],[0.6666666666666666,\"#ed7953\"],[0.7777777777777778,\"#fb9f3a\"],[0.8888888888888888,\"#fdca26\"],[1.0,\"#f0f921\"]]},\"colorway\":[\"#636efa\",\"#EF553B\",\"#00cc96\",\"#ab63fa\",\"#FFA15A\",\"#19d3f3\",\"#FF6692\",\"#B6E880\",\"#FF97FF\",\"#FECB52\"],\"font\":{\"color\":\"#2a3f5f\"},\"geo\":{\"bgcolor\":\"white\",\"lakecolor\":\"white\",\"landcolor\":\"#E5ECF6\",\"showlakes\":true,\"showland\":true,\"subunitcolor\":\"white\"},\"hoverlabel\":{\"align\":\"left\"},\"hovermode\":\"closest\",\"mapbox\":{\"style\":\"light\"},\"paper_bgcolor\":\"white\",\"plot_bgcolor\":\"#E5ECF6\",\"polar\":{\"angularaxis\":{\"gridcolor\":\"white\",\"linecolor\":\"white\",\"ticks\":\"\"},\"bgcolor\":\"#E5ECF6\",\"radialaxis\":{\"gridcolor\":\"white\",\"linecolor\":\"white\",\"ticks\":\"\"}},\"scene\":{\"xaxis\":{\"backgroundcolor\":\"#E5ECF6\",\"gridcolor\":\"white\",\"gridwidth\":2,\"linecolor\":\"white\",\"showbackground\":true,\"ticks\":\"\",\"zerolinecolor\":\"white\"},\"yaxis\":{\"backgroundcolor\":\"#E5ECF6\",\"gridcolor\":\"white\",\"gridwidth\":2,\"linecolor\":\"white\",\"showbackground\":true,\"ticks\":\"\",\"zerolinecolor\":\"white\"},\"zaxis\":{\"backgroundcolor\":\"#E5ECF6\",\"gridcolor\":\"white\",\"gridwidth\":2,\"linecolor\":\"white\",\"showbackground\":true,\"ticks\":\"\",\"zerolinecolor\":\"white\"}},\"shapedefaults\":{\"line\":{\"color\":\"#2a3f5f\"}},\"ternary\":{\"aaxis\":{\"gridcolor\":\"white\",\"linecolor\":\"white\",\"ticks\":\"\"},\"baxis\":{\"gridcolor\":\"white\",\"linecolor\":\"white\",\"ticks\":\"\"},\"bgcolor\":\"#E5ECF6\",\"caxis\":{\"gridcolor\":\"white\",\"linecolor\":\"white\",\"ticks\":\"\"}},\"title\":{\"x\":0.05},\"xaxis\":{\"automargin\":true,\"gridcolor\":\"white\",\"linecolor\":\"white\",\"ticks\":\"\",\"title\":{\"standoff\":15},\"zerolinecolor\":\"white\",\"zerolinewidth\":2},\"yaxis\":{\"automargin\":true,\"gridcolor\":\"white\",\"linecolor\":\"white\",\"ticks\":\"\",\"title\":{\"standoff\":15},\"zerolinecolor\":\"white\",\"zerolinewidth\":2}}},\"title\":{\"text\":\"Muertes acumuladas por mill\\u00f3n de habitantes\"},\"xaxis\":{\"showgrid\":false,\"title\":{\"text\":\"Muertes por mill\\u00f3n\"}},\"yaxis\":{\"range\":[9.5,-0.5],\"showgrid\":false,\"title\":{\"text\":\"Pa\\u00edses\"}}},                        {\"responsive\": true}                    ).then(function(){\n",
       "                            \n",
       "var gd = document.getElementById('502ddc53-fe12-48ca-994a-3bda342debcc');\n",
       "var x = new MutationObserver(function (mutations, observer) {{\n",
       "        var display = window.getComputedStyle(gd).display;\n",
       "        if (!display || display === 'none') {{\n",
       "            console.log([gd, 'removed!']);\n",
       "            Plotly.purge(gd);\n",
       "            observer.disconnect();\n",
       "        }}\n",
       "}});\n",
       "\n",
       "// Listen for the removal of the full notebook cells\n",
       "var notebookContainer = gd.closest('#notebook-container');\n",
       "if (notebookContainer) {{\n",
       "    x.observe(notebookContainer, {childList: true});\n",
       "}}\n",
       "\n",
       "// Listen for the clearing of the current output cell\n",
       "var outputEl = gd.closest('.output');\n",
       "if (outputEl) {{\n",
       "    x.observe(outputEl, {childList: true});\n",
       "}}\n",
       "\n",
       "                        })                };                });            </script>        </div>"
      ]
     },
     "metadata": {},
     "output_type": "display_data"
    }
   ],
   "source": [
    "# Contenga un diagrama de barras horizontal de las muertes por millón de personas.\n",
    "\n",
    "def fig_muertes_m():\n",
    "    \n",
    "    # Cargamos los datos.\n",
    "    df = datos\n",
    "     # Ordenamos los datos de mayor a menor.\n",
    "    df = df.sort_values(by = \"Deaths - cumulative total per 1 million population\", inplace = False, ascending = False) \n",
    "    # Definimos y retornamos la figura.\n",
    "    fig = go.Figure(go.Bar(\n",
    "                            x=df[\"Deaths - cumulative total per 1 million population\"],\n",
    "                            y=df[\"Name\"],\n",
    "                            text=df[\"Deaths - cumulative total per 1 million population\"],\n",
    "                            textposition='outside',                                # Posición de la etiqueta de datos. En este caso a la derecha.\n",
    "                            texttemplate='%{text}',                                # Formato de texto.\n",
    "                            marker_color='rgb(26, 118, 255)',                      # Color de las barras.\n",
    "                            orientation='h'                                        # Orientación de las barras. En este caso horizontal.\n",
    "                          )\n",
    "                   )\n",
    "    \n",
    "                    \n",
    "    fig.update_layout(\n",
    "                        barmode='stack',                                           # Tipo de barras. En este caso apiliadas.\n",
    "                        yaxis_title=\"Países\",\n",
    "                        xaxis_title=\"Muertes por millón\",\n",
    "                        title= \"Muertes acumuladas por millón de habitantes\",\n",
    "                        xaxis=dict(showgrid=False),                                # Ocultamos la cuadrícula de eje x.\n",
    "                        yaxis=dict(showgrid=False),                                # Ocultamos la cuadrícula de eje y.\n",
    "                        plot_bgcolor='white',                                      # Modificamos el color del fondo del gráfico.\n",
    "                        showlegend=False,                                          # Ocultamos la leyenda.\n",
    "                        yaxis_range=[9.5, -.5]                                     # Mostramos los 10 primeros datos.\n",
    "                     )\n",
    "\n",
    "    \n",
    "    return fig    \n",
    "    \n",
    "    \n",
    "    \n",
    "fig_muertes_m()"
   ]
  },
  {
   "cell_type": "code",
   "execution_count": 266,
   "metadata": {
    "deletable": false,
    "nbgrader": {
     "cell_type": "code",
     "checksum": "3b168ad55ffa09feb02fd6bc95683f22",
     "grade": true,
     "grade_id": "cell-ed0d5ee0d14fba55",
     "locked": false,
     "points": 1,
     "schema_version": 3,
     "solution": true,
     "task": false
    }
   },
   "outputs": [
    {
     "data": {
      "application/vnd.plotly.v1+json": {
       "config": {
        "plotlyServerURL": "https://plot.ly"
       },
       "data": [
        {
         "marker": {
          "color": "rgb(26, 118, 255)"
         },
         "orientation": "h",
         "text": [
          46913216,
          35481004,
          13033797,
          5828434,
          2655316,
          1481789,
          745
         ],
         "textposition": "outside",
         "texttemplate": "%{text}",
         "type": "bar",
         "x": [
          46913216,
          35481004,
          13033797,
          5828434,
          2655316,
          1481789,
          745
         ],
         "y": [
          "Americas",
          "Europe",
          "South-East Asia",
          "Eastern Mediterranean",
          "Africa",
          "Western Pacific",
          "Other"
         ]
        }
       ],
       "layout": {
        "barmode": "stack",
        "plot_bgcolor": "white",
        "showlegend": false,
        "template": {
         "data": {
          "bar": [
           {
            "error_x": {
             "color": "#2a3f5f"
            },
            "error_y": {
             "color": "#2a3f5f"
            },
            "marker": {
             "line": {
              "color": "#E5ECF6",
              "width": 0.5
             },
             "pattern": {
              "fillmode": "overlay",
              "size": 10,
              "solidity": 0.2
             }
            },
            "type": "bar"
           }
          ],
          "barpolar": [
           {
            "marker": {
             "line": {
              "color": "#E5ECF6",
              "width": 0.5
             },
             "pattern": {
              "fillmode": "overlay",
              "size": 10,
              "solidity": 0.2
             }
            },
            "type": "barpolar"
           }
          ],
          "carpet": [
           {
            "aaxis": {
             "endlinecolor": "#2a3f5f",
             "gridcolor": "white",
             "linecolor": "white",
             "minorgridcolor": "white",
             "startlinecolor": "#2a3f5f"
            },
            "baxis": {
             "endlinecolor": "#2a3f5f",
             "gridcolor": "white",
             "linecolor": "white",
             "minorgridcolor": "white",
             "startlinecolor": "#2a3f5f"
            },
            "type": "carpet"
           }
          ],
          "choropleth": [
           {
            "colorbar": {
             "outlinewidth": 0,
             "ticks": ""
            },
            "type": "choropleth"
           }
          ],
          "contour": [
           {
            "colorbar": {
             "outlinewidth": 0,
             "ticks": ""
            },
            "colorscale": [
             [
              0,
              "#0d0887"
             ],
             [
              0.1111111111111111,
              "#46039f"
             ],
             [
              0.2222222222222222,
              "#7201a8"
             ],
             [
              0.3333333333333333,
              "#9c179e"
             ],
             [
              0.4444444444444444,
              "#bd3786"
             ],
             [
              0.5555555555555556,
              "#d8576b"
             ],
             [
              0.6666666666666666,
              "#ed7953"
             ],
             [
              0.7777777777777778,
              "#fb9f3a"
             ],
             [
              0.8888888888888888,
              "#fdca26"
             ],
             [
              1,
              "#f0f921"
             ]
            ],
            "type": "contour"
           }
          ],
          "contourcarpet": [
           {
            "colorbar": {
             "outlinewidth": 0,
             "ticks": ""
            },
            "type": "contourcarpet"
           }
          ],
          "heatmap": [
           {
            "colorbar": {
             "outlinewidth": 0,
             "ticks": ""
            },
            "colorscale": [
             [
              0,
              "#0d0887"
             ],
             [
              0.1111111111111111,
              "#46039f"
             ],
             [
              0.2222222222222222,
              "#7201a8"
             ],
             [
              0.3333333333333333,
              "#9c179e"
             ],
             [
              0.4444444444444444,
              "#bd3786"
             ],
             [
              0.5555555555555556,
              "#d8576b"
             ],
             [
              0.6666666666666666,
              "#ed7953"
             ],
             [
              0.7777777777777778,
              "#fb9f3a"
             ],
             [
              0.8888888888888888,
              "#fdca26"
             ],
             [
              1,
              "#f0f921"
             ]
            ],
            "type": "heatmap"
           }
          ],
          "heatmapgl": [
           {
            "colorbar": {
             "outlinewidth": 0,
             "ticks": ""
            },
            "colorscale": [
             [
              0,
              "#0d0887"
             ],
             [
              0.1111111111111111,
              "#46039f"
             ],
             [
              0.2222222222222222,
              "#7201a8"
             ],
             [
              0.3333333333333333,
              "#9c179e"
             ],
             [
              0.4444444444444444,
              "#bd3786"
             ],
             [
              0.5555555555555556,
              "#d8576b"
             ],
             [
              0.6666666666666666,
              "#ed7953"
             ],
             [
              0.7777777777777778,
              "#fb9f3a"
             ],
             [
              0.8888888888888888,
              "#fdca26"
             ],
             [
              1,
              "#f0f921"
             ]
            ],
            "type": "heatmapgl"
           }
          ],
          "histogram": [
           {
            "marker": {
             "pattern": {
              "fillmode": "overlay",
              "size": 10,
              "solidity": 0.2
             }
            },
            "type": "histogram"
           }
          ],
          "histogram2d": [
           {
            "colorbar": {
             "outlinewidth": 0,
             "ticks": ""
            },
            "colorscale": [
             [
              0,
              "#0d0887"
             ],
             [
              0.1111111111111111,
              "#46039f"
             ],
             [
              0.2222222222222222,
              "#7201a8"
             ],
             [
              0.3333333333333333,
              "#9c179e"
             ],
             [
              0.4444444444444444,
              "#bd3786"
             ],
             [
              0.5555555555555556,
              "#d8576b"
             ],
             [
              0.6666666666666666,
              "#ed7953"
             ],
             [
              0.7777777777777778,
              "#fb9f3a"
             ],
             [
              0.8888888888888888,
              "#fdca26"
             ],
             [
              1,
              "#f0f921"
             ]
            ],
            "type": "histogram2d"
           }
          ],
          "histogram2dcontour": [
           {
            "colorbar": {
             "outlinewidth": 0,
             "ticks": ""
            },
            "colorscale": [
             [
              0,
              "#0d0887"
             ],
             [
              0.1111111111111111,
              "#46039f"
             ],
             [
              0.2222222222222222,
              "#7201a8"
             ],
             [
              0.3333333333333333,
              "#9c179e"
             ],
             [
              0.4444444444444444,
              "#bd3786"
             ],
             [
              0.5555555555555556,
              "#d8576b"
             ],
             [
              0.6666666666666666,
              "#ed7953"
             ],
             [
              0.7777777777777778,
              "#fb9f3a"
             ],
             [
              0.8888888888888888,
              "#fdca26"
             ],
             [
              1,
              "#f0f921"
             ]
            ],
            "type": "histogram2dcontour"
           }
          ],
          "mesh3d": [
           {
            "colorbar": {
             "outlinewidth": 0,
             "ticks": ""
            },
            "type": "mesh3d"
           }
          ],
          "parcoords": [
           {
            "line": {
             "colorbar": {
              "outlinewidth": 0,
              "ticks": ""
             }
            },
            "type": "parcoords"
           }
          ],
          "pie": [
           {
            "automargin": true,
            "type": "pie"
           }
          ],
          "scatter": [
           {
            "marker": {
             "colorbar": {
              "outlinewidth": 0,
              "ticks": ""
             }
            },
            "type": "scatter"
           }
          ],
          "scatter3d": [
           {
            "line": {
             "colorbar": {
              "outlinewidth": 0,
              "ticks": ""
             }
            },
            "marker": {
             "colorbar": {
              "outlinewidth": 0,
              "ticks": ""
             }
            },
            "type": "scatter3d"
           }
          ],
          "scattercarpet": [
           {
            "marker": {
             "colorbar": {
              "outlinewidth": 0,
              "ticks": ""
             }
            },
            "type": "scattercarpet"
           }
          ],
          "scattergeo": [
           {
            "marker": {
             "colorbar": {
              "outlinewidth": 0,
              "ticks": ""
             }
            },
            "type": "scattergeo"
           }
          ],
          "scattergl": [
           {
            "marker": {
             "colorbar": {
              "outlinewidth": 0,
              "ticks": ""
             }
            },
            "type": "scattergl"
           }
          ],
          "scattermapbox": [
           {
            "marker": {
             "colorbar": {
              "outlinewidth": 0,
              "ticks": ""
             }
            },
            "type": "scattermapbox"
           }
          ],
          "scatterpolar": [
           {
            "marker": {
             "colorbar": {
              "outlinewidth": 0,
              "ticks": ""
             }
            },
            "type": "scatterpolar"
           }
          ],
          "scatterpolargl": [
           {
            "marker": {
             "colorbar": {
              "outlinewidth": 0,
              "ticks": ""
             }
            },
            "type": "scatterpolargl"
           }
          ],
          "scatterternary": [
           {
            "marker": {
             "colorbar": {
              "outlinewidth": 0,
              "ticks": ""
             }
            },
            "type": "scatterternary"
           }
          ],
          "surface": [
           {
            "colorbar": {
             "outlinewidth": 0,
             "ticks": ""
            },
            "colorscale": [
             [
              0,
              "#0d0887"
             ],
             [
              0.1111111111111111,
              "#46039f"
             ],
             [
              0.2222222222222222,
              "#7201a8"
             ],
             [
              0.3333333333333333,
              "#9c179e"
             ],
             [
              0.4444444444444444,
              "#bd3786"
             ],
             [
              0.5555555555555556,
              "#d8576b"
             ],
             [
              0.6666666666666666,
              "#ed7953"
             ],
             [
              0.7777777777777778,
              "#fb9f3a"
             ],
             [
              0.8888888888888888,
              "#fdca26"
             ],
             [
              1,
              "#f0f921"
             ]
            ],
            "type": "surface"
           }
          ],
          "table": [
           {
            "cells": {
             "fill": {
              "color": "#EBF0F8"
             },
             "line": {
              "color": "white"
             }
            },
            "header": {
             "fill": {
              "color": "#C8D4E3"
             },
             "line": {
              "color": "white"
             }
            },
            "type": "table"
           }
          ]
         },
         "layout": {
          "annotationdefaults": {
           "arrowcolor": "#2a3f5f",
           "arrowhead": 0,
           "arrowwidth": 1
          },
          "autotypenumbers": "strict",
          "coloraxis": {
           "colorbar": {
            "outlinewidth": 0,
            "ticks": ""
           }
          },
          "colorscale": {
           "diverging": [
            [
             0,
             "#8e0152"
            ],
            [
             0.1,
             "#c51b7d"
            ],
            [
             0.2,
             "#de77ae"
            ],
            [
             0.3,
             "#f1b6da"
            ],
            [
             0.4,
             "#fde0ef"
            ],
            [
             0.5,
             "#f7f7f7"
            ],
            [
             0.6,
             "#e6f5d0"
            ],
            [
             0.7,
             "#b8e186"
            ],
            [
             0.8,
             "#7fbc41"
            ],
            [
             0.9,
             "#4d9221"
            ],
            [
             1,
             "#276419"
            ]
           ],
           "sequential": [
            [
             0,
             "#0d0887"
            ],
            [
             0.1111111111111111,
             "#46039f"
            ],
            [
             0.2222222222222222,
             "#7201a8"
            ],
            [
             0.3333333333333333,
             "#9c179e"
            ],
            [
             0.4444444444444444,
             "#bd3786"
            ],
            [
             0.5555555555555556,
             "#d8576b"
            ],
            [
             0.6666666666666666,
             "#ed7953"
            ],
            [
             0.7777777777777778,
             "#fb9f3a"
            ],
            [
             0.8888888888888888,
             "#fdca26"
            ],
            [
             1,
             "#f0f921"
            ]
           ],
           "sequentialminus": [
            [
             0,
             "#0d0887"
            ],
            [
             0.1111111111111111,
             "#46039f"
            ],
            [
             0.2222222222222222,
             "#7201a8"
            ],
            [
             0.3333333333333333,
             "#9c179e"
            ],
            [
             0.4444444444444444,
             "#bd3786"
            ],
            [
             0.5555555555555556,
             "#d8576b"
            ],
            [
             0.6666666666666666,
             "#ed7953"
            ],
            [
             0.7777777777777778,
             "#fb9f3a"
            ],
            [
             0.8888888888888888,
             "#fdca26"
            ],
            [
             1,
             "#f0f921"
            ]
           ]
          },
          "colorway": [
           "#636efa",
           "#EF553B",
           "#00cc96",
           "#ab63fa",
           "#FFA15A",
           "#19d3f3",
           "#FF6692",
           "#B6E880",
           "#FF97FF",
           "#FECB52"
          ],
          "font": {
           "color": "#2a3f5f"
          },
          "geo": {
           "bgcolor": "white",
           "lakecolor": "white",
           "landcolor": "#E5ECF6",
           "showlakes": true,
           "showland": true,
           "subunitcolor": "white"
          },
          "hoverlabel": {
           "align": "left"
          },
          "hovermode": "closest",
          "mapbox": {
           "style": "light"
          },
          "paper_bgcolor": "white",
          "plot_bgcolor": "#E5ECF6",
          "polar": {
           "angularaxis": {
            "gridcolor": "white",
            "linecolor": "white",
            "ticks": ""
           },
           "bgcolor": "#E5ECF6",
           "radialaxis": {
            "gridcolor": "white",
            "linecolor": "white",
            "ticks": ""
           }
          },
          "scene": {
           "xaxis": {
            "backgroundcolor": "#E5ECF6",
            "gridcolor": "white",
            "gridwidth": 2,
            "linecolor": "white",
            "showbackground": true,
            "ticks": "",
            "zerolinecolor": "white"
           },
           "yaxis": {
            "backgroundcolor": "#E5ECF6",
            "gridcolor": "white",
            "gridwidth": 2,
            "linecolor": "white",
            "showbackground": true,
            "ticks": "",
            "zerolinecolor": "white"
           },
           "zaxis": {
            "backgroundcolor": "#E5ECF6",
            "gridcolor": "white",
            "gridwidth": 2,
            "linecolor": "white",
            "showbackground": true,
            "ticks": "",
            "zerolinecolor": "white"
           }
          },
          "shapedefaults": {
           "line": {
            "color": "#2a3f5f"
           }
          },
          "ternary": {
           "aaxis": {
            "gridcolor": "white",
            "linecolor": "white",
            "ticks": ""
           },
           "baxis": {
            "gridcolor": "white",
            "linecolor": "white",
            "ticks": ""
           },
           "bgcolor": "#E5ECF6",
           "caxis": {
            "gridcolor": "white",
            "linecolor": "white",
            "ticks": ""
           }
          },
          "title": {
           "x": 0.05
          },
          "xaxis": {
           "automargin": true,
           "gridcolor": "white",
           "linecolor": "white",
           "ticks": "",
           "title": {
            "standoff": 15
           },
           "zerolinecolor": "white",
           "zerolinewidth": 2
          },
          "yaxis": {
           "automargin": true,
           "gridcolor": "white",
           "linecolor": "white",
           "ticks": "",
           "title": {
            "standoff": 15
           },
           "zerolinecolor": "white",
           "zerolinewidth": 2
          }
         }
        },
        "title": {
         "text": "Casos en cada una de las regiones de la OMS"
        },
        "xaxis": {
         "showgrid": false,
         "title": {
          "text": "Cases"
         }
        },
        "yaxis": {
         "range": [
          9.5,
          -0.5
         ],
         "showgrid": false,
         "title": {
          "text": "Región"
         }
        }
       }
      },
      "text/html": [
       "<div>                            <div id=\"7ffeb7dc-fa13-4540-894f-da20c2865695\" class=\"plotly-graph-div\" style=\"height:525px; width:100%;\"></div>            <script type=\"text/javascript\">                require([\"plotly\"], function(Plotly) {                    window.PLOTLYENV=window.PLOTLYENV || {};                                    if (document.getElementById(\"7ffeb7dc-fa13-4540-894f-da20c2865695\")) {                    Plotly.newPlot(                        \"7ffeb7dc-fa13-4540-894f-da20c2865695\",                        [{\"marker\":{\"color\":\"rgb(26, 118, 255)\"},\"orientation\":\"h\",\"text\":[46913216.0,35481004.0,13033797.0,5828434.0,2655316.0,1481789.0,745.0],\"textposition\":\"outside\",\"texttemplate\":\"%{text}\",\"type\":\"bar\",\"x\":[46913216,35481004,13033797,5828434,2655316,1481789,745],\"y\":[\"Americas\",\"Europe\",\"South-East Asia\",\"Eastern Mediterranean\",\"Africa\",\"Western Pacific\",\"Other\"]}],                        {\"barmode\":\"stack\",\"plot_bgcolor\":\"white\",\"showlegend\":false,\"template\":{\"data\":{\"bar\":[{\"error_x\":{\"color\":\"#2a3f5f\"},\"error_y\":{\"color\":\"#2a3f5f\"},\"marker\":{\"line\":{\"color\":\"#E5ECF6\",\"width\":0.5},\"pattern\":{\"fillmode\":\"overlay\",\"size\":10,\"solidity\":0.2}},\"type\":\"bar\"}],\"barpolar\":[{\"marker\":{\"line\":{\"color\":\"#E5ECF6\",\"width\":0.5},\"pattern\":{\"fillmode\":\"overlay\",\"size\":10,\"solidity\":0.2}},\"type\":\"barpolar\"}],\"carpet\":[{\"aaxis\":{\"endlinecolor\":\"#2a3f5f\",\"gridcolor\":\"white\",\"linecolor\":\"white\",\"minorgridcolor\":\"white\",\"startlinecolor\":\"#2a3f5f\"},\"baxis\":{\"endlinecolor\":\"#2a3f5f\",\"gridcolor\":\"white\",\"linecolor\":\"white\",\"minorgridcolor\":\"white\",\"startlinecolor\":\"#2a3f5f\"},\"type\":\"carpet\"}],\"choropleth\":[{\"colorbar\":{\"outlinewidth\":0,\"ticks\":\"\"},\"type\":\"choropleth\"}],\"contour\":[{\"colorbar\":{\"outlinewidth\":0,\"ticks\":\"\"},\"colorscale\":[[0.0,\"#0d0887\"],[0.1111111111111111,\"#46039f\"],[0.2222222222222222,\"#7201a8\"],[0.3333333333333333,\"#9c179e\"],[0.4444444444444444,\"#bd3786\"],[0.5555555555555556,\"#d8576b\"],[0.6666666666666666,\"#ed7953\"],[0.7777777777777778,\"#fb9f3a\"],[0.8888888888888888,\"#fdca26\"],[1.0,\"#f0f921\"]],\"type\":\"contour\"}],\"contourcarpet\":[{\"colorbar\":{\"outlinewidth\":0,\"ticks\":\"\"},\"type\":\"contourcarpet\"}],\"heatmap\":[{\"colorbar\":{\"outlinewidth\":0,\"ticks\":\"\"},\"colorscale\":[[0.0,\"#0d0887\"],[0.1111111111111111,\"#46039f\"],[0.2222222222222222,\"#7201a8\"],[0.3333333333333333,\"#9c179e\"],[0.4444444444444444,\"#bd3786\"],[0.5555555555555556,\"#d8576b\"],[0.6666666666666666,\"#ed7953\"],[0.7777777777777778,\"#fb9f3a\"],[0.8888888888888888,\"#fdca26\"],[1.0,\"#f0f921\"]],\"type\":\"heatmap\"}],\"heatmapgl\":[{\"colorbar\":{\"outlinewidth\":0,\"ticks\":\"\"},\"colorscale\":[[0.0,\"#0d0887\"],[0.1111111111111111,\"#46039f\"],[0.2222222222222222,\"#7201a8\"],[0.3333333333333333,\"#9c179e\"],[0.4444444444444444,\"#bd3786\"],[0.5555555555555556,\"#d8576b\"],[0.6666666666666666,\"#ed7953\"],[0.7777777777777778,\"#fb9f3a\"],[0.8888888888888888,\"#fdca26\"],[1.0,\"#f0f921\"]],\"type\":\"heatmapgl\"}],\"histogram\":[{\"marker\":{\"pattern\":{\"fillmode\":\"overlay\",\"size\":10,\"solidity\":0.2}},\"type\":\"histogram\"}],\"histogram2d\":[{\"colorbar\":{\"outlinewidth\":0,\"ticks\":\"\"},\"colorscale\":[[0.0,\"#0d0887\"],[0.1111111111111111,\"#46039f\"],[0.2222222222222222,\"#7201a8\"],[0.3333333333333333,\"#9c179e\"],[0.4444444444444444,\"#bd3786\"],[0.5555555555555556,\"#d8576b\"],[0.6666666666666666,\"#ed7953\"],[0.7777777777777778,\"#fb9f3a\"],[0.8888888888888888,\"#fdca26\"],[1.0,\"#f0f921\"]],\"type\":\"histogram2d\"}],\"histogram2dcontour\":[{\"colorbar\":{\"outlinewidth\":0,\"ticks\":\"\"},\"colorscale\":[[0.0,\"#0d0887\"],[0.1111111111111111,\"#46039f\"],[0.2222222222222222,\"#7201a8\"],[0.3333333333333333,\"#9c179e\"],[0.4444444444444444,\"#bd3786\"],[0.5555555555555556,\"#d8576b\"],[0.6666666666666666,\"#ed7953\"],[0.7777777777777778,\"#fb9f3a\"],[0.8888888888888888,\"#fdca26\"],[1.0,\"#f0f921\"]],\"type\":\"histogram2dcontour\"}],\"mesh3d\":[{\"colorbar\":{\"outlinewidth\":0,\"ticks\":\"\"},\"type\":\"mesh3d\"}],\"parcoords\":[{\"line\":{\"colorbar\":{\"outlinewidth\":0,\"ticks\":\"\"}},\"type\":\"parcoords\"}],\"pie\":[{\"automargin\":true,\"type\":\"pie\"}],\"scatter\":[{\"marker\":{\"colorbar\":{\"outlinewidth\":0,\"ticks\":\"\"}},\"type\":\"scatter\"}],\"scatter3d\":[{\"line\":{\"colorbar\":{\"outlinewidth\":0,\"ticks\":\"\"}},\"marker\":{\"colorbar\":{\"outlinewidth\":0,\"ticks\":\"\"}},\"type\":\"scatter3d\"}],\"scattercarpet\":[{\"marker\":{\"colorbar\":{\"outlinewidth\":0,\"ticks\":\"\"}},\"type\":\"scattercarpet\"}],\"scattergeo\":[{\"marker\":{\"colorbar\":{\"outlinewidth\":0,\"ticks\":\"\"}},\"type\":\"scattergeo\"}],\"scattergl\":[{\"marker\":{\"colorbar\":{\"outlinewidth\":0,\"ticks\":\"\"}},\"type\":\"scattergl\"}],\"scattermapbox\":[{\"marker\":{\"colorbar\":{\"outlinewidth\":0,\"ticks\":\"\"}},\"type\":\"scattermapbox\"}],\"scatterpolar\":[{\"marker\":{\"colorbar\":{\"outlinewidth\":0,\"ticks\":\"\"}},\"type\":\"scatterpolar\"}],\"scatterpolargl\":[{\"marker\":{\"colorbar\":{\"outlinewidth\":0,\"ticks\":\"\"}},\"type\":\"scatterpolargl\"}],\"scatterternary\":[{\"marker\":{\"colorbar\":{\"outlinewidth\":0,\"ticks\":\"\"}},\"type\":\"scatterternary\"}],\"surface\":[{\"colorbar\":{\"outlinewidth\":0,\"ticks\":\"\"},\"colorscale\":[[0.0,\"#0d0887\"],[0.1111111111111111,\"#46039f\"],[0.2222222222222222,\"#7201a8\"],[0.3333333333333333,\"#9c179e\"],[0.4444444444444444,\"#bd3786\"],[0.5555555555555556,\"#d8576b\"],[0.6666666666666666,\"#ed7953\"],[0.7777777777777778,\"#fb9f3a\"],[0.8888888888888888,\"#fdca26\"],[1.0,\"#f0f921\"]],\"type\":\"surface\"}],\"table\":[{\"cells\":{\"fill\":{\"color\":\"#EBF0F8\"},\"line\":{\"color\":\"white\"}},\"header\":{\"fill\":{\"color\":\"#C8D4E3\"},\"line\":{\"color\":\"white\"}},\"type\":\"table\"}]},\"layout\":{\"annotationdefaults\":{\"arrowcolor\":\"#2a3f5f\",\"arrowhead\":0,\"arrowwidth\":1},\"autotypenumbers\":\"strict\",\"coloraxis\":{\"colorbar\":{\"outlinewidth\":0,\"ticks\":\"\"}},\"colorscale\":{\"diverging\":[[0,\"#8e0152\"],[0.1,\"#c51b7d\"],[0.2,\"#de77ae\"],[0.3,\"#f1b6da\"],[0.4,\"#fde0ef\"],[0.5,\"#f7f7f7\"],[0.6,\"#e6f5d0\"],[0.7,\"#b8e186\"],[0.8,\"#7fbc41\"],[0.9,\"#4d9221\"],[1,\"#276419\"]],\"sequential\":[[0.0,\"#0d0887\"],[0.1111111111111111,\"#46039f\"],[0.2222222222222222,\"#7201a8\"],[0.3333333333333333,\"#9c179e\"],[0.4444444444444444,\"#bd3786\"],[0.5555555555555556,\"#d8576b\"],[0.6666666666666666,\"#ed7953\"],[0.7777777777777778,\"#fb9f3a\"],[0.8888888888888888,\"#fdca26\"],[1.0,\"#f0f921\"]],\"sequentialminus\":[[0.0,\"#0d0887\"],[0.1111111111111111,\"#46039f\"],[0.2222222222222222,\"#7201a8\"],[0.3333333333333333,\"#9c179e\"],[0.4444444444444444,\"#bd3786\"],[0.5555555555555556,\"#d8576b\"],[0.6666666666666666,\"#ed7953\"],[0.7777777777777778,\"#fb9f3a\"],[0.8888888888888888,\"#fdca26\"],[1.0,\"#f0f921\"]]},\"colorway\":[\"#636efa\",\"#EF553B\",\"#00cc96\",\"#ab63fa\",\"#FFA15A\",\"#19d3f3\",\"#FF6692\",\"#B6E880\",\"#FF97FF\",\"#FECB52\"],\"font\":{\"color\":\"#2a3f5f\"},\"geo\":{\"bgcolor\":\"white\",\"lakecolor\":\"white\",\"landcolor\":\"#E5ECF6\",\"showlakes\":true,\"showland\":true,\"subunitcolor\":\"white\"},\"hoverlabel\":{\"align\":\"left\"},\"hovermode\":\"closest\",\"mapbox\":{\"style\":\"light\"},\"paper_bgcolor\":\"white\",\"plot_bgcolor\":\"#E5ECF6\",\"polar\":{\"angularaxis\":{\"gridcolor\":\"white\",\"linecolor\":\"white\",\"ticks\":\"\"},\"bgcolor\":\"#E5ECF6\",\"radialaxis\":{\"gridcolor\":\"white\",\"linecolor\":\"white\",\"ticks\":\"\"}},\"scene\":{\"xaxis\":{\"backgroundcolor\":\"#E5ECF6\",\"gridcolor\":\"white\",\"gridwidth\":2,\"linecolor\":\"white\",\"showbackground\":true,\"ticks\":\"\",\"zerolinecolor\":\"white\"},\"yaxis\":{\"backgroundcolor\":\"#E5ECF6\",\"gridcolor\":\"white\",\"gridwidth\":2,\"linecolor\":\"white\",\"showbackground\":true,\"ticks\":\"\",\"zerolinecolor\":\"white\"},\"zaxis\":{\"backgroundcolor\":\"#E5ECF6\",\"gridcolor\":\"white\",\"gridwidth\":2,\"linecolor\":\"white\",\"showbackground\":true,\"ticks\":\"\",\"zerolinecolor\":\"white\"}},\"shapedefaults\":{\"line\":{\"color\":\"#2a3f5f\"}},\"ternary\":{\"aaxis\":{\"gridcolor\":\"white\",\"linecolor\":\"white\",\"ticks\":\"\"},\"baxis\":{\"gridcolor\":\"white\",\"linecolor\":\"white\",\"ticks\":\"\"},\"bgcolor\":\"#E5ECF6\",\"caxis\":{\"gridcolor\":\"white\",\"linecolor\":\"white\",\"ticks\":\"\"}},\"title\":{\"x\":0.05},\"xaxis\":{\"automargin\":true,\"gridcolor\":\"white\",\"linecolor\":\"white\",\"ticks\":\"\",\"title\":{\"standoff\":15},\"zerolinecolor\":\"white\",\"zerolinewidth\":2},\"yaxis\":{\"automargin\":true,\"gridcolor\":\"white\",\"linecolor\":\"white\",\"ticks\":\"\",\"title\":{\"standoff\":15},\"zerolinecolor\":\"white\",\"zerolinewidth\":2}}},\"title\":{\"text\":\"Casos en cada una de las regiones de la OMS\"},\"xaxis\":{\"showgrid\":false,\"title\":{\"text\":\"Cases\"}},\"yaxis\":{\"range\":[9.5,-0.5],\"showgrid\":false,\"title\":{\"text\":\"Regi\\u00f3n\"}}},                        {\"responsive\": true}                    ).then(function(){\n",
       "                            \n",
       "var gd = document.getElementById('7ffeb7dc-fa13-4540-894f-da20c2865695');\n",
       "var x = new MutationObserver(function (mutations, observer) {{\n",
       "        var display = window.getComputedStyle(gd).display;\n",
       "        if (!display || display === 'none') {{\n",
       "            console.log([gd, 'removed!']);\n",
       "            Plotly.purge(gd);\n",
       "            observer.disconnect();\n",
       "        }}\n",
       "}});\n",
       "\n",
       "// Listen for the removal of the full notebook cells\n",
       "var notebookContainer = gd.closest('#notebook-container');\n",
       "if (notebookContainer) {{\n",
       "    x.observe(notebookContainer, {childList: true});\n",
       "}}\n",
       "\n",
       "// Listen for the clearing of the current output cell\n",
       "var outputEl = gd.closest('.output');\n",
       "if (outputEl) {{\n",
       "    x.observe(outputEl, {childList: true});\n",
       "}}\n",
       "\n",
       "                        })                };                });            </script>        </div>"
      ]
     },
     "metadata": {},
     "output_type": "display_data"
    }
   ],
   "source": [
    "# Permita visualizar a tráves de un diagrama de barras horizontal los casos en cada una de las regiones de la Organización Munidal de la Salud.\n",
    "def fig_region():\n",
    "    \n",
    "    # Cargamos los datos.\n",
    "    df = datos\n",
    "    #agrupamos los datos por región\n",
    "    df= df.groupby(\"WHO Region\").sum().reset_index()\n",
    "     # Ordenamos los datos de mayor a menor.\n",
    "    df = df.sort_values(by = \"Cases - cumulative total\", inplace = False, ascending = False) \n",
    "    \n",
    "    # Definimos y retornamos la figura.\n",
    "    fig = go.Figure(go.Bar(\n",
    "                            x=df[\"Cases - cumulative total\"],\n",
    "                            y=df[\"WHO Region\"],\n",
    "                            text=df[\"Cases - cumulative total\"],\n",
    "                            textposition='outside',                                # Posición de la etiqueta de datos. En este caso a la derecha.\n",
    "                            texttemplate='%{text}',                                # Formato de texto.\n",
    "                            marker_color='rgb(26, 118, 255)',                      # Color de las barras.\n",
    "                            orientation='h'                                        # Orientación de las barras. En este caso horizontal.\n",
    "                          )\n",
    "                   )\n",
    "    \n",
    "                    \n",
    "    fig.update_layout(\n",
    "                        barmode='stack',                                           # Tipo de barras. En este caso apiliadas.\n",
    "                        yaxis_title=\"Región\",\n",
    "                        xaxis_title=\"Cases\",\n",
    "                        title= \"Casos en cada una de las regiones de la OMS\",\n",
    "                        xaxis=dict(showgrid=False),                                # Ocultamos la cuadrícula de eje x.\n",
    "                        yaxis=dict(showgrid=False),                                # Ocultamos la cuadrícula de eje y.\n",
    "                        plot_bgcolor='white',                                      # Modificamos el color del fondo del gráfico.\n",
    "                        showlegend=False,                                          # Ocultamos la leyenda.\n",
    "                        yaxis_range=[9.5, -.5]                                     # Mostramos los 10 primeros datos.\n",
    "                     )\n",
    "    \n",
    "    return fig    \n",
    "    \n",
    "    \n",
    "    \n",
    "fig_region()"
   ]
  },
  {
   "cell_type": "code",
   "execution_count": 267,
   "metadata": {
    "deletable": false,
    "nbgrader": {
     "cell_type": "code",
     "checksum": "a42ade43bb745ab0acc38250bce69e54",
     "grade": true,
     "grade_id": "cell-e613a0e2d566a5df",
     "locked": false,
     "points": 1,
     "schema_version": 3,
     "solution": true,
     "task": false
    },
    "scrolled": true
   },
   "outputs": [],
   "source": [
    "tablero_control = pn.Row(pn.Column(titulo, seleccion_1, seleccion_2, funcion_interactiva),\n",
    "                         pn.Column(fig_muertes_m,fig_region))"
   ]
  },
  {
   "cell_type": "code",
   "execution_count": 268,
   "metadata": {
    "deletable": false,
    "nbgrader": {
     "cell_type": "code",
     "checksum": "dbf734e43e294d0bd70f39173535dc16",
     "grade": true,
     "grade_id": "cell-85e0b31e29de0e27",
     "locked": false,
     "points": 1,
     "schema_version": 3,
     "solution": true,
     "task": false
    }
   },
   "outputs": [
    {
     "data": {},
     "metadata": {},
     "output_type": "display_data"
    },
    {
     "data": {
      "application/vnd.holoviews_exec.v0+json": "",
      "text/html": [
       "<div id='14860'>\n",
       "\n",
       "\n",
       "\n",
       "\n",
       "\n",
       "  <div class=\"bk-root\" id=\"4c4b3a36-1c3e-4735-9abc-746ee41dc19a\" data-root-id=\"14860\"></div>\n",
       "</div>\n",
       "<script type=\"application/javascript\">(function(root) {\n",
       "  function embed_document(root) {\n",
       "    var docs_json = {\"4d8a5420-38f0-4999-98db-16af081b4e0d\":{\"defs\":[{\"extends\":null,\"module\":null,\"name\":\"ReactiveHTML1\",\"overrides\":[],\"properties\":[]},{\"extends\":null,\"module\":null,\"name\":\"FlexBox1\",\"overrides\":[],\"properties\":[{\"default\":\"flex-start\",\"kind\":null,\"name\":\"align_content\"},{\"default\":\"flex-start\",\"kind\":null,\"name\":\"align_items\"},{\"default\":\"row\",\"kind\":null,\"name\":\"flex_direction\"},{\"default\":\"wrap\",\"kind\":null,\"name\":\"flex_wrap\"},{\"default\":\"flex-start\",\"kind\":null,\"name\":\"justify_content\"}]},{\"extends\":null,\"module\":null,\"name\":\"TemplateActions1\",\"overrides\":[],\"properties\":[{\"default\":0,\"kind\":null,\"name\":\"open_modal\"},{\"default\":0,\"kind\":null,\"name\":\"close_modal\"}]},{\"extends\":null,\"module\":null,\"name\":\"MaterialTemplateActions1\",\"overrides\":[],\"properties\":[{\"default\":0,\"kind\":null,\"name\":\"open_modal\"},{\"default\":0,\"kind\":null,\"name\":\"close_modal\"}]}],\"roots\":{\"references\":[{\"attributes\":{\"children\":[{\"id\":\"14869\"},{\"id\":\"14874\"}],\"margin\":[0,0,0,0],\"name\":\"Column00760\"},\"id\":\"14868\",\"type\":\"Column\"},{\"attributes\":{\"children\":[{\"id\":\"14873\"}],\"margin\":[0,0,0,0],\"name\":\"Row00752\"},\"id\":\"14871\",\"type\":\"Row\"},{\"attributes\":{\"data\":[{\"marker\":{\"color\":\"rgb(26, 118, 255)\"},\"orientation\":\"h\",\"textposition\":\"outside\",\"texttemplate\":\"%{text}\",\"type\":\"bar\"}],\"data_sources\":[{\"id\":\"14872\"}],\"layout\":{\"barmode\":\"stack\",\"plot_bgcolor\":\"white\",\"showlegend\":false,\"template\":{\"data\":{\"bar\":[{\"error_x\":{\"color\":\"#2a3f5f\"},\"error_y\":{\"color\":\"#2a3f5f\"},\"marker\":{\"line\":{\"color\":\"#E5ECF6\",\"width\":0.5},\"pattern\":{\"fillmode\":\"overlay\",\"size\":10,\"solidity\":0.2}},\"type\":\"bar\"}],\"barpolar\":[{\"marker\":{\"line\":{\"color\":\"#E5ECF6\",\"width\":0.5},\"pattern\":{\"fillmode\":\"overlay\",\"size\":10,\"solidity\":0.2}},\"type\":\"barpolar\"}],\"carpet\":[{\"aaxis\":{\"endlinecolor\":\"#2a3f5f\",\"gridcolor\":\"white\",\"linecolor\":\"white\",\"minorgridcolor\":\"white\",\"startlinecolor\":\"#2a3f5f\"},\"baxis\":{\"endlinecolor\":\"#2a3f5f\",\"gridcolor\":\"white\",\"linecolor\":\"white\",\"minorgridcolor\":\"white\",\"startlinecolor\":\"#2a3f5f\"},\"type\":\"carpet\"}],\"choropleth\":[{\"colorbar\":{\"outlinewidth\":0,\"ticks\":\"\"},\"type\":\"choropleth\"}],\"contour\":[{\"colorbar\":{\"outlinewidth\":0,\"ticks\":\"\"},\"colorscale\":[[0.0,\"#0d0887\"],[0.1111111111111111,\"#46039f\"],[0.2222222222222222,\"#7201a8\"],[0.3333333333333333,\"#9c179e\"],[0.4444444444444444,\"#bd3786\"],[0.5555555555555556,\"#d8576b\"],[0.6666666666666666,\"#ed7953\"],[0.7777777777777778,\"#fb9f3a\"],[0.8888888888888888,\"#fdca26\"],[1.0,\"#f0f921\"]],\"type\":\"contour\"}],\"contourcarpet\":[{\"colorbar\":{\"outlinewidth\":0,\"ticks\":\"\"},\"type\":\"contourcarpet\"}],\"heatmap\":[{\"colorbar\":{\"outlinewidth\":0,\"ticks\":\"\"},\"colorscale\":[[0.0,\"#0d0887\"],[0.1111111111111111,\"#46039f\"],[0.2222222222222222,\"#7201a8\"],[0.3333333333333333,\"#9c179e\"],[0.4444444444444444,\"#bd3786\"],[0.5555555555555556,\"#d8576b\"],[0.6666666666666666,\"#ed7953\"],[0.7777777777777778,\"#fb9f3a\"],[0.8888888888888888,\"#fdca26\"],[1.0,\"#f0f921\"]],\"type\":\"heatmap\"}],\"heatmapgl\":[{\"colorbar\":{\"outlinewidth\":0,\"ticks\":\"\"},\"colorscale\":[[0.0,\"#0d0887\"],[0.1111111111111111,\"#46039f\"],[0.2222222222222222,\"#7201a8\"],[0.3333333333333333,\"#9c179e\"],[0.4444444444444444,\"#bd3786\"],[0.5555555555555556,\"#d8576b\"],[0.6666666666666666,\"#ed7953\"],[0.7777777777777778,\"#fb9f3a\"],[0.8888888888888888,\"#fdca26\"],[1.0,\"#f0f921\"]],\"type\":\"heatmapgl\"}],\"histogram\":[{\"marker\":{\"pattern\":{\"fillmode\":\"overlay\",\"size\":10,\"solidity\":0.2}},\"type\":\"histogram\"}],\"histogram2d\":[{\"colorbar\":{\"outlinewidth\":0,\"ticks\":\"\"},\"colorscale\":[[0.0,\"#0d0887\"],[0.1111111111111111,\"#46039f\"],[0.2222222222222222,\"#7201a8\"],[0.3333333333333333,\"#9c179e\"],[0.4444444444444444,\"#bd3786\"],[0.5555555555555556,\"#d8576b\"],[0.6666666666666666,\"#ed7953\"],[0.7777777777777778,\"#fb9f3a\"],[0.8888888888888888,\"#fdca26\"],[1.0,\"#f0f921\"]],\"type\":\"histogram2d\"}],\"histogram2dcontour\":[{\"colorbar\":{\"outlinewidth\":0,\"ticks\":\"\"},\"colorscale\":[[0.0,\"#0d0887\"],[0.1111111111111111,\"#46039f\"],[0.2222222222222222,\"#7201a8\"],[0.3333333333333333,\"#9c179e\"],[0.4444444444444444,\"#bd3786\"],[0.5555555555555556,\"#d8576b\"],[0.6666666666666666,\"#ed7953\"],[0.7777777777777778,\"#fb9f3a\"],[0.8888888888888888,\"#fdca26\"],[1.0,\"#f0f921\"]],\"type\":\"histogram2dcontour\"}],\"mesh3d\":[{\"colorbar\":{\"outlinewidth\":0,\"ticks\":\"\"},\"type\":\"mesh3d\"}],\"parcoords\":[{\"line\":{\"colorbar\":{\"outlinewidth\":0,\"ticks\":\"\"}},\"type\":\"parcoords\"}],\"pie\":[{\"automargin\":true,\"type\":\"pie\"}],\"scatter\":[{\"marker\":{\"colorbar\":{\"outlinewidth\":0,\"ticks\":\"\"}},\"type\":\"scatter\"}],\"scatter3d\":[{\"line\":{\"colorbar\":{\"outlinewidth\":0,\"ticks\":\"\"}},\"marker\":{\"colorbar\":{\"outlinewidth\":0,\"ticks\":\"\"}},\"type\":\"scatter3d\"}],\"scattercarpet\":[{\"marker\":{\"colorbar\":{\"outlinewidth\":0,\"ticks\":\"\"}},\"type\":\"scattercarpet\"}],\"scattergeo\":[{\"marker\":{\"colorbar\":{\"outlinewidth\":0,\"ticks\":\"\"}},\"type\":\"scattergeo\"}],\"scattergl\":[{\"marker\":{\"colorbar\":{\"outlinewidth\":0,\"ticks\":\"\"}},\"type\":\"scattergl\"}],\"scattermapbox\":[{\"marker\":{\"colorbar\":{\"outlinewidth\":0,\"ticks\":\"\"}},\"type\":\"scattermapbox\"}],\"scatterpolar\":[{\"marker\":{\"colorbar\":{\"outlinewidth\":0,\"ticks\":\"\"}},\"type\":\"scatterpolar\"}],\"scatterpolargl\":[{\"marker\":{\"colorbar\":{\"outlinewidth\":0,\"ticks\":\"\"}},\"type\":\"scatterpolargl\"}],\"scatterternary\":[{\"marker\":{\"colorbar\":{\"outlinewidth\":0,\"ticks\":\"\"}},\"type\":\"scatterternary\"}],\"surface\":[{\"colorbar\":{\"outlinewidth\":0,\"ticks\":\"\"},\"colorscale\":[[0.0,\"#0d0887\"],[0.1111111111111111,\"#46039f\"],[0.2222222222222222,\"#7201a8\"],[0.3333333333333333,\"#9c179e\"],[0.4444444444444444,\"#bd3786\"],[0.5555555555555556,\"#d8576b\"],[0.6666666666666666,\"#ed7953\"],[0.7777777777777778,\"#fb9f3a\"],[0.8888888888888888,\"#fdca26\"],[1.0,\"#f0f921\"]],\"type\":\"surface\"}],\"table\":[{\"cells\":{\"fill\":{\"color\":\"#EBF0F8\"},\"line\":{\"color\":\"white\"}},\"header\":{\"fill\":{\"color\":\"#C8D4E3\"},\"line\":{\"color\":\"white\"}},\"type\":\"table\"}]},\"layout\":{\"annotationdefaults\":{\"arrowcolor\":\"#2a3f5f\",\"arrowhead\":0,\"arrowwidth\":1},\"autotypenumbers\":\"strict\",\"coloraxis\":{\"colorbar\":{\"outlinewidth\":0,\"ticks\":\"\"}},\"colorscale\":{\"diverging\":[[0,\"#8e0152\"],[0.1,\"#c51b7d\"],[0.2,\"#de77ae\"],[0.3,\"#f1b6da\"],[0.4,\"#fde0ef\"],[0.5,\"#f7f7f7\"],[0.6,\"#e6f5d0\"],[0.7,\"#b8e186\"],[0.8,\"#7fbc41\"],[0.9,\"#4d9221\"],[1,\"#276419\"]],\"sequential\":[[0.0,\"#0d0887\"],[0.1111111111111111,\"#46039f\"],[0.2222222222222222,\"#7201a8\"],[0.3333333333333333,\"#9c179e\"],[0.4444444444444444,\"#bd3786\"],[0.5555555555555556,\"#d8576b\"],[0.6666666666666666,\"#ed7953\"],[0.7777777777777778,\"#fb9f3a\"],[0.8888888888888888,\"#fdca26\"],[1.0,\"#f0f921\"]],\"sequentialminus\":[[0.0,\"#0d0887\"],[0.1111111111111111,\"#46039f\"],[0.2222222222222222,\"#7201a8\"],[0.3333333333333333,\"#9c179e\"],[0.4444444444444444,\"#bd3786\"],[0.5555555555555556,\"#d8576b\"],[0.6666666666666666,\"#ed7953\"],[0.7777777777777778,\"#fb9f3a\"],[0.8888888888888888,\"#fdca26\"],[1.0,\"#f0f921\"]]},\"colorway\":[\"#636efa\",\"#EF553B\",\"#00cc96\",\"#ab63fa\",\"#FFA15A\",\"#19d3f3\",\"#FF6692\",\"#B6E880\",\"#FF97FF\",\"#FECB52\"],\"font\":{\"color\":\"#2a3f5f\"},\"geo\":{\"bgcolor\":\"white\",\"lakecolor\":\"white\",\"landcolor\":\"#E5ECF6\",\"showlakes\":true,\"showland\":true,\"subunitcolor\":\"white\"},\"hoverlabel\":{\"align\":\"left\"},\"hovermode\":\"closest\",\"mapbox\":{\"style\":\"light\"},\"paper_bgcolor\":\"white\",\"plot_bgcolor\":\"#E5ECF6\",\"polar\":{\"angularaxis\":{\"gridcolor\":\"white\",\"linecolor\":\"white\",\"ticks\":\"\"},\"bgcolor\":\"#E5ECF6\",\"radialaxis\":{\"gridcolor\":\"white\",\"linecolor\":\"white\",\"ticks\":\"\"}},\"scene\":{\"xaxis\":{\"backgroundcolor\":\"#E5ECF6\",\"gridcolor\":\"white\",\"gridwidth\":2,\"linecolor\":\"white\",\"showbackground\":true,\"ticks\":\"\",\"zerolinecolor\":\"white\"},\"yaxis\":{\"backgroundcolor\":\"#E5ECF6\",\"gridcolor\":\"white\",\"gridwidth\":2,\"linecolor\":\"white\",\"showbackground\":true,\"ticks\":\"\",\"zerolinecolor\":\"white\"},\"zaxis\":{\"backgroundcolor\":\"#E5ECF6\",\"gridcolor\":\"white\",\"gridwidth\":2,\"linecolor\":\"white\",\"showbackground\":true,\"ticks\":\"\",\"zerolinecolor\":\"white\"}},\"shapedefaults\":{\"line\":{\"color\":\"#2a3f5f\"}},\"ternary\":{\"aaxis\":{\"gridcolor\":\"white\",\"linecolor\":\"white\",\"ticks\":\"\"},\"baxis\":{\"gridcolor\":\"white\",\"linecolor\":\"white\",\"ticks\":\"\"},\"bgcolor\":\"#E5ECF6\",\"caxis\":{\"gridcolor\":\"white\",\"linecolor\":\"white\",\"ticks\":\"\"}},\"title\":{\"x\":0.05},\"xaxis\":{\"automargin\":true,\"gridcolor\":\"white\",\"linecolor\":\"white\",\"ticks\":\"\",\"title\":{\"standoff\":15},\"zerolinecolor\":\"white\",\"zerolinewidth\":2},\"yaxis\":{\"automargin\":true,\"gridcolor\":\"white\",\"linecolor\":\"white\",\"ticks\":\"\",\"title\":{\"standoff\":15},\"zerolinecolor\":\"white\",\"zerolinewidth\":2}}},\"title\":{\"text\":\"Muertes acumuladas por mill\\u00f3n de habitantes\"},\"xaxis\":{\"showgrid\":false,\"title\":{\"text\":\"Muertes por mill\\u00f3n\"}},\"yaxis\":{\"range\":[9.5,-0.5],\"showgrid\":false,\"title\":{\"text\":\"Pa\\u00edses\"}}},\"margin\":[5,5,5,5],\"name\":\"interactive00748\",\"viewport_update_throttle\":200},\"id\":\"14873\",\"type\":\"panel.models.plotly.PlotlyPlot\"},{\"attributes\":{},\"id\":\"14884\",\"type\":\"Selection\"},{\"attributes\":{\"children\":[{\"id\":\"14861\"},{\"id\":\"14868\"}],\"margin\":[0,0,0,0],\"name\":\"Row00761\"},\"id\":\"14860\",\"type\":\"Row\"},{\"attributes\":{\"client_comm_id\":\"98e3e2c7c8734d87a348f7d314c97fba\",\"comm_id\":\"b84af4d9d2054b7fb900b6bb18295958\",\"plot_id\":\"14860\"},\"id\":\"14915\",\"type\":\"panel.models.comm_manager.CommManager\"},{\"attributes\":{\"active\":2,\"button_type\":\"primary\",\"labels\":[\"Hist\\u00f3rico\",\"\\u00daltimos 7 d\\u00edas\",\"\\u00daltimas 24 horas\"],\"margin\":[5,10,5,10]},\"id\":\"14864\",\"type\":\"RadioButtonGroup\"},{\"attributes\":{\"data\":{\"text\":[{\"__ndarray__\":\"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\",\"dtype\":\"float64\",\"order\":\"little\",\"shape\":[237]}],\"x\":[{\"__ndarray__\":\"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\",\"dtype\":\"float64\",\"order\":\"little\",\"shape\":[237]}],\"y\":[[\"Gibraltar\",\"San Marino\",\"Slovenia\",\"Belgium\",\"The United Kingdom\",\"Czechia\",\"Italy\",\"Bosnia and Herzegovina\",\"North Macedonia\",\"United States of America\",\"Portugal\",\"Andorra\",\"Hungary\",\"Bulgaria\",\"Montenegro\",\"Spain\",\"Mexico\",\"Peru\",\"Croatia\",\"Panama\",\"Liechtenstein\",\"France\",\"Sweden\",\"Colombia\",\"Argentina\",\"Brazil\",\"Lithuania\",\"Armenia\",\"Poland\",\"Switzerland\",\"Chile\",\"Romania\",\"Slovakia\",\"Luxembourg\",\"Bolivia (Plurinational State of)\",\"Austria\",\"Republic of Moldova\",\"Ecuador\",\"Netherlands\",\"Georgia\",\"Kosovo[1]\",\"South Africa\",\"Belize\",\"Guam\",\"Ireland\",\"Germany\",\"Latvia\",\"Iran (Islamic Republic of)\",\"Puerto Rico\",\"Malta\",\"Sint Maarten\",\"Jersey\",\"Tunisia\",\"Serbia\",\"Aruba\",\"Greece\",\"Israel\",\"Canada\",\"Ukraine\",\"Russian Federation\",\"Costa Rica\",\"Lebanon\",\"Eswatini\",\"Monaco\",\"Albania\",\"French Polynesia\",\"Bahamas\",\"Jordan\",\"occupied Palestinian territory, including east Jerusalem\",\"Guadeloupe\",\"Paraguay\",\"Denmark\",\"Honduras\",\"Estonia\",\"Guatemala\",\"Iraq\",\"Turkey\",\"Azerbaijan\",\"Saint Martin\",\"Oman\",\"Isle of Man\",\"Libya\",\"Suriname\",\"French Guiana\",\"Dominican Republic\",\"El Salvador\",\"Cabo Verde\",\"Mayotte\",\"Turks and Caicos Islands\",\"United States Virgin Islands\",\"Guyana\",\"Morocco\",\"Kuwait\",\"Bahrain\",\"Kyrgyzstan\",\"Guernsey\",\"Montserrat\",\"Bermuda\",\"Belarus\",\"Saudi Arabia\",\"Cyprus\",\"Kazakhstan\",\"Namibia\",\"Bonaire\",\"Uruguay\",\"Cura\\u00e7ao\",\"Finland\",\"Comoros\",\"Jamaica\",\"Martinique\",\"Indonesia\",\"India\",\"Norway\",\"Philippines\",\"Maldives\",\"Saint Lucia\",\"Trinidad and Tobago\",\"Egypt\",\"United Arab Emirates\",\"Mauritania\",\"Zimbabwe\",\"Qatar\",\"Lesotho\",\"Iceland\",\"Sao Tome and Principe\",\"Antigua and Barbuda\",\"Nepal\",\"Botswana\",\"Algeria\",\"Djibouti\",\"Barbados\",\"Afghanistan\",\"Equatorial Guinea\",\"Seychelles\",\"Myanmar\",\"Gambia\",\"Syrian Arab Republic\",\"Pakistan\",\"R\\u00e9union\",\"Japan\",\"Bangladesh\",\"Zambia\",\"Malawi\",\"Venezuela (Bolivarian Republic of)\",\"Sudan\",\"Senegal\",\"Australia\",\"Northern Mariana Islands (Commonwealth of the)\",\"British Virgin Islands\",\"Kenya\",\"Gabon\",\"Cayman Islands\",\"Republic of Korea\",\"Saint Vincent and the Grenadines\",\"Malaysia\",\"Nicaragua\",\"Guinea-Bissau\",\"Congo\",\"Haiti\",\"Yemen\",\"Cuba\",\"Faroe Islands\",\"Ethiopia\",\"Uzbekistan\",\"Cameroon\",\"Rwanda\",\"Mali\",\"Liberia\",\"Sri Lanka\",\"Angola\",\"Ghana\",\"Mozambique\",\"Central African Republic\",\"Madagascar\",\"Sierra Leone\",\"Togo\",\"Tajikistan\",\"Grenada\",\"Somalia\",\"Nigeria\",\"Mauritius\",\"Chad\",\"Democratic Republic of the Congo\",\"Uganda\",\"Brunei Darussalam\",\"Niger\",\"Burkina Faso\",\"Guinea\",\"C\\u00f4te d\\u2019Ivoire\",\"South Sudan\",\"New Zealand\",\"Singapore\",\"Benin\",\"China\",\"Fiji\",\"Eritrea\",\"Bhutan\",\"Thailand\",\"Papua New Guinea\",\"Mongolia\",\"Viet Nam\",\"United Republic of Tanzania\",\"Burundi\",\"Saint Helena\",\"Tokelau\",\"Sint Eustatius\",\"Greenland\",\"Cambodia\",\"American Samoa\",\"Micronesia (Federated States of)\",\"Samoa\",\"Nauru\",\"Niue\",\"Tonga\",\"Saint Barth\\u00e9lemy\",\"Lao People's Democratic Republic\",\"Palau\",\"Pitcairn Islands\",\"Kiribati\",\"Turkmenistan\",\"Dominica\",\"Wallis and Futuna\",\"Vanuatu\",\"Solomon Islands\",\"Holy See\",\"Falkland Islands (Malvinas)\",\"Saint Pierre and Miquelon\",\"New Caledonia\",\"Timor-Leste\",\"Saba\",\"Cook Islands\",\"Anguilla\",\"Democratic People's Republic of Korea\",\"Marshall Islands\",\"Saint Kitts and Nevis\",\"Tuvalu\",\"Other\"]]},\"selected\":{\"id\":\"14882\"},\"selection_policy\":{\"id\":\"14881\"}},\"id\":\"14872\",\"type\":\"ColumnDataSource\"},{\"attributes\":{},\"id\":\"14881\",\"type\":\"UnionRenderers\"},{\"attributes\":{\"children\":[{\"id\":\"14867\"}],\"margin\":[0,0,0,0],\"name\":\"Row00744\"},\"id\":\"14865\",\"type\":\"Row\"},{\"attributes\":{\"data\":{\"text\":[{\"__ndarray__\":\"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\",\"dtype\":\"float64\",\"order\":\"little\",\"shape\":[237]}],\"x\":[[3549,1368,1239,828,432,385,285,278,272,231,214,191,191,180,108,106,96,95,93,87,81,78,76,67,64,64,63,61,61,54,53,52,44,38,38,35,29,28,28,25,25,22,21,18,16,15,15,14,14,14,13,13,13,13,12,12,12,11,11,10,10,9,9,9,9,8,8,8,8,7,7,7,6,5,5,4,4,4,4,4,3,3,3,3,3,3,3,2,2,2,2,2,2,2,2,2,2,2,2,1,1,1,1,1,1,1,1,1,1,1,0,0,0,0,0,0,0,0,0,0,0,0,0,0,0,0,0,0,0,0,0,0,0,0,0,0,0,0,0,0,0,0,0,0,0,0,0,0,0,0,0,0,0,0,0,0,0,0,0,0,0,0,0,0,0,0,0,0,0,0,0,0,0,0,0,0,0,0,0,0,0,0,0,0,0,0,0,0,0,0,0,0,0,0,0,0,0,0,0,0,0,0,0,0,0,0,0,0,0,0,0,0,0,0,0,0,0,0,0,0,0,0,0,0,0,0,0,0,0,0,0,0,0,0,0,0,0]],\"y\":[[\"United States of America\",\"Mexico\",\"Brazil\",\"The United Kingdom\",\"Russian Federation\",\"Italy\",\"Argentina\",\"South Africa\",\"Colombia\",\"Germany\",\"Portugal\",\"Indonesia\",\"France\",\"Peru\",\"Turkey\",\"Czechia\",\"Canada\",\"Japan\",\"Poland\",\"Chile\",\"Ukraine\",\"India\",\"Iran (Islamic Republic of)\",\"Lebanon\",\"Hungary\",\"Slovakia\",\"Tunisia\",\"Netherlands\",\"Romania\",\"Bolivia (Plurinational State of)\",\"Ireland\",\"Philippines\",\"Egypt\",\"Malawi\",\"Guatemala\",\"Panama\",\"Greece\",\"Dominican Republic\",\"Pakistan\",\"Honduras\",\"Croatia\",\"Ecuador\",\"Austria\",\"Latvia\",\"Bosnia and Herzegovina\",\"Mozambique\",\"Republic of Moldova\",\"Georgia\",\"Denmark\",\"Slovenia\",\"Serbia\",\"Albania\",\"Morocco\",\"Zimbabwe\",\"Malaysia\",\"United Arab Emirates\",\"Paraguay\",\"Zambia\",\"El Salvador\",\"Costa Rica\",\"Lithuania\",\"Senegal\",\"Belarus\",\"Ethiopia\",\"Bulgaria\",\"North Macedonia\",\"Bangladesh\",\"Iraq\",\"Sri Lanka\",\"Republic of Korea\",\"Jordan\",\"Venezuela (Bolivarian Republic of)\",\"Nigeria\",\"Puerto Rico\",\"Estonia\",\"Eswatini\",\"Syrian Arab Republic\",\"Rwanda\",\"Cuba\",\"Saudi Arabia\",\"Armenia\",\"Mauritania\",\"Kyrgyzstan\",\"occupied Palestinian territory, including east Jerusalem\",\"Comoros\",\"Azerbaijan\",\"Malta\",\"Democratic Republic of the Congo\",\"C\\u00f4te d\\u2019Ivoire\",\"Afghanistan\",\"Somalia\",\"Burkina Faso\",\"Mali\",\"Uruguay\",\"Gambia\",\"Luxembourg\",\"Bahrain\",\"Guyana\",\"Algeria\",\"Chad\",\"Kosovo[1]\",\"Seychelles\",\"Andorra\",\"Namibia\",\"Gibraltar\",\"Niger\",\"Haiti\",\"Angola\",\"Cyprus\",\"Monaco\",\"Uganda\",\"Norway\",\"Belgium\",\"Botswana\",\"Libya\",\"Switzerland\",\"Kenya\",\"Israel\",\"Finland\",\"Lesotho\",\"Sudan\",\"Sweden\",\"Montenegro\",\"Cameroon\",\"Mayotte\",\"Jamaica\",\"China\",\"Spain\",\"Benin\",\"Barbados\",\"Oman\",\"Congo\",\"Belize\",\"Kuwait\",\"Saint Lucia\",\"Suriname\",\"Maldives\",\"French Guiana\",\"Gabon\",\"Nepal\",\"Aruba\",\"Ghana\",\"Cambodia\",\"Turks and Caicos Islands\",\"Guadeloupe\",\"Togo\",\"Guinea\",\"Thailand\",\"Madagascar\",\"Qatar\",\"Cabo Verde\",\"French Polynesia\",\"Djibouti\",\"Jersey\",\"R\\u00e9union\",\"Burundi\",\"Cura\\u00e7ao\",\"San Marino\",\"Guinea-Bissau\",\"Martinique\",\"South Sudan\",\"Trinidad and Tobago\",\"Nicaragua\",\"Saint Vincent and the Grenadines\",\"Sao Tome and Principe\",\"American Samoa\",\"Micronesia (Federated States of)\",\"Samoa\",\"Nauru\",\"Faroe Islands\",\"Niue\",\"Tokelau\",\"British Virgin Islands\",\"Tonga\",\"Saint Barth\\u00e9lemy\",\"Lao People's Democratic Republic\",\"Guam\",\"Palau\",\"Pitcairn Islands\",\"Kiribati\",\"Turkmenistan\",\"Greenland\",\"Dominica\",\"Vanuatu\",\"Solomon Islands\",\"Holy See\",\"Falkland Islands (Malvinas)\",\"Saint Pierre and Miquelon\",\"Grenada\",\"Iceland\",\"New Caledonia\",\"Timor-Leste\",\"Saba\",\"Myanmar\",\"Singapore\",\"Cook Islands\",\"Anguilla\",\"Democratic People's Republic of Korea\",\"Marshall Islands\",\"Saint Kitts and Nevis\",\"Wallis and Futuna\",\"Sint Maarten\",\"Montserrat\",\"Bhutan\",\"Sint Eustatius\",\"Kazakhstan\",\"Sierra Leone\",\"United States Virgin Islands\",\"Liberia\",\"Equatorial Guinea\",\"Tajikistan\",\"Antigua and Barbuda\",\"Saint Helena\",\"Bahamas\",\"Australia\",\"Uzbekistan\",\"Other\",\"Guernsey\",\"Yemen\",\"Liechtenstein\",\"Isle of Man\",\"Saint Martin\",\"Central African Republic\",\"Bermuda\",\"Mauritius\",\"Eritrea\",\"Papua New Guinea\",\"Northern Mariana Islands (Commonwealth of the)\",\"Mongolia\",\"Cayman Islands\",\"Fiji\",\"Brunei Darussalam\",\"Bonaire\",\"United Republic of Tanzania\",\"New Zealand\",\"Viet Nam\",\"Tuvalu\"]]},\"selected\":{\"id\":\"14880\"},\"selection_policy\":{\"id\":\"14879\"}},\"id\":\"14866\",\"type\":\"ColumnDataSource\"},{\"attributes\":{\"children\":[{\"id\":\"14862\"},{\"id\":\"14863\"},{\"id\":\"14864\"},{\"id\":\"14865\"}],\"margin\":[0,0,0,0],\"name\":\"Column00747\"},\"id\":\"14861\",\"type\":\"Column\"},{\"attributes\":{\"active\":1,\"button_type\":\"primary\",\"labels\":[\"Cases\",\"Deaths\"],\"margin\":[5,10,5,10]},\"id\":\"14863\",\"type\":\"RadioButtonGroup\"},{\"attributes\":{},\"id\":\"14883\",\"type\":\"UnionRenderers\"},{\"attributes\":{\"children\":[{\"id\":\"14870\"},{\"id\":\"14871\"}],\"margin\":[0,0,0,0],\"name\":\"Column00749\"},\"id\":\"14869\",\"type\":\"Column\"},{\"attributes\":{\"children\":[{\"id\":\"14875\"},{\"id\":\"14876\"}],\"margin\":[0,0,0,0],\"name\":\"Column00755\"},\"id\":\"14874\",\"type\":\"Column\"},{\"attributes\":{\"margin\":[0,0,0,0],\"name\":\"Column00753\"},\"id\":\"14870\",\"type\":\"Column\"},{\"attributes\":{},\"id\":\"14880\",\"type\":\"Selection\"},{\"attributes\":{\"children\":[{\"id\":\"14878\"}],\"margin\":[0,0,0,0],\"name\":\"Row00758\"},\"id\":\"14876\",\"type\":\"Row\"},{\"attributes\":{\"css_classes\":[\"markdown\"],\"margin\":[5,5,5,5],\"name\":\"Markdown00738\",\"text\":\"&lt;h1&gt;Tablero de control COVID-19&lt;/h1&gt;\"},\"id\":\"14862\",\"type\":\"panel.models.markup.HTML\"},{\"attributes\":{},\"id\":\"14879\",\"type\":\"UnionRenderers\"},{\"attributes\":{\"margin\":[0,0,0,0],\"name\":\"Column00759\"},\"id\":\"14875\",\"type\":\"Column\"},{\"attributes\":{\"data\":[{\"marker\":{\"color\":\"rgb(26, 118, 255)\"},\"orientation\":\"h\",\"textposition\":\"outside\",\"texttemplate\":\"%{text}\",\"type\":\"bar\"}],\"data_sources\":[{\"id\":\"14877\"}],\"layout\":{\"barmode\":\"stack\",\"plot_bgcolor\":\"white\",\"showlegend\":false,\"template\":{\"data\":{\"bar\":[{\"error_x\":{\"color\":\"#2a3f5f\"},\"error_y\":{\"color\":\"#2a3f5f\"},\"marker\":{\"line\":{\"color\":\"#E5ECF6\",\"width\":0.5},\"pattern\":{\"fillmode\":\"overlay\",\"size\":10,\"solidity\":0.2}},\"type\":\"bar\"}],\"barpolar\":[{\"marker\":{\"line\":{\"color\":\"#E5ECF6\",\"width\":0.5},\"pattern\":{\"fillmode\":\"overlay\",\"size\":10,\"solidity\":0.2}},\"type\":\"barpolar\"}],\"carpet\":[{\"aaxis\":{\"endlinecolor\":\"#2a3f5f\",\"gridcolor\":\"white\",\"linecolor\":\"white\",\"minorgridcolor\":\"white\",\"startlinecolor\":\"#2a3f5f\"},\"baxis\":{\"endlinecolor\":\"#2a3f5f\",\"gridcolor\":\"white\",\"linecolor\":\"white\",\"minorgridcolor\":\"white\",\"startlinecolor\":\"#2a3f5f\"},\"type\":\"carpet\"}],\"choropleth\":[{\"colorbar\":{\"outlinewidth\":0,\"ticks\":\"\"},\"type\":\"choropleth\"}],\"contour\":[{\"colorbar\":{\"outlinewidth\":0,\"ticks\":\"\"},\"colorscale\":[[0.0,\"#0d0887\"],[0.1111111111111111,\"#46039f\"],[0.2222222222222222,\"#7201a8\"],[0.3333333333333333,\"#9c179e\"],[0.4444444444444444,\"#bd3786\"],[0.5555555555555556,\"#d8576b\"],[0.6666666666666666,\"#ed7953\"],[0.7777777777777778,\"#fb9f3a\"],[0.8888888888888888,\"#fdca26\"],[1.0,\"#f0f921\"]],\"type\":\"contour\"}],\"contourcarpet\":[{\"colorbar\":{\"outlinewidth\":0,\"ticks\":\"\"},\"type\":\"contourcarpet\"}],\"heatmap\":[{\"colorbar\":{\"outlinewidth\":0,\"ticks\":\"\"},\"colorscale\":[[0.0,\"#0d0887\"],[0.1111111111111111,\"#46039f\"],[0.2222222222222222,\"#7201a8\"],[0.3333333333333333,\"#9c179e\"],[0.4444444444444444,\"#bd3786\"],[0.5555555555555556,\"#d8576b\"],[0.6666666666666666,\"#ed7953\"],[0.7777777777777778,\"#fb9f3a\"],[0.8888888888888888,\"#fdca26\"],[1.0,\"#f0f921\"]],\"type\":\"heatmap\"}],\"heatmapgl\":[{\"colorbar\":{\"outlinewidth\":0,\"ticks\":\"\"},\"colorscale\":[[0.0,\"#0d0887\"],[0.1111111111111111,\"#46039f\"],[0.2222222222222222,\"#7201a8\"],[0.3333333333333333,\"#9c179e\"],[0.4444444444444444,\"#bd3786\"],[0.5555555555555556,\"#d8576b\"],[0.6666666666666666,\"#ed7953\"],[0.7777777777777778,\"#fb9f3a\"],[0.8888888888888888,\"#fdca26\"],[1.0,\"#f0f921\"]],\"type\":\"heatmapgl\"}],\"histogram\":[{\"marker\":{\"pattern\":{\"fillmode\":\"overlay\",\"size\":10,\"solidity\":0.2}},\"type\":\"histogram\"}],\"histogram2d\":[{\"colorbar\":{\"outlinewidth\":0,\"ticks\":\"\"},\"colorscale\":[[0.0,\"#0d0887\"],[0.1111111111111111,\"#46039f\"],[0.2222222222222222,\"#7201a8\"],[0.3333333333333333,\"#9c179e\"],[0.4444444444444444,\"#bd3786\"],[0.5555555555555556,\"#d8576b\"],[0.6666666666666666,\"#ed7953\"],[0.7777777777777778,\"#fb9f3a\"],[0.8888888888888888,\"#fdca26\"],[1.0,\"#f0f921\"]],\"type\":\"histogram2d\"}],\"histogram2dcontour\":[{\"colorbar\":{\"outlinewidth\":0,\"ticks\":\"\"},\"colorscale\":[[0.0,\"#0d0887\"],[0.1111111111111111,\"#46039f\"],[0.2222222222222222,\"#7201a8\"],[0.3333333333333333,\"#9c179e\"],[0.4444444444444444,\"#bd3786\"],[0.5555555555555556,\"#d8576b\"],[0.6666666666666666,\"#ed7953\"],[0.7777777777777778,\"#fb9f3a\"],[0.8888888888888888,\"#fdca26\"],[1.0,\"#f0f921\"]],\"type\":\"histogram2dcontour\"}],\"mesh3d\":[{\"colorbar\":{\"outlinewidth\":0,\"ticks\":\"\"},\"type\":\"mesh3d\"}],\"parcoords\":[{\"line\":{\"colorbar\":{\"outlinewidth\":0,\"ticks\":\"\"}},\"type\":\"parcoords\"}],\"pie\":[{\"automargin\":true,\"type\":\"pie\"}],\"scatter\":[{\"marker\":{\"colorbar\":{\"outlinewidth\":0,\"ticks\":\"\"}},\"type\":\"scatter\"}],\"scatter3d\":[{\"line\":{\"colorbar\":{\"outlinewidth\":0,\"ticks\":\"\"}},\"marker\":{\"colorbar\":{\"outlinewidth\":0,\"ticks\":\"\"}},\"type\":\"scatter3d\"}],\"scattercarpet\":[{\"marker\":{\"colorbar\":{\"outlinewidth\":0,\"ticks\":\"\"}},\"type\":\"scattercarpet\"}],\"scattergeo\":[{\"marker\":{\"colorbar\":{\"outlinewidth\":0,\"ticks\":\"\"}},\"type\":\"scattergeo\"}],\"scattergl\":[{\"marker\":{\"colorbar\":{\"outlinewidth\":0,\"ticks\":\"\"}},\"type\":\"scattergl\"}],\"scattermapbox\":[{\"marker\":{\"colorbar\":{\"outlinewidth\":0,\"ticks\":\"\"}},\"type\":\"scattermapbox\"}],\"scatterpolar\":[{\"marker\":{\"colorbar\":{\"outlinewidth\":0,\"ticks\":\"\"}},\"type\":\"scatterpolar\"}],\"scatterpolargl\":[{\"marker\":{\"colorbar\":{\"outlinewidth\":0,\"ticks\":\"\"}},\"type\":\"scatterpolargl\"}],\"scatterternary\":[{\"marker\":{\"colorbar\":{\"outlinewidth\":0,\"ticks\":\"\"}},\"type\":\"scatterternary\"}],\"surface\":[{\"colorbar\":{\"outlinewidth\":0,\"ticks\":\"\"},\"colorscale\":[[0.0,\"#0d0887\"],[0.1111111111111111,\"#46039f\"],[0.2222222222222222,\"#7201a8\"],[0.3333333333333333,\"#9c179e\"],[0.4444444444444444,\"#bd3786\"],[0.5555555555555556,\"#d8576b\"],[0.6666666666666666,\"#ed7953\"],[0.7777777777777778,\"#fb9f3a\"],[0.8888888888888888,\"#fdca26\"],[1.0,\"#f0f921\"]],\"type\":\"surface\"}],\"table\":[{\"cells\":{\"fill\":{\"color\":\"#EBF0F8\"},\"line\":{\"color\":\"white\"}},\"header\":{\"fill\":{\"color\":\"#C8D4E3\"},\"line\":{\"color\":\"white\"}},\"type\":\"table\"}]},\"layout\":{\"annotationdefaults\":{\"arrowcolor\":\"#2a3f5f\",\"arrowhead\":0,\"arrowwidth\":1},\"autotypenumbers\":\"strict\",\"coloraxis\":{\"colorbar\":{\"outlinewidth\":0,\"ticks\":\"\"}},\"colorscale\":{\"diverging\":[[0,\"#8e0152\"],[0.1,\"#c51b7d\"],[0.2,\"#de77ae\"],[0.3,\"#f1b6da\"],[0.4,\"#fde0ef\"],[0.5,\"#f7f7f7\"],[0.6,\"#e6f5d0\"],[0.7,\"#b8e186\"],[0.8,\"#7fbc41\"],[0.9,\"#4d9221\"],[1,\"#276419\"]],\"sequential\":[[0.0,\"#0d0887\"],[0.1111111111111111,\"#46039f\"],[0.2222222222222222,\"#7201a8\"],[0.3333333333333333,\"#9c179e\"],[0.4444444444444444,\"#bd3786\"],[0.5555555555555556,\"#d8576b\"],[0.6666666666666666,\"#ed7953\"],[0.7777777777777778,\"#fb9f3a\"],[0.8888888888888888,\"#fdca26\"],[1.0,\"#f0f921\"]],\"sequentialminus\":[[0.0,\"#0d0887\"],[0.1111111111111111,\"#46039f\"],[0.2222222222222222,\"#7201a8\"],[0.3333333333333333,\"#9c179e\"],[0.4444444444444444,\"#bd3786\"],[0.5555555555555556,\"#d8576b\"],[0.6666666666666666,\"#ed7953\"],[0.7777777777777778,\"#fb9f3a\"],[0.8888888888888888,\"#fdca26\"],[1.0,\"#f0f921\"]]},\"colorway\":[\"#636efa\",\"#EF553B\",\"#00cc96\",\"#ab63fa\",\"#FFA15A\",\"#19d3f3\",\"#FF6692\",\"#B6E880\",\"#FF97FF\",\"#FECB52\"],\"font\":{\"color\":\"#2a3f5f\"},\"geo\":{\"bgcolor\":\"white\",\"lakecolor\":\"white\",\"landcolor\":\"#E5ECF6\",\"showlakes\":true,\"showland\":true,\"subunitcolor\":\"white\"},\"hoverlabel\":{\"align\":\"left\"},\"hovermode\":\"closest\",\"mapbox\":{\"style\":\"light\"},\"paper_bgcolor\":\"white\",\"plot_bgcolor\":\"#E5ECF6\",\"polar\":{\"angularaxis\":{\"gridcolor\":\"white\",\"linecolor\":\"white\",\"ticks\":\"\"},\"bgcolor\":\"#E5ECF6\",\"radialaxis\":{\"gridcolor\":\"white\",\"linecolor\":\"white\",\"ticks\":\"\"}},\"scene\":{\"xaxis\":{\"backgroundcolor\":\"#E5ECF6\",\"gridcolor\":\"white\",\"gridwidth\":2,\"linecolor\":\"white\",\"showbackground\":true,\"ticks\":\"\",\"zerolinecolor\":\"white\"},\"yaxis\":{\"backgroundcolor\":\"#E5ECF6\",\"gridcolor\":\"white\",\"gridwidth\":2,\"linecolor\":\"white\",\"showbackground\":true,\"ticks\":\"\",\"zerolinecolor\":\"white\"},\"zaxis\":{\"backgroundcolor\":\"#E5ECF6\",\"gridcolor\":\"white\",\"gridwidth\":2,\"linecolor\":\"white\",\"showbackground\":true,\"ticks\":\"\",\"zerolinecolor\":\"white\"}},\"shapedefaults\":{\"line\":{\"color\":\"#2a3f5f\"}},\"ternary\":{\"aaxis\":{\"gridcolor\":\"white\",\"linecolor\":\"white\",\"ticks\":\"\"},\"baxis\":{\"gridcolor\":\"white\",\"linecolor\":\"white\",\"ticks\":\"\"},\"bgcolor\":\"#E5ECF6\",\"caxis\":{\"gridcolor\":\"white\",\"linecolor\":\"white\",\"ticks\":\"\"}},\"title\":{\"x\":0.05},\"xaxis\":{\"automargin\":true,\"gridcolor\":\"white\",\"linecolor\":\"white\",\"ticks\":\"\",\"title\":{\"standoff\":15},\"zerolinecolor\":\"white\",\"zerolinewidth\":2},\"yaxis\":{\"automargin\":true,\"gridcolor\":\"white\",\"linecolor\":\"white\",\"ticks\":\"\",\"title\":{\"standoff\":15},\"zerolinecolor\":\"white\",\"zerolinewidth\":2}}},\"title\":{\"text\":\"Casos en cada una de las regiones de la OMS\"},\"xaxis\":{\"showgrid\":false,\"title\":{\"text\":\"Cases\"}},\"yaxis\":{\"range\":[9.5,-0.5],\"showgrid\":false,\"title\":{\"text\":\"Regi\\u00f3n\"}}},\"margin\":[5,5,5,5],\"name\":\"interactive00754\",\"viewport_update_throttle\":200},\"id\":\"14878\",\"type\":\"panel.models.plotly.PlotlyPlot\"},{\"attributes\":{\"data\":[{\"marker\":{\"color\":\"rgb(30, 118, 255)\"},\"orientation\":\"h\",\"textposition\":\"outside\",\"texttemplate\":\"%{text:,i}\",\"type\":\"bar\"}],\"data_sources\":[{\"id\":\"14866\"}],\"layout\":{\"barmode\":\"stack\",\"plot_bgcolor\":\"white\",\"showlegend\":false,\"template\":{\"data\":{\"bar\":[{\"error_x\":{\"color\":\"#2a3f5f\"},\"error_y\":{\"color\":\"#2a3f5f\"},\"marker\":{\"line\":{\"color\":\"#E5ECF6\",\"width\":0.5},\"pattern\":{\"fillmode\":\"overlay\",\"size\":10,\"solidity\":0.2}},\"type\":\"bar\"}],\"barpolar\":[{\"marker\":{\"line\":{\"color\":\"#E5ECF6\",\"width\":0.5},\"pattern\":{\"fillmode\":\"overlay\",\"size\":10,\"solidity\":0.2}},\"type\":\"barpolar\"}],\"carpet\":[{\"aaxis\":{\"endlinecolor\":\"#2a3f5f\",\"gridcolor\":\"white\",\"linecolor\":\"white\",\"minorgridcolor\":\"white\",\"startlinecolor\":\"#2a3f5f\"},\"baxis\":{\"endlinecolor\":\"#2a3f5f\",\"gridcolor\":\"white\",\"linecolor\":\"white\",\"minorgridcolor\":\"white\",\"startlinecolor\":\"#2a3f5f\"},\"type\":\"carpet\"}],\"choropleth\":[{\"colorbar\":{\"outlinewidth\":0,\"ticks\":\"\"},\"type\":\"choropleth\"}],\"contour\":[{\"colorbar\":{\"outlinewidth\":0,\"ticks\":\"\"},\"colorscale\":[[0.0,\"#0d0887\"],[0.1111111111111111,\"#46039f\"],[0.2222222222222222,\"#7201a8\"],[0.3333333333333333,\"#9c179e\"],[0.4444444444444444,\"#bd3786\"],[0.5555555555555556,\"#d8576b\"],[0.6666666666666666,\"#ed7953\"],[0.7777777777777778,\"#fb9f3a\"],[0.8888888888888888,\"#fdca26\"],[1.0,\"#f0f921\"]],\"type\":\"contour\"}],\"contourcarpet\":[{\"colorbar\":{\"outlinewidth\":0,\"ticks\":\"\"},\"type\":\"contourcarpet\"}],\"heatmap\":[{\"colorbar\":{\"outlinewidth\":0,\"ticks\":\"\"},\"colorscale\":[[0.0,\"#0d0887\"],[0.1111111111111111,\"#46039f\"],[0.2222222222222222,\"#7201a8\"],[0.3333333333333333,\"#9c179e\"],[0.4444444444444444,\"#bd3786\"],[0.5555555555555556,\"#d8576b\"],[0.6666666666666666,\"#ed7953\"],[0.7777777777777778,\"#fb9f3a\"],[0.8888888888888888,\"#fdca26\"],[1.0,\"#f0f921\"]],\"type\":\"heatmap\"}],\"heatmapgl\":[{\"colorbar\":{\"outlinewidth\":0,\"ticks\":\"\"},\"colorscale\":[[0.0,\"#0d0887\"],[0.1111111111111111,\"#46039f\"],[0.2222222222222222,\"#7201a8\"],[0.3333333333333333,\"#9c179e\"],[0.4444444444444444,\"#bd3786\"],[0.5555555555555556,\"#d8576b\"],[0.6666666666666666,\"#ed7953\"],[0.7777777777777778,\"#fb9f3a\"],[0.8888888888888888,\"#fdca26\"],[1.0,\"#f0f921\"]],\"type\":\"heatmapgl\"}],\"histogram\":[{\"marker\":{\"pattern\":{\"fillmode\":\"overlay\",\"size\":10,\"solidity\":0.2}},\"type\":\"histogram\"}],\"histogram2d\":[{\"colorbar\":{\"outlinewidth\":0,\"ticks\":\"\"},\"colorscale\":[[0.0,\"#0d0887\"],[0.1111111111111111,\"#46039f\"],[0.2222222222222222,\"#7201a8\"],[0.3333333333333333,\"#9c179e\"],[0.4444444444444444,\"#bd3786\"],[0.5555555555555556,\"#d8576b\"],[0.6666666666666666,\"#ed7953\"],[0.7777777777777778,\"#fb9f3a\"],[0.8888888888888888,\"#fdca26\"],[1.0,\"#f0f921\"]],\"type\":\"histogram2d\"}],\"histogram2dcontour\":[{\"colorbar\":{\"outlinewidth\":0,\"ticks\":\"\"},\"colorscale\":[[0.0,\"#0d0887\"],[0.1111111111111111,\"#46039f\"],[0.2222222222222222,\"#7201a8\"],[0.3333333333333333,\"#9c179e\"],[0.4444444444444444,\"#bd3786\"],[0.5555555555555556,\"#d8576b\"],[0.6666666666666666,\"#ed7953\"],[0.7777777777777778,\"#fb9f3a\"],[0.8888888888888888,\"#fdca26\"],[1.0,\"#f0f921\"]],\"type\":\"histogram2dcontour\"}],\"mesh3d\":[{\"colorbar\":{\"outlinewidth\":0,\"ticks\":\"\"},\"type\":\"mesh3d\"}],\"parcoords\":[{\"line\":{\"colorbar\":{\"outlinewidth\":0,\"ticks\":\"\"}},\"type\":\"parcoords\"}],\"pie\":[{\"automargin\":true,\"type\":\"pie\"}],\"scatter\":[{\"marker\":{\"colorbar\":{\"outlinewidth\":0,\"ticks\":\"\"}},\"type\":\"scatter\"}],\"scatter3d\":[{\"line\":{\"colorbar\":{\"outlinewidth\":0,\"ticks\":\"\"}},\"marker\":{\"colorbar\":{\"outlinewidth\":0,\"ticks\":\"\"}},\"type\":\"scatter3d\"}],\"scattercarpet\":[{\"marker\":{\"colorbar\":{\"outlinewidth\":0,\"ticks\":\"\"}},\"type\":\"scattercarpet\"}],\"scattergeo\":[{\"marker\":{\"colorbar\":{\"outlinewidth\":0,\"ticks\":\"\"}},\"type\":\"scattergeo\"}],\"scattergl\":[{\"marker\":{\"colorbar\":{\"outlinewidth\":0,\"ticks\":\"\"}},\"type\":\"scattergl\"}],\"scattermapbox\":[{\"marker\":{\"colorbar\":{\"outlinewidth\":0,\"ticks\":\"\"}},\"type\":\"scattermapbox\"}],\"scatterpolar\":[{\"marker\":{\"colorbar\":{\"outlinewidth\":0,\"ticks\":\"\"}},\"type\":\"scatterpolar\"}],\"scatterpolargl\":[{\"marker\":{\"colorbar\":{\"outlinewidth\":0,\"ticks\":\"\"}},\"type\":\"scatterpolargl\"}],\"scatterternary\":[{\"marker\":{\"colorbar\":{\"outlinewidth\":0,\"ticks\":\"\"}},\"type\":\"scatterternary\"}],\"surface\":[{\"colorbar\":{\"outlinewidth\":0,\"ticks\":\"\"},\"colorscale\":[[0.0,\"#0d0887\"],[0.1111111111111111,\"#46039f\"],[0.2222222222222222,\"#7201a8\"],[0.3333333333333333,\"#9c179e\"],[0.4444444444444444,\"#bd3786\"],[0.5555555555555556,\"#d8576b\"],[0.6666666666666666,\"#ed7953\"],[0.7777777777777778,\"#fb9f3a\"],[0.8888888888888888,\"#fdca26\"],[1.0,\"#f0f921\"]],\"type\":\"surface\"}],\"table\":[{\"cells\":{\"fill\":{\"color\":\"#EBF0F8\"},\"line\":{\"color\":\"white\"}},\"header\":{\"fill\":{\"color\":\"#C8D4E3\"},\"line\":{\"color\":\"white\"}},\"type\":\"table\"}]},\"layout\":{\"annotationdefaults\":{\"arrowcolor\":\"#2a3f5f\",\"arrowhead\":0,\"arrowwidth\":1},\"autotypenumbers\":\"strict\",\"coloraxis\":{\"colorbar\":{\"outlinewidth\":0,\"ticks\":\"\"}},\"colorscale\":{\"diverging\":[[0,\"#8e0152\"],[0.1,\"#c51b7d\"],[0.2,\"#de77ae\"],[0.3,\"#f1b6da\"],[0.4,\"#fde0ef\"],[0.5,\"#f7f7f7\"],[0.6,\"#e6f5d0\"],[0.7,\"#b8e186\"],[0.8,\"#7fbc41\"],[0.9,\"#4d9221\"],[1,\"#276419\"]],\"sequential\":[[0.0,\"#0d0887\"],[0.1111111111111111,\"#46039f\"],[0.2222222222222222,\"#7201a8\"],[0.3333333333333333,\"#9c179e\"],[0.4444444444444444,\"#bd3786\"],[0.5555555555555556,\"#d8576b\"],[0.6666666666666666,\"#ed7953\"],[0.7777777777777778,\"#fb9f3a\"],[0.8888888888888888,\"#fdca26\"],[1.0,\"#f0f921\"]],\"sequentialminus\":[[0.0,\"#0d0887\"],[0.1111111111111111,\"#46039f\"],[0.2222222222222222,\"#7201a8\"],[0.3333333333333333,\"#9c179e\"],[0.4444444444444444,\"#bd3786\"],[0.5555555555555556,\"#d8576b\"],[0.6666666666666666,\"#ed7953\"],[0.7777777777777778,\"#fb9f3a\"],[0.8888888888888888,\"#fdca26\"],[1.0,\"#f0f921\"]]},\"colorway\":[\"#636efa\",\"#EF553B\",\"#00cc96\",\"#ab63fa\",\"#FFA15A\",\"#19d3f3\",\"#FF6692\",\"#B6E880\",\"#FF97FF\",\"#FECB52\"],\"font\":{\"color\":\"#2a3f5f\"},\"geo\":{\"bgcolor\":\"white\",\"lakecolor\":\"white\",\"landcolor\":\"#E5ECF6\",\"showlakes\":true,\"showland\":true,\"subunitcolor\":\"white\"},\"hoverlabel\":{\"align\":\"left\"},\"hovermode\":\"closest\",\"mapbox\":{\"style\":\"light\"},\"paper_bgcolor\":\"white\",\"plot_bgcolor\":\"#E5ECF6\",\"polar\":{\"angularaxis\":{\"gridcolor\":\"white\",\"linecolor\":\"white\",\"ticks\":\"\"},\"bgcolor\":\"#E5ECF6\",\"radialaxis\":{\"gridcolor\":\"white\",\"linecolor\":\"white\",\"ticks\":\"\"}},\"scene\":{\"xaxis\":{\"backgroundcolor\":\"#E5ECF6\",\"gridcolor\":\"white\",\"gridwidth\":2,\"linecolor\":\"white\",\"showbackground\":true,\"ticks\":\"\",\"zerolinecolor\":\"white\"},\"yaxis\":{\"backgroundcolor\":\"#E5ECF6\",\"gridcolor\":\"white\",\"gridwidth\":2,\"linecolor\":\"white\",\"showbackground\":true,\"ticks\":\"\",\"zerolinecolor\":\"white\"},\"zaxis\":{\"backgroundcolor\":\"#E5ECF6\",\"gridcolor\":\"white\",\"gridwidth\":2,\"linecolor\":\"white\",\"showbackground\":true,\"ticks\":\"\",\"zerolinecolor\":\"white\"}},\"shapedefaults\":{\"line\":{\"color\":\"#2a3f5f\"}},\"ternary\":{\"aaxis\":{\"gridcolor\":\"white\",\"linecolor\":\"white\",\"ticks\":\"\"},\"baxis\":{\"gridcolor\":\"white\",\"linecolor\":\"white\",\"ticks\":\"\"},\"bgcolor\":\"#E5ECF6\",\"caxis\":{\"gridcolor\":\"white\",\"linecolor\":\"white\",\"ticks\":\"\"}},\"title\":{\"x\":0.05},\"xaxis\":{\"automargin\":true,\"gridcolor\":\"white\",\"linecolor\":\"white\",\"ticks\":\"\",\"title\":{\"standoff\":15},\"zerolinecolor\":\"white\",\"zerolinewidth\":2},\"yaxis\":{\"automargin\":true,\"gridcolor\":\"white\",\"linecolor\":\"white\",\"ticks\":\"\",\"title\":{\"standoff\":15},\"zerolinecolor\":\"white\",\"zerolinewidth\":2}}},\"title\":{\"text\":\"Informe de Deaths por Covid 19\"},\"xaxis\":{\"showgrid\":false,\"title\":{\"text\":\"N\\u00famero de Deaths-\\u00daltimas 24 horas\"}},\"yaxis\":{\"range\":[9.5,-0.5],\"showgrid\":false,\"title\":{\"text\":\"Pa\\u00eds\"}}},\"margin\":[5,5,5,5],\"name\":\"ParamFunction00740\",\"viewport_update_throttle\":200},\"id\":\"14867\",\"type\":\"panel.models.plotly.PlotlyPlot\"},{\"attributes\":{\"data\":{\"text\":[{\"__ndarray__\":\"AAAAALZehkEAAABgLeuAQQAAAKAo3GhBAAAAgNQ7VkEAAAAAKkJEQQAAAAA9nDZBAAAAAABIh0A=\",\"dtype\":\"float64\",\"order\":\"little\",\"shape\":[7]}],\"x\":[[46913216,35481004,13033797,5828434,2655316,1481789,745]],\"y\":[[\"Americas\",\"Europe\",\"South-East Asia\",\"Eastern Mediterranean\",\"Africa\",\"Western Pacific\",\"Other\"]]},\"selected\":{\"id\":\"14884\"},\"selection_policy\":{\"id\":\"14883\"}},\"id\":\"14877\",\"type\":\"ColumnDataSource\"},{\"attributes\":{},\"id\":\"14882\",\"type\":\"Selection\"}],\"root_ids\":[\"14860\",\"14915\"]},\"title\":\"Bokeh Application\",\"version\":\"2.4.1\"}};\n",
       "    var render_items = [{\"docid\":\"4d8a5420-38f0-4999-98db-16af081b4e0d\",\"root_ids\":[\"14860\"],\"roots\":{\"14860\":\"4c4b3a36-1c3e-4735-9abc-746ee41dc19a\"}}];\n",
       "    root.Bokeh.embed.embed_items_notebook(docs_json, render_items);\n",
       "  }\n",
       "  if (root.Bokeh !== undefined && root.Bokeh.Panel !== undefined && ( root['Plotly'] !== undefined)) {\n",
       "    embed_document(root);\n",
       "  } else {\n",
       "    var attempts = 0;\n",
       "    var timer = setInterval(function(root) {\n",
       "      if (root.Bokeh !== undefined && root.Bokeh.Panel !== undefined && (root['Plotly'] !== undefined)) {\n",
       "        clearInterval(timer);\n",
       "        embed_document(root);\n",
       "      } else if (document.readyState == \"complete\") {\n",
       "        attempts++;\n",
       "        if (attempts > 200) {\n",
       "          clearInterval(timer);\n",
       "          console.log(\"Bokeh: ERROR: Unable to run BokehJS code because BokehJS library is missing\");\n",
       "        }\n",
       "      }\n",
       "    }, 25, root)\n",
       "  }\n",
       "})(window);</script>"
      ],
      "text/plain": [
       "Row\n",
       "    [0] Column\n",
       "        [0] Markdown(str)\n",
       "        [1] RadioButtonGroup(button_type='primary', name='Casos_muertes', options=['Cases', 'Deaths'], value='Deaths')\n",
       "        [2] RadioButtonGroup(button_type='primary', name='Periodo', options=['Histórico', ...], value='Últimas 24 horas')\n",
       "        [3] ParamFunction(function)\n",
       "    [1] Column\n",
       "        [0] Column\n",
       "            [0] Column()\n",
       "            [1] Row\n",
       "                [0] Plotly(Figure, name='interactive00748')\n",
       "        [1] Column\n",
       "            [0] Column()\n",
       "            [1] Row\n",
       "                [0] Plotly(Figure, name='interactive00754')"
      ]
     },
     "execution_count": 268,
     "metadata": {
      "application/vnd.holoviews_exec.v0+json": {
       "id": "14860"
      }
     },
     "output_type": "execute_result"
    }
   ],
   "source": [
    "# YOUR CODE HERE\n",
    "tablero_control.servable()"
   ]
  },
  {
   "cell_type": "code",
   "execution_count": 263,
   "metadata": {
    "deletable": false,
    "nbgrader": {
     "cell_type": "code",
     "checksum": "d9ccaf0cc25e56a47dbc7e261aa60feb",
     "grade": true,
     "grade_id": "cell-d380b55145e94427",
     "locked": false,
     "points": 1,
     "schema_version": 3,
     "solution": true,
     "task": false
    }
   },
   "outputs": [
    {
     "name": "stdout",
     "output_type": "stream",
     "text": [
      "Launching server at http://localhost:54807\n"
     ]
    },
    {
     "data": {
      "text/plain": [
       "<bokeh.server.server.Server at 0x24963488700>"
      ]
     },
     "execution_count": 263,
     "metadata": {},
     "output_type": "execute_result"
    },
    {
     "name": "stderr",
     "output_type": "stream",
     "text": [
      "WARNING:bokeh.core.validation.check:W-1002 (EMPTY_LAYOUT): Layout has no children: Column(id='14652', ...)\n",
      "WARNING:bokeh.core.validation.check:W-1002 (EMPTY_LAYOUT): Layout has no children: Column(id='14647', ...)\n"
     ]
    }
   ],
   "source": [
    "tablero_control.show()"
   ]
  },
  {
   "cell_type": "code",
   "execution_count": 249,
   "metadata": {
    "deletable": false,
    "nbgrader": {
     "cell_type": "code",
     "checksum": "439527f1bbb4d53aed1c1ff09c13a87f",
     "grade": true,
     "grade_id": "cell-bd25791f5af50986",
     "locked": false,
     "points": 1,
     "schema_version": 3,
     "solution": true,
     "task": false
    }
   },
   "outputs": [],
   "source": []
  },
  {
   "cell_type": "markdown",
   "metadata": {
    "deletable": false,
    "editable": false,
    "nbgrader": {
     "cell_type": "markdown",
     "checksum": "de64f721f7fe40d7c6818381ffb577ed",
     "grade": false,
     "grade_id": "cell-defb01a22ebae408",
     "locked": true,
     "schema_version": 3,
     "solution": false,
     "task": false
    }
   },
   "source": [
    "## Créditos\n",
    "\n",
    "**Autor(es)**: Juan David Reyes Jaimes, Diego Alejandro Cely Gomez\n",
    "\n",
    "**Última actualización:** 26/08/2021"
   ]
  }
 ],
 "metadata": {
  "kernelspec": {
   "display_name": "Python 3",
   "language": "python",
   "name": "python3"
  },
  "language_info": {
   "codemirror_mode": {
    "name": "ipython",
    "version": 3
   },
   "file_extension": ".py",
   "mimetype": "text/x-python",
   "name": "python",
   "nbconvert_exporter": "python",
   "pygments_lexer": "ipython3",
   "version": "3.8.8"
  }
 },
 "nbformat": 4,
 "nbformat_minor": 4
}
