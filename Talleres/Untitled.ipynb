{
 "cells": [
  {
   "cell_type": "code",
   "execution_count": 1,
   "id": "b038ae10",
   "metadata": {},
   "outputs": [
    {
     "name": "stdout",
     "output_type": "stream",
     "text": [
      "El primer carácter de la cadena de caracteres es: S\n",
      "El último carácter de la cadena de caracteres es: n\n",
      "La palabra a extraer es: Python\n"
     ]
    }
   ],
   "source": [
    "texto = \"Stack Overflow es un portal web muy útil para solucionar dudas de Python\"\n",
    "print(\"El primer carácter de la cadena de caracteres es: \" + texto[0])\n",
    "print(\"El último carácter de la cadena de caracteres es: \" + texto[-1])\n",
    "print(\"La palabra a extraer es: \" + texto[-6:])"
   ]
  },
  {
   "cell_type": "code",
   "execution_count": 2,
   "id": "8fb049fa",
   "metadata": {},
   "outputs": [],
   "source": [
    "texto2 = \"Era#Necesario#Que#El#Hospital#Permaneciese#Abierto#Toda#La#Noche;#Hubo#Que#Establecer#Turnos.\""
   ]
  },
  {
   "cell_type": "code",
   "execution_count": 3,
   "id": "69b269e6",
   "metadata": {},
   "outputs": [
    {
     "name": "stdout",
     "output_type": "stream",
     "text": [
      "Era Necesario Que El Hospital Permaneciese Abierto Toda La Noche; Hubo Que Establecer Turnos.\n"
     ]
    }
   ],
   "source": [
    "texto2 = texto2.replace('#',' ')\n",
    "print(texto2)"
   ]
  },
  {
   "cell_type": "code",
   "execution_count": 4,
   "id": "f33dbb6b",
   "metadata": {},
   "outputs": [
    {
     "name": "stdout",
     "output_type": "stream",
     "text": [
      "['Era Necesario Que El Hospital Permaneciese Abierto Toda La Noche', ' Hubo Que Establecer Turnos.']\n"
     ]
    }
   ],
   "source": [
    "print(texto2.split(';'))"
   ]
  },
  {
   "cell_type": "code",
   "execution_count": 5,
   "id": "446b056e",
   "metadata": {},
   "outputs": [
    {
     "name": "stdout",
     "output_type": "stream",
     "text": [
      "Era Necesario Que El Hospital Permaneciese Abierto Toda La Noche\n"
     ]
    }
   ],
   "source": [
    "texto2 = texto2.split(';')[0]\n",
    "print(texto2)"
   ]
  },
  {
   "cell_type": "code",
   "execution_count": 6,
   "id": "5d686fe3",
   "metadata": {},
   "outputs": [
    {
     "name": "stdout",
     "output_type": "stream",
     "text": [
      "La cadena de caracteres está vacía\n"
     ]
    }
   ],
   "source": [
    "texto3 = \"\"\n",
    "if texto3:\n",
    "    print(\"La cadena de caracteres no esta vacía\")\n",
    "else:\n",
    "    print(\"La cadena de caracteres está vacía\")"
   ]
  },
  {
   "cell_type": "code",
   "execution_count": 7,
   "id": "f4c749a4",
   "metadata": {},
   "outputs": [
    {
     "name": "stdout",
     "output_type": "stream",
     "text": [
      "La cadena de caracteres no está vacía\n"
     ]
    }
   ],
   "source": [
    "texto4 = \"Python\"\n",
    "if texto4:\n",
    "    print(\"La cadena de caracteres no está vacía\")\n",
    "else:\n",
    "    print(\"La cadena de caracteres está vacía\")"
   ]
  },
  {
   "cell_type": "code",
   "execution_count": null,
   "id": "633e5a05",
   "metadata": {},
   "outputs": [],
   "source": []
  }
 ],
 "metadata": {
  "kernelspec": {
   "display_name": "Python 3",
   "language": "python",
   "name": "python3"
  },
  "language_info": {
   "codemirror_mode": {
    "name": "ipython",
    "version": 3
   },
   "file_extension": ".py",
   "mimetype": "text/x-python",
   "name": "python",
   "nbconvert_exporter": "python",
   "pygments_lexer": "ipython3",
   "version": "3.8.8"
  }
 },
 "nbformat": 4,
 "nbformat_minor": 5
}
